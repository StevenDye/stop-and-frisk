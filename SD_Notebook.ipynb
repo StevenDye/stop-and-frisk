{
 "cells": [
  {
   "cell_type": "markdown",
   "metadata": {},
   "source": [
    "## Questions\n",
    "\n",
    "If someone is stopped, can we predict the probability that they will be frisked?\n",
    "\n",
    "Is someone is stopped, can we predict the probability that they will be arrested?\n",
    "\n",
    "If someone is stopped and frisked, can we predict the probability that they will be arrested?\n",
    "\n",
    "How can we minimize the damage that this unconstitional law inflicts on its citizens?\n",
    "\n",
    "What observed characteristics lead to arrests?\n",
    "\n",
    "We chose to look at features that were only available to the officer before the stop was initiated.\n",
    "\n",
    "Our objective is to maximize the precision of stop and frisks procduces."
   ]
  },
  {
   "cell_type": "code",
   "execution_count": 2,
   "metadata": {},
   "outputs": [],
   "source": [
    "import numpy as np\n",
    "import pandas as pd\n",
    "import matplotlib.pyplot as plt\n",
    "import seaborn as sns\n",
    "from sklearn.preprocessing import OneHotEncoder\n",
    "from sklearn import svm\n",
    "from sklearn.ensemble import RandomForestClassifier\n",
    "from sklearn.feature_selection import VarianceThreshold\n",
    "from sklearn.metrics import accuracy_score, balanced_accuracy_score\n",
    "from sklearn.model_selection import train_test_split\n",
    "import data_cleaner as dc\n",
    "import data_modeler as dm\n",
    "import importlib\n",
    "\n",
    "importlib.reload(dc)\n",
    "importlib.reload(dm)\n",
    "np.random.seed(5)"
   ]
  },
  {
   "cell_type": "code",
   "execution_count": 4,
   "metadata": {},
   "outputs": [],
   "source": [
    "df = dc.load_full_sqf()"
   ]
  },
  {
   "cell_type": "code",
   "execution_count": 5,
   "metadata": {},
   "outputs": [],
   "source": [
    "# df = dc.load_full_sqf(force=True)"
   ]
  },
  {
   "cell_type": "code",
   "execution_count": 6,
   "metadata": {},
   "outputs": [],
   "source": [
    "# filespecs = dc.load_filespecs()\n",
    "# pd.options.display.max_rows=112\n",
    "# pd.options.display.max_colwidth=100\n",
    "# pd.options.display.max_columns=113\n",
    "# filespecs[2016][['Variable', 'Label']]"
   ]
  },
  {
   "cell_type": "markdown",
   "metadata": {},
   "source": [
    "Only looked at a 0.1% of the data. We limited our features to data that could only be determined before the stop was initiated."
   ]
  },
  {
   "cell_type": "code",
   "execution_count": 9,
   "metadata": {},
   "outputs": [
    {
     "name": "stderr",
     "output_type": "stream",
     "text": [
      "/Users/stevedye/anaconda3/lib/python3.6/site-packages/sklearn/ensemble/forest.py:245: FutureWarning: The default value of n_estimators will change from 10 in version 0.20 to 100 in 0.22.\n",
      "  \"10 in version 0.20 to 100 in 0.22.\", FutureWarning)\n"
     ]
    },
    {
     "name": "stdout",
     "output_type": "stream",
     "text": [
      "0.5877183713722175\n",
      "0.5150834742180896\n",
      "Train\n",
      " 0    3327\n",
      "1     462\n",
      "Name: arstmade, dtype: int64\n",
      "0    0.878068\n",
      "1    0.121932\n",
      "Name: arstmade, dtype: float64\n",
      "Test\n",
      " 0    1016\n",
      "1     247\n",
      "Name: arstmade, dtype: int64\n",
      "0    0.804434\n",
      "1    0.195566\n",
      "Name: arstmade, dtype: float64\n",
      "0.8923922205797916\n",
      "0.5613100312588803\n"
     ]
    }
   ],
   "source": [
    "df_sample = df.sample(frac=.001)\n",
    "X_pre_so = df_sample[dm.PRE_STOP_OBSERVABLES]\n",
    "y = df_sample.arstmade\n",
    "\n",
    "# Brake up the data into categorical features and Y/N features\n",
    "X_category = X_pre_so.select_dtypes(include='category')\n",
    "X_yn = X_pre_so.select_dtypes(include='int8')\n",
    "\n",
    "# Fill in missing values in X_category and one hot encode categorical features.\n",
    "X_cat_nonan = dm.fill_NaNs(X_category) # fills in NaNs\n",
    "X_ohe, ohe_feat_names = dm.categorical_encoder(X_cat_nonan)\n",
    "X_ohe_df = pd.DataFrame(X_ohe.toarray())\n",
    "X_ohe_df.columns = ohe_feat_names\n",
    "\n",
    "# Merge X_ohe and X_yn\n",
    "X_mergred = np.concatenate((X_ohe_df, X_yn), axis = -1)\n",
    "all_names = ohe_feat_names.tolist() + X_yn.columns.tolist()\n",
    "\n",
    "# Split data\n",
    "merged_split = dm.load_split(X_mergred, y, stratify=y)\n",
    "\n",
    "# run RF\n",
    "merged_rf = dm.run_rf(merged_split, max_depth=2)\n",
    "\n",
    "\"\"\"Make predictions\"\"\"\n",
    "predictions = merged_rf.predict(merged_split['X_train'])\n",
    "\"\"\"Check the accuracy of your model\"\"\"\n",
    "print(balanced_accuracy_score(merged_split['y_train'], predictions))\n",
    "\n",
    "\"\"\"Make predictions\"\"\"\n",
    "predictions = merged_rf.predict(merged_split['X_test'])\n",
    "\"\"\"Check the accuracy of your model\"\"\"\n",
    "print(balanced_accuracy_score(merged_split['y_test'], predictions))\n",
    "\n",
    "\n",
    "# run log\n",
    "lgsplit, lg  = dm.split_and_logit(X_mergred, y)\n",
    "\n",
    "print(balanced_accuracy_score(lgsplit['y_train'], lg.predict(lgsplit['X_train'])))\n",
    "print(balanced_accuracy_score(lgsplit['y_test'], lg.predict(lgsplit['X_test'])))"
   ]
  },
  {
   "cell_type": "markdown",
   "metadata": {},
   "source": [
    "Merge X_ohe and X_yn"
   ]
  },
  {
   "cell_type": "code",
   "execution_count": 10,
   "metadata": {},
   "outputs": [],
   "source": [
    "X_mergred = np.concatenate((X_ohe_df, X_yn), axis = -1)"
   ]
  },
  {
   "cell_type": "code",
   "execution_count": 11,
   "metadata": {},
   "outputs": [],
   "source": [
    "all_names = ohe_feat_names.tolist() + X_yn.columns.tolist()"
   ]
  },
  {
   "cell_type": "code",
   "execution_count": 12,
   "metadata": {},
   "outputs": [
    {
     "name": "stderr",
     "output_type": "stream",
     "text": [
      "/Users/stevedye/anaconda3/lib/python3.6/site-packages/sklearn/ensemble/forest.py:245: FutureWarning: The default value of n_estimators will change from 10 in version 0.20 to 100 in 0.22.\n",
      "  \"10 in version 0.20 to 100 in 0.22.\", FutureWarning)\n"
     ]
    }
   ],
   "source": [
    "merged_split = dm.load_split(X_mergred, y, stratify=y)\n",
    "merged_rf = dm.run_rf(merged_split, max_depth=2)"
   ]
  },
  {
   "cell_type": "code",
   "execution_count": 51,
   "metadata": {},
   "outputs": [
    {
     "data": {
      "text/html": [
       "<div>\n",
       "<style scoped>\n",
       "    .dataframe tbody tr th:only-of-type {\n",
       "        vertical-align: middle;\n",
       "    }\n",
       "\n",
       "    .dataframe tbody tr th {\n",
       "        vertical-align: top;\n",
       "    }\n",
       "\n",
       "    .dataframe thead th {\n",
       "        text-align: right;\n",
       "    }\n",
       "</style>\n",
       "<table border=\"1\" class=\"dataframe\">\n",
       "  <thead>\n",
       "    <tr style=\"text-align: right;\">\n",
       "      <th></th>\n",
       "      <th>0</th>\n",
       "    </tr>\n",
       "  </thead>\n",
       "  <tbody>\n",
       "    <tr>\n",
       "      <th>x0_F</th>\n",
       "      <td>0.000000</td>\n",
       "    </tr>\n",
       "    <tr>\n",
       "      <th>x1_63-E</th>\n",
       "      <td>0.000000</td>\n",
       "    </tr>\n",
       "    <tr>\n",
       "      <th>x1_63-F</th>\n",
       "      <td>0.000000</td>\n",
       "    </tr>\n",
       "    <tr>\n",
       "      <th>x1_63-G</th>\n",
       "      <td>0.000000</td>\n",
       "    </tr>\n",
       "    <tr>\n",
       "      <th>x1_63-H</th>\n",
       "      <td>0.000000</td>\n",
       "    </tr>\n",
       "    <tr>\n",
       "      <th>...</th>\n",
       "      <td>...</td>\n",
       "    </tr>\n",
       "    <tr>\n",
       "      <th>ac_time</th>\n",
       "      <td>0.068113</td>\n",
       "    </tr>\n",
       "    <tr>\n",
       "      <th>offunif</th>\n",
       "      <td>0.071751</td>\n",
       "    </tr>\n",
       "    <tr>\n",
       "      <th>cs_casng</th>\n",
       "      <td>0.098272</td>\n",
       "    </tr>\n",
       "    <tr>\n",
       "      <th>x9_Wednesday</th>\n",
       "      <td>0.100557</td>\n",
       "    </tr>\n",
       "    <tr>\n",
       "      <th>x10_April</th>\n",
       "      <td>0.101230</td>\n",
       "    </tr>\n",
       "  </tbody>\n",
       "</table>\n",
       "<p>843 rows × 1 columns</p>\n",
       "</div>"
      ],
      "text/plain": [
       "                     0\n",
       "x0_F          0.000000\n",
       "x1_63-E       0.000000\n",
       "x1_63-F       0.000000\n",
       "x1_63-G       0.000000\n",
       "x1_63-H       0.000000\n",
       "...                ...\n",
       "ac_time       0.068113\n",
       "offunif       0.071751\n",
       "cs_casng      0.098272\n",
       "x9_Wednesday  0.100557\n",
       "x10_April     0.101230\n",
       "\n",
       "[843 rows x 1 columns]"
      ]
     },
     "execution_count": 51,
     "metadata": {},
     "output_type": "execute_result"
    }
   ],
   "source": [
    "rf_feature_df = pd.DataFrame([merged_rf.feature_importances_], columns=all_names)\n",
    "pd.options.display.max_rows=77\n",
    "rf_feature_df.T.sort_values(0)"
   ]
  },
  {
   "cell_type": "code",
   "execution_count": 42,
   "metadata": {},
   "outputs": [
    {
     "data": {
      "text/plain": [
       "'x9_Wednesday'"
      ]
     },
     "execution_count": 42,
     "metadata": {},
     "output_type": "execute_result"
    }
   ],
   "source": [
    "max(rf_feature_df)"
   ]
  },
  {
   "cell_type": "code",
   "execution_count": 41,
   "metadata": {},
   "outputs": [
    {
     "data": {
      "text/plain": [
       "'ac_incid'"
      ]
     },
     "execution_count": 41,
     "metadata": {},
     "output_type": "execute_result"
    }
   ],
   "source": [
    "min(rf_feature_df)"
   ]
  },
  {
   "cell_type": "code",
   "execution_count": 46,
   "metadata": {},
   "outputs": [
    {
     "data": {
      "text/html": [
       "<div>\n",
       "<style scoped>\n",
       "    .dataframe tbody tr th:only-of-type {\n",
       "        vertical-align: middle;\n",
       "    }\n",
       "\n",
       "    .dataframe tbody tr th {\n",
       "        vertical-align: top;\n",
       "    }\n",
       "\n",
       "    .dataframe thead th {\n",
       "        text-align: right;\n",
       "    }\n",
       "</style>\n",
       "<table border=\"1\" class=\"dataframe\">\n",
       "  <thead>\n",
       "    <tr style=\"text-align: right;\">\n",
       "      <th></th>\n",
       "      <th>x0_F</th>\n",
       "      <th>x0_M</th>\n",
       "      <th>x0_Z</th>\n",
       "      <th>x1_1-</th>\n",
       "      <th>x1_1-A</th>\n",
       "      <th>x1_1-B</th>\n",
       "      <th>x1_1-C</th>\n",
       "      <th>x1_1-E</th>\n",
       "      <th>x1_1-F</th>\n",
       "      <th>x1_1-G</th>\n",
       "      <th>...</th>\n",
       "      <th>cs_furtv</th>\n",
       "      <th>cs_casng</th>\n",
       "      <th>cs_drgtr</th>\n",
       "      <th>ac_incid</th>\n",
       "      <th>ac_stsnd</th>\n",
       "      <th>cs_objcs</th>\n",
       "      <th>offunif</th>\n",
       "      <th>cs_cloth</th>\n",
       "      <th>cs_other</th>\n",
       "      <th>cs_vcrim</th>\n",
       "    </tr>\n",
       "  </thead>\n",
       "  <tbody>\n",
       "  </tbody>\n",
       "</table>\n",
       "<p>0 rows × 843 columns</p>\n",
       "</div>"
      ],
      "text/plain": [
       "Empty DataFrame\n",
       "Columns: [x0_F, x0_M, x0_Z, x1_1-, x1_1-A, x1_1-B, x1_1-C, x1_1-E, x1_1-F, x1_1-G, x1_1-H, x1_10-, x1_10-A, x1_10-B, x1_10-C, x1_10-D, x1_10-F, x1_100-, x1_100-A, x1_100-B, x1_100-C, x1_100-D, x1_100-E, x1_101-, x1_101-A, x1_101-B, x1_101-C, x1_101-D, x1_101-E, x1_101-F, x1_101-G, x1_102-, x1_102-A, x1_102-B, x1_102-C, x1_102-D, x1_102-E, x1_102-F, x1_102-H, x1_102-I, x1_103-, x1_103-A, x1_103-B, x1_103-C, x1_103-D, x1_103-E, x1_103-F, x1_103-G, x1_103-H, x1_103-I, x1_103-J, x1_104-, x1_104-A, x1_104-B, x1_104-C, x1_104-D, x1_104-E, x1_104-F, x1_104-G, x1_104-H, x1_104-I, x1_104-J, x1_104-M, x1_105-, x1_105-A, x1_105-B, x1_105-C, x1_105-D, x1_105-E, x1_105-F, x1_105-G, x1_105-H, x1_105-I, x1_105-J, x1_105-K, x1_105-M, x1_105-N, x1_106-, x1_106-A, x1_106-B, x1_106-C, x1_106-D, x1_106-E, x1_106-F, x1_106-G, x1_106-H, x1_106-I, x1_106-J, x1_106-K, x1_107-, x1_107-A, x1_107-B, x1_107-C, x1_107-D, x1_107-E, x1_107-F, x1_107-G, x1_107-I, x1_107-M, x1_108-, ...]\n",
       "Index: []\n",
       "\n",
       "[0 rows x 843 columns]"
      ]
     },
     "execution_count": 46,
     "metadata": {},
     "output_type": "execute_result"
    }
   ],
   "source": [
    "rf_feature_df.drop(0)"
   ]
  },
  {
   "cell_type": "code",
   "execution_count": 37,
   "metadata": {},
   "outputs": [
    {
     "name": "stdout",
     "output_type": "stream",
     "text": [
      "0.5988148069878839\n"
     ]
    }
   ],
   "source": [
    "\"\"\"Make predictions\"\"\"\n",
    "predictions = merged_rf.predict(merged_split['X_train'])\n",
    "\"\"\"Check the accuracy of your model\"\"\"\n",
    "print(balanced_accuracy_score(merged_split['y_train'], predictions))"
   ]
  },
  {
   "cell_type": "code",
   "execution_count": 15,
   "metadata": {},
   "outputs": [
    {
     "name": "stdout",
     "output_type": "stream",
     "text": [
      "0.5848848267117498\n"
     ]
    }
   ],
   "source": [
    "\"\"\"Make predictions\"\"\"\n",
    "predictions = merged_rf.predict(merged_split['X_test'])\n",
    "\"\"\"Check the accuracy of your model\"\"\"\n",
    "print(balanced_accuracy_score(merged_split['y_test'], predictions))"
   ]
  },
  {
   "cell_type": "code",
   "execution_count": 23,
   "metadata": {},
   "outputs": [
    {
     "data": {
      "image/png": "[encoded data removed]",
      "text/plain": [
       "<Figure size 432x288 with 1 Axes>"
      ]
     },
     "metadata": {},
     "output_type": "display_data"
    },
    {
     "data": {
      "image/png": "[encoded data removed]",
      "text/plain": [
       "<Figure size 432x288 with 1 Axes>"
      ]
     },
     "metadata": {},
     "output_type": "display_data"
    },
    {
     "data": {
      "image/png": "[encoded data removed]",
      "text/plain": [
       "<Figure size 432x288 with 1 Axes>"
      ]
     },
     "metadata": {},
     "output_type": "display_data"
    },
    {
     "data": {
      "image/png": "[encoded data removed]",
      "text/plain": [
       "<Figure size 432x288 with 1 Axes>"
      ]
     },
     "metadata": {},
     "output_type": "display_data"
    },
    {
     "data": {
      "image/png": "[encoded data removed]",
      "text/plain": [
       "<Figure size 432x288 with 1 Axes>"
      ]
     },
     "metadata": {},
     "output_type": "display_data"
    },
    {
     "data": {
      "image/png": "[encoded data removed]",
      "text/plain": [
       "<Figure size 432x288 with 1 Axes>"
      ]
     },
     "metadata": {},
     "output_type": "display_data"
    },
    {
     "data": {
      "image/png": "[encoded data removed]",
      "text/plain": [
       "<Figure size 432x288 with 1 Axes>"
      ]
     },
     "metadata": {},
     "output_type": "display_data"
    },
    {
     "data": {
      "image/png": "[encoded data removed]",
      "text/plain": [
       "<Figure size 432x288 with 1 Axes>"
      ]
     },
     "metadata": {},
     "output_type": "display_data"
    },
    {
     "data": {
      "image/png": "[encoded data removed]",
      "text/plain": [
       "<Figure size 432x288 with 1 Axes>"
      ]
     },
     "metadata": {},
     "output_type": "display_data"
    },
    {
     "data": {
      "image/png": "[encoded data removed]",
      "text/plain": [
       "<Figure size 432x288 with 1 Axes>"
      ]
     },
     "metadata": {},
     "output_type": "display_data"
    },
    {
     "data": {
      "image/png": "[encoded data removed]",
      "text/plain": [
       "<Figure size 432x288 with 1 Axes>"
      ]
     },
     "metadata": {},
     "output_type": "display_data"
    }
   ],
   "source": [
    "#df1 = df.select_dtypes([np.int, np.float])\n",
    "\n",
    "for i, col in enumerate(X_category.columns):\n",
    "    plt.figure(i)\n",
    "    sns.countplot(x=col, data=X_category, color=\"b\")"
   ]
  },
  {
   "cell_type": "code",
   "execution_count": 30,
   "metadata": {},
   "outputs": [
    {
     "ename": "TypeError",
     "evalue": "unsupported operand type(s) for /: 'str' and 'int'",
     "output_type": "error",
     "traceback": [
      "\u001b[0;31m---------------------------------------------------------------------------\u001b[0m",
      "\u001b[0;31mTypeError\u001b[0m                                 Traceback (most recent call last)",
      "\u001b[0;32m<ipython-input-30-f43bc94446cc>\u001b[0m in \u001b[0;36m<module>\u001b[0;34m()\u001b[0m\n\u001b[0;32m----> 1\u001b[0;31m \u001b[0msns\u001b[0m\u001b[0;34m.\u001b[0m\u001b[0mbarplot\u001b[0m\u001b[0;34m(\u001b[0m\u001b[0mx\u001b[0m\u001b[0;34m=\u001b[0m\u001b[0;34m'sex'\u001b[0m\u001b[0;34m,\u001b[0m \u001b[0mdata\u001b[0m\u001b[0;34m=\u001b[0m\u001b[0mX_category\u001b[0m\u001b[0;34m,\u001b[0m \u001b[0mcolor\u001b[0m\u001b[0;34m=\u001b[0m\u001b[0;34m\"b\"\u001b[0m\u001b[0;34m)\u001b[0m\u001b[0;34m\u001b[0m\u001b[0m\n\u001b[0m",
      "\u001b[0;32m~/anaconda3/lib/python3.6/site-packages/seaborn/categorical.py\u001b[0m in \u001b[0;36mbarplot\u001b[0;34m(x, y, hue, data, order, hue_order, estimator, ci, n_boot, units, orient, color, palette, saturation, errcolor, errwidth, capsize, dodge, ax, **kwargs)\u001b[0m\n\u001b[1;32m   3147\u001b[0m                           \u001b[0mestimator\u001b[0m\u001b[0;34m,\u001b[0m \u001b[0mci\u001b[0m\u001b[0;34m,\u001b[0m \u001b[0mn_boot\u001b[0m\u001b[0;34m,\u001b[0m \u001b[0munits\u001b[0m\u001b[0;34m,\u001b[0m\u001b[0;34m\u001b[0m\u001b[0m\n\u001b[1;32m   3148\u001b[0m                           \u001b[0morient\u001b[0m\u001b[0;34m,\u001b[0m \u001b[0mcolor\u001b[0m\u001b[0;34m,\u001b[0m \u001b[0mpalette\u001b[0m\u001b[0;34m,\u001b[0m \u001b[0msaturation\u001b[0m\u001b[0;34m,\u001b[0m\u001b[0;34m\u001b[0m\u001b[0m\n\u001b[0;32m-> 3149\u001b[0;31m                           errcolor, errwidth, capsize, dodge)\n\u001b[0m\u001b[1;32m   3150\u001b[0m \u001b[0;34m\u001b[0m\u001b[0m\n\u001b[1;32m   3151\u001b[0m     \u001b[0;32mif\u001b[0m \u001b[0max\u001b[0m \u001b[0;32mis\u001b[0m \u001b[0;32mNone\u001b[0m\u001b[0;34m:\u001b[0m\u001b[0;34m\u001b[0m\u001b[0m\n",
      "\u001b[0;32m~/anaconda3/lib/python3.6/site-packages/seaborn/categorical.py\u001b[0m in \u001b[0;36m__init__\u001b[0;34m(self, x, y, hue, data, order, hue_order, estimator, ci, n_boot, units, orient, color, palette, saturation, errcolor, errwidth, capsize, dodge)\u001b[0m\n\u001b[1;32m   1607\u001b[0m                                  order, hue_order, units)\n\u001b[1;32m   1608\u001b[0m         \u001b[0mself\u001b[0m\u001b[0;34m.\u001b[0m\u001b[0mestablish_colors\u001b[0m\u001b[0;34m(\u001b[0m\u001b[0mcolor\u001b[0m\u001b[0;34m,\u001b[0m \u001b[0mpalette\u001b[0m\u001b[0;34m,\u001b[0m \u001b[0msaturation\u001b[0m\u001b[0;34m)\u001b[0m\u001b[0;34m\u001b[0m\u001b[0m\n\u001b[0;32m-> 1609\u001b[0;31m         \u001b[0mself\u001b[0m\u001b[0;34m.\u001b[0m\u001b[0mestimate_statistic\u001b[0m\u001b[0;34m(\u001b[0m\u001b[0mestimator\u001b[0m\u001b[0;34m,\u001b[0m \u001b[0mci\u001b[0m\u001b[0;34m,\u001b[0m \u001b[0mn_boot\u001b[0m\u001b[0;34m)\u001b[0m\u001b[0;34m\u001b[0m\u001b[0m\n\u001b[0m\u001b[1;32m   1610\u001b[0m \u001b[0;34m\u001b[0m\u001b[0m\n\u001b[1;32m   1611\u001b[0m         \u001b[0mself\u001b[0m\u001b[0;34m.\u001b[0m\u001b[0mdodge\u001b[0m \u001b[0;34m=\u001b[0m \u001b[0mdodge\u001b[0m\u001b[0;34m\u001b[0m\u001b[0m\n",
      "\u001b[0;32m~/anaconda3/lib/python3.6/site-packages/seaborn/categorical.py\u001b[0m in \u001b[0;36mestimate_statistic\u001b[0;34m(self, estimator, ci, n_boot)\u001b[0m\n\u001b[1;32m   1491\u001b[0m                     \u001b[0mstatistic\u001b[0m\u001b[0;34m.\u001b[0m\u001b[0mappend\u001b[0m\u001b[0;34m(\u001b[0m\u001b[0mnp\u001b[0m\u001b[0;34m.\u001b[0m\u001b[0mnan\u001b[0m\u001b[0;34m)\u001b[0m\u001b[0;34m\u001b[0m\u001b[0m\n\u001b[1;32m   1492\u001b[0m                 \u001b[0;32melse\u001b[0m\u001b[0;34m:\u001b[0m\u001b[0;34m\u001b[0m\u001b[0m\n\u001b[0;32m-> 1493\u001b[0;31m                     \u001b[0mstatistic\u001b[0m\u001b[0;34m.\u001b[0m\u001b[0mappend\u001b[0m\u001b[0;34m(\u001b[0m\u001b[0mestimator\u001b[0m\u001b[0;34m(\u001b[0m\u001b[0mstat_data\u001b[0m\u001b[0;34m)\u001b[0m\u001b[0;34m)\u001b[0m\u001b[0;34m\u001b[0m\u001b[0m\n\u001b[0m\u001b[1;32m   1494\u001b[0m \u001b[0;34m\u001b[0m\u001b[0m\n\u001b[1;32m   1495\u001b[0m                 \u001b[0;31m# Get a confidence interval for this estimate\u001b[0m\u001b[0;34m\u001b[0m\u001b[0;34m\u001b[0m\u001b[0m\n",
      "\u001b[0;32m<__array_function__ internals>\u001b[0m in \u001b[0;36mmean\u001b[0;34m(*args, **kwargs)\u001b[0m\n",
      "\u001b[0;32m~/anaconda3/lib/python3.6/site-packages/numpy/core/fromnumeric.py\u001b[0m in \u001b[0;36mmean\u001b[0;34m(a, axis, dtype, out, keepdims)\u001b[0m\n\u001b[1;32m   3255\u001b[0m \u001b[0;34m\u001b[0m\u001b[0m\n\u001b[1;32m   3256\u001b[0m     return _methods._mean(a, axis=axis, dtype=dtype,\n\u001b[0;32m-> 3257\u001b[0;31m                           out=out, **kwargs)\n\u001b[0m\u001b[1;32m   3258\u001b[0m \u001b[0;34m\u001b[0m\u001b[0m\n\u001b[1;32m   3259\u001b[0m \u001b[0;34m\u001b[0m\u001b[0m\n",
      "\u001b[0;32m~/anaconda3/lib/python3.6/site-packages/numpy/core/_methods.py\u001b[0m in \u001b[0;36m_mean\u001b[0;34m(a, axis, dtype, out, keepdims)\u001b[0m\n\u001b[1;32m    161\u001b[0m             \u001b[0mret\u001b[0m \u001b[0;34m=\u001b[0m \u001b[0mret\u001b[0m\u001b[0;34m.\u001b[0m\u001b[0mdtype\u001b[0m\u001b[0;34m.\u001b[0m\u001b[0mtype\u001b[0m\u001b[0;34m(\u001b[0m\u001b[0mret\u001b[0m \u001b[0;34m/\u001b[0m \u001b[0mrcount\u001b[0m\u001b[0;34m)\u001b[0m\u001b[0;34m\u001b[0m\u001b[0m\n\u001b[1;32m    162\u001b[0m     \u001b[0;32melse\u001b[0m\u001b[0;34m:\u001b[0m\u001b[0;34m\u001b[0m\u001b[0m\n\u001b[0;32m--> 163\u001b[0;31m         \u001b[0mret\u001b[0m \u001b[0;34m=\u001b[0m \u001b[0mret\u001b[0m \u001b[0;34m/\u001b[0m \u001b[0mrcount\u001b[0m\u001b[0;34m\u001b[0m\u001b[0m\n\u001b[0m\u001b[1;32m    164\u001b[0m \u001b[0;34m\u001b[0m\u001b[0m\n\u001b[1;32m    165\u001b[0m     \u001b[0;32mreturn\u001b[0m \u001b[0mret\u001b[0m\u001b[0;34m\u001b[0m\u001b[0m\n",
      "\u001b[0;31mTypeError\u001b[0m: unsupported operand type(s) for /: 'str' and 'int'"
     ]
    }
   ],
   "source": [
    "sns.barplot(x='sex', data=X_category, color=\"b\")"
   ]
  },
  {
   "cell_type": "code",
   "execution_count": 27,
   "metadata": {},
   "outputs": [
    {
     "ename": "TypeError",
     "evalue": "unsupported operand type(s) for /: 'str' and 'int'",
     "output_type": "error",
     "traceback": [
      "\u001b[0;31m---------------------------------------------------------------------------\u001b[0m",
      "\u001b[0;31mTypeError\u001b[0m                                 Traceback (most recent call last)",
      "\u001b[0;32m<ipython-input-27-2d9bff4d1cab>\u001b[0m in \u001b[0;36m<module>\u001b[0;34m()\u001b[0m\n\u001b[0;32m----> 1\u001b[0;31m \u001b[0msns\u001b[0m\u001b[0;34m.\u001b[0m\u001b[0mdistplot\u001b[0m\u001b[0;34m(\u001b[0m\u001b[0mX_category\u001b[0m\u001b[0;34m[\u001b[0m\u001b[0;34m'sex'\u001b[0m\u001b[0;34m]\u001b[0m\u001b[0;34m)\u001b[0m\u001b[0;34m\u001b[0m\u001b[0m\n\u001b[0m",
      "\u001b[0;32m~/anaconda3/lib/python3.6/site-packages/seaborn/distributions.py\u001b[0m in \u001b[0;36mdistplot\u001b[0;34m(a, bins, hist, kde, rug, fit, hist_kws, kde_kws, rug_kws, fit_kws, color, vertical, norm_hist, axlabel, label, ax)\u001b[0m\n\u001b[1;32m    196\u001b[0m             \u001b[0mline\u001b[0m\u001b[0;34m,\u001b[0m \u001b[0;34m=\u001b[0m \u001b[0max\u001b[0m\u001b[0;34m.\u001b[0m\u001b[0mplot\u001b[0m\u001b[0;34m(\u001b[0m\u001b[0;36m0\u001b[0m\u001b[0;34m,\u001b[0m \u001b[0ma\u001b[0m\u001b[0;34m.\u001b[0m\u001b[0mmean\u001b[0m\u001b[0;34m(\u001b[0m\u001b[0;34m)\u001b[0m\u001b[0;34m)\u001b[0m\u001b[0;34m\u001b[0m\u001b[0m\n\u001b[1;32m    197\u001b[0m         \u001b[0;32melse\u001b[0m\u001b[0;34m:\u001b[0m\u001b[0;34m\u001b[0m\u001b[0m\n\u001b[0;32m--> 198\u001b[0;31m             \u001b[0mline\u001b[0m\u001b[0;34m,\u001b[0m \u001b[0;34m=\u001b[0m \u001b[0max\u001b[0m\u001b[0;34m.\u001b[0m\u001b[0mplot\u001b[0m\u001b[0;34m(\u001b[0m\u001b[0ma\u001b[0m\u001b[0;34m.\u001b[0m\u001b[0mmean\u001b[0m\u001b[0;34m(\u001b[0m\u001b[0;34m)\u001b[0m\u001b[0;34m,\u001b[0m \u001b[0;36m0\u001b[0m\u001b[0;34m)\u001b[0m\u001b[0;34m\u001b[0m\u001b[0m\n\u001b[0m\u001b[1;32m    199\u001b[0m         \u001b[0mcolor\u001b[0m \u001b[0;34m=\u001b[0m \u001b[0mline\u001b[0m\u001b[0;34m.\u001b[0m\u001b[0mget_color\u001b[0m\u001b[0;34m(\u001b[0m\u001b[0;34m)\u001b[0m\u001b[0;34m\u001b[0m\u001b[0m\n\u001b[1;32m    200\u001b[0m         \u001b[0mline\u001b[0m\u001b[0;34m.\u001b[0m\u001b[0mremove\u001b[0m\u001b[0;34m(\u001b[0m\u001b[0;34m)\u001b[0m\u001b[0;34m\u001b[0m\u001b[0m\n",
      "\u001b[0;32m~/anaconda3/lib/python3.6/site-packages/numpy/core/_methods.py\u001b[0m in \u001b[0;36m_mean\u001b[0;34m(a, axis, dtype, out, keepdims)\u001b[0m\n\u001b[1;32m    161\u001b[0m             \u001b[0mret\u001b[0m \u001b[0;34m=\u001b[0m \u001b[0mret\u001b[0m\u001b[0;34m.\u001b[0m\u001b[0mdtype\u001b[0m\u001b[0;34m.\u001b[0m\u001b[0mtype\u001b[0m\u001b[0;34m(\u001b[0m\u001b[0mret\u001b[0m \u001b[0;34m/\u001b[0m \u001b[0mrcount\u001b[0m\u001b[0;34m)\u001b[0m\u001b[0;34m\u001b[0m\u001b[0m\n\u001b[1;32m    162\u001b[0m     \u001b[0;32melse\u001b[0m\u001b[0;34m:\u001b[0m\u001b[0;34m\u001b[0m\u001b[0m\n\u001b[0;32m--> 163\u001b[0;31m         \u001b[0mret\u001b[0m \u001b[0;34m=\u001b[0m \u001b[0mret\u001b[0m \u001b[0;34m/\u001b[0m \u001b[0mrcount\u001b[0m\u001b[0;34m\u001b[0m\u001b[0m\n\u001b[0m\u001b[1;32m    164\u001b[0m \u001b[0;34m\u001b[0m\u001b[0m\n\u001b[1;32m    165\u001b[0m     \u001b[0;32mreturn\u001b[0m \u001b[0mret\u001b[0m\u001b[0;34m\u001b[0m\u001b[0m\n",
      "\u001b[0;31mTypeError\u001b[0m: unsupported operand type(s) for /: 'str' and 'int'"
     ]
    },
    {
     "data": {
      "image/png": "[encoded data removed]",
      "text/plain": [
       "<Figure size 432x288 with 1 Axes>"
      ]
     },
     "metadata": {},
     "output_type": "display_data"
    }
   ],
   "source": [
    "sns.distplot(X_category['sex'])"
   ]
  },
  {
   "cell_type": "code",
   "execution_count": null,
   "metadata": {},
   "outputs": [],
   "source": [
    "lgsplit, lg  = dm.split_and_logit(X_mergred, y)"
   ]
  },
  {
   "cell_type": "code",
   "execution_count": 36,
   "metadata": {},
   "outputs": [
    {
     "name": "stdout",
     "output_type": "stream",
     "text": [
      "0.8756095163417817\n"
     ]
    },
    {
     "data": {
      "text/plain": [
       "0.5792582535066713"
      ]
     },
     "execution_count": 36,
     "metadata": {},
     "output_type": "execute_result"
    }
   ],
   "source": [
    "print(balanced_accuracy_score(lgsplit['y_train'], lg.predict(lgsplit['X_train'])))\n",
    "balanced_accuracy_score(lgsplit['y_test'], lg.predict(lgsplit['X_test']))"
   ]
  },
  {
   "cell_type": "markdown",
   "metadata": {},
   "source": [
    "# Everything after this point is garbage"
   ]
  },
  {
   "cell_type": "markdown",
   "metadata": {},
   "source": [
    "## Data Cleaning\n",
    "\n",
    "zeros were used to fill in missing data.\n",
    "\n",
    "The data was separated into pre-stop features and during-stop features"
   ]
  },
  {
   "cell_type": "code",
   "execution_count": 9,
   "metadata": {},
   "outputs": [
    {
     "data": {
      "text/plain": [
       "Index(['year', 'pct', 'ser_num', 'datestop', 'timestop', 'recstat', 'inout',\n",
       "       'trhsloc', 'perobs', 'crimsusp',\n",
       "       ...\n",
       "       'dettypcm', 'linecm', 'detailcm', 'datetimestop', 'height', 'wepfound',\n",
       "       'forceuse', 'month', 'day', 'detail1_'],\n",
       "      dtype='object', length=118)"
      ]
     },
     "execution_count": 9,
     "metadata": {},
     "output_type": "execute_result"
    }
   ],
   "source": [
    "df_sample = df.sample(frac=.01)\n",
    "df_sample.columns"
   ]
  },
  {
   "cell_type": "code",
   "execution_count": 10,
   "metadata": {},
   "outputs": [
    {
     "data": {
      "text/html": [
       "<div>\n",
       "<style scoped>\n",
       "    .dataframe tbody tr th:only-of-type {\n",
       "        vertical-align: middle;\n",
       "    }\n",
       "\n",
       "    .dataframe tbody tr th {\n",
       "        vertical-align: top;\n",
       "    }\n",
       "\n",
       "    .dataframe thead th {\n",
       "        text-align: right;\n",
       "    }\n",
       "</style>\n",
       "<table border=\"1\" class=\"dataframe\">\n",
       "  <thead>\n",
       "    <tr style=\"text-align: right;\">\n",
       "      <th></th>\n",
       "      <th>recstat</th>\n",
       "      <th>inout</th>\n",
       "      <th>trhsloc</th>\n",
       "      <th>typeofid</th>\n",
       "      <th>officrid</th>\n",
       "      <th>offverb</th>\n",
       "      <th>offshld</th>\n",
       "      <th>sex</th>\n",
       "      <th>race</th>\n",
       "      <th>haircolr</th>\n",
       "      <th>eyecolor</th>\n",
       "      <th>build</th>\n",
       "      <th>addrtyp</th>\n",
       "      <th>rescode</th>\n",
       "      <th>city</th>\n",
       "      <th>sector</th>\n",
       "      <th>dettypcm</th>\n",
       "      <th>forceuse</th>\n",
       "      <th>month</th>\n",
       "      <th>day</th>\n",
       "    </tr>\n",
       "  </thead>\n",
       "  <tbody>\n",
       "    <tr>\n",
       "      <th>3657824</th>\n",
       "      <td>A</td>\n",
       "      <td>O</td>\n",
       "      <td>P</td>\n",
       "      <td>P</td>\n",
       "      <td>NaN</td>\n",
       "      <td>NaN</td>\n",
       "      <td>NaN</td>\n",
       "      <td>M</td>\n",
       "      <td>B</td>\n",
       "      <td>BK</td>\n",
       "      <td>BR</td>\n",
       "      <td>T</td>\n",
       "      <td>R</td>\n",
       "      <td>NaN</td>\n",
       "      <td>BRONX</td>\n",
       "      <td>T</td>\n",
       "      <td>CM</td>\n",
       "      <td>NaN</td>\n",
       "      <td>NaN</td>\n",
       "      <td>NaN</td>\n",
       "    </tr>\n",
       "    <tr>\n",
       "      <th>1884111</th>\n",
       "      <td>A</td>\n",
       "      <td>I</td>\n",
       "      <td>NaN</td>\n",
       "      <td>P</td>\n",
       "      <td>NaN</td>\n",
       "      <td>NaN</td>\n",
       "      <td>NaN</td>\n",
       "      <td>M</td>\n",
       "      <td>B</td>\n",
       "      <td>BK</td>\n",
       "      <td>BR</td>\n",
       "      <td>M</td>\n",
       "      <td>L</td>\n",
       "      <td>NaN</td>\n",
       "      <td>MANHATTAN</td>\n",
       "      <td>J</td>\n",
       "      <td>CM</td>\n",
       "      <td>NaN</td>\n",
       "      <td>NaN</td>\n",
       "      <td>NaN</td>\n",
       "    </tr>\n",
       "    <tr>\n",
       "      <th>4174492</th>\n",
       "      <td>1</td>\n",
       "      <td>I</td>\n",
       "      <td>T</td>\n",
       "      <td>V</td>\n",
       "      <td>I</td>\n",
       "      <td>V</td>\n",
       "      <td>S</td>\n",
       "      <td>M</td>\n",
       "      <td>B</td>\n",
       "      <td>BK</td>\n",
       "      <td>BR</td>\n",
       "      <td>T</td>\n",
       "      <td>R</td>\n",
       "      <td>NaN</td>\n",
       "      <td>MANHATTAN</td>\n",
       "      <td>F</td>\n",
       "      <td>CM</td>\n",
       "      <td>NaN</td>\n",
       "      <td>NaN</td>\n",
       "      <td>NaN</td>\n",
       "    </tr>\n",
       "    <tr>\n",
       "      <th>1497686</th>\n",
       "      <td>A</td>\n",
       "      <td>O</td>\n",
       "      <td>NaN</td>\n",
       "      <td>P</td>\n",
       "      <td>NaN</td>\n",
       "      <td>V</td>\n",
       "      <td>S</td>\n",
       "      <td>M</td>\n",
       "      <td>W</td>\n",
       "      <td>BL</td>\n",
       "      <td>BL</td>\n",
       "      <td>M</td>\n",
       "      <td>L</td>\n",
       "      <td>NaN</td>\n",
       "      <td>QUEENS</td>\n",
       "      <td>K</td>\n",
       "      <td>CM</td>\n",
       "      <td>NaN</td>\n",
       "      <td>NaN</td>\n",
       "      <td>NaN</td>\n",
       "    </tr>\n",
       "    <tr>\n",
       "      <th>2073468</th>\n",
       "      <td>A</td>\n",
       "      <td>O</td>\n",
       "      <td>NaN</td>\n",
       "      <td>P</td>\n",
       "      <td>NaN</td>\n",
       "      <td>NaN</td>\n",
       "      <td>NaN</td>\n",
       "      <td>M</td>\n",
       "      <td>W</td>\n",
       "      <td>GY</td>\n",
       "      <td>BL</td>\n",
       "      <td>M</td>\n",
       "      <td>L</td>\n",
       "      <td>NaN</td>\n",
       "      <td>QUEENS</td>\n",
       "      <td>E</td>\n",
       "      <td>CM</td>\n",
       "      <td>NaN</td>\n",
       "      <td>NaN</td>\n",
       "      <td>NaN</td>\n",
       "    </tr>\n",
       "  </tbody>\n",
       "</table>\n",
       "</div>"
      ],
      "text/plain": [
       "        recstat inout trhsloc typeofid officrid offverb offshld sex race  \\\n",
       "3657824       A     O       P        P      NaN     NaN     NaN   M    B   \n",
       "1884111       A     I     NaN        P      NaN     NaN     NaN   M    B   \n",
       "4174492       1     I       T        V        I       V       S   M    B   \n",
       "1497686       A     O     NaN        P      NaN       V       S   M    W   \n",
       "2073468       A     O     NaN        P      NaN     NaN     NaN   M    W   \n",
       "\n",
       "        haircolr eyecolor build addrtyp rescode       city sector dettypcm  \\\n",
       "3657824       BK       BR     T       R     NaN      BRONX      T       CM   \n",
       "1884111       BK       BR     M       L     NaN  MANHATTAN      J       CM   \n",
       "4174492       BK       BR     T       R     NaN  MANHATTAN      F       CM   \n",
       "1497686       BL       BL     M       L     NaN     QUEENS      K       CM   \n",
       "2073468       GY       BL     M       L     NaN     QUEENS      E       CM   \n",
       "\n",
       "        forceuse month  day  \n",
       "3657824      NaN   NaN  NaN  \n",
       "1884111      NaN   NaN  NaN  \n",
       "4174492      NaN   NaN  NaN  \n",
       "1497686      NaN   NaN  NaN  \n",
       "2073468      NaN   NaN  NaN  "
      ]
     },
     "execution_count": 10,
     "metadata": {},
     "output_type": "execute_result"
    }
   ],
   "source": [
    "X_category = df_sample.select_dtypes(include='category')\n",
    "y = df_sample.arstmade\n",
    "X_category.head()"
   ]
  },
  {
   "cell_type": "code",
   "execution_count": 12,
   "metadata": {},
   "outputs": [
    {
     "data": {
      "text/html": [
       "<div>\n",
       "<style scoped>\n",
       "    .dataframe tbody tr th:only-of-type {\n",
       "        vertical-align: middle;\n",
       "    }\n",
       "\n",
       "    .dataframe tbody tr th {\n",
       "        vertical-align: top;\n",
       "    }\n",
       "\n",
       "    .dataframe thead th {\n",
       "        text-align: right;\n",
       "    }\n",
       "</style>\n",
       "<table border=\"1\" class=\"dataframe\">\n",
       "  <thead>\n",
       "    <tr style=\"text-align: right;\">\n",
       "      <th></th>\n",
       "      <th>explnstp</th>\n",
       "      <th>othpers</th>\n",
       "      <th>arstmade</th>\n",
       "      <th>sumissue</th>\n",
       "      <th>offunif</th>\n",
       "      <th>frisked</th>\n",
       "      <th>searched</th>\n",
       "      <th>contrabn</th>\n",
       "      <th>adtlrept</th>\n",
       "      <th>pistol</th>\n",
       "      <th>...</th>\n",
       "      <th>rf_knowl</th>\n",
       "      <th>ac_stsnd</th>\n",
       "      <th>ac_other</th>\n",
       "      <th>sb_hdobj</th>\n",
       "      <th>sb_outln</th>\n",
       "      <th>sb_admis</th>\n",
       "      <th>sb_other</th>\n",
       "      <th>rf_furt</th>\n",
       "      <th>rf_bulg</th>\n",
       "      <th>wepfound</th>\n",
       "    </tr>\n",
       "  </thead>\n",
       "  <tbody>\n",
       "    <tr>\n",
       "      <th>3657824</th>\n",
       "      <td>1</td>\n",
       "      <td>0</td>\n",
       "      <td>0</td>\n",
       "      <td>0</td>\n",
       "      <td>1</td>\n",
       "      <td>1</td>\n",
       "      <td>0</td>\n",
       "      <td>0</td>\n",
       "      <td>0</td>\n",
       "      <td>0</td>\n",
       "      <td>...</td>\n",
       "      <td>0</td>\n",
       "      <td>0</td>\n",
       "      <td>0</td>\n",
       "      <td>0</td>\n",
       "      <td>0</td>\n",
       "      <td>0</td>\n",
       "      <td>0</td>\n",
       "      <td>1</td>\n",
       "      <td>0</td>\n",
       "      <td>0</td>\n",
       "    </tr>\n",
       "    <tr>\n",
       "      <th>1884111</th>\n",
       "      <td>1</td>\n",
       "      <td>1</td>\n",
       "      <td>0</td>\n",
       "      <td>0</td>\n",
       "      <td>1</td>\n",
       "      <td>1</td>\n",
       "      <td>0</td>\n",
       "      <td>0</td>\n",
       "      <td>0</td>\n",
       "      <td>0</td>\n",
       "      <td>...</td>\n",
       "      <td>0</td>\n",
       "      <td>0</td>\n",
       "      <td>0</td>\n",
       "      <td>0</td>\n",
       "      <td>0</td>\n",
       "      <td>0</td>\n",
       "      <td>0</td>\n",
       "      <td>0</td>\n",
       "      <td>0</td>\n",
       "      <td>0</td>\n",
       "    </tr>\n",
       "    <tr>\n",
       "      <th>4174492</th>\n",
       "      <td>1</td>\n",
       "      <td>0</td>\n",
       "      <td>0</td>\n",
       "      <td>0</td>\n",
       "      <td>0</td>\n",
       "      <td>1</td>\n",
       "      <td>0</td>\n",
       "      <td>0</td>\n",
       "      <td>0</td>\n",
       "      <td>0</td>\n",
       "      <td>...</td>\n",
       "      <td>0</td>\n",
       "      <td>0</td>\n",
       "      <td>0</td>\n",
       "      <td>0</td>\n",
       "      <td>0</td>\n",
       "      <td>0</td>\n",
       "      <td>0</td>\n",
       "      <td>1</td>\n",
       "      <td>0</td>\n",
       "      <td>0</td>\n",
       "    </tr>\n",
       "    <tr>\n",
       "      <th>1497686</th>\n",
       "      <td>1</td>\n",
       "      <td>1</td>\n",
       "      <td>1</td>\n",
       "      <td>0</td>\n",
       "      <td>0</td>\n",
       "      <td>1</td>\n",
       "      <td>1</td>\n",
       "      <td>0</td>\n",
       "      <td>0</td>\n",
       "      <td>0</td>\n",
       "      <td>...</td>\n",
       "      <td>0</td>\n",
       "      <td>0</td>\n",
       "      <td>0</td>\n",
       "      <td>0</td>\n",
       "      <td>0</td>\n",
       "      <td>0</td>\n",
       "      <td>1</td>\n",
       "      <td>0</td>\n",
       "      <td>0</td>\n",
       "      <td>0</td>\n",
       "    </tr>\n",
       "    <tr>\n",
       "      <th>2073468</th>\n",
       "      <td>1</td>\n",
       "      <td>0</td>\n",
       "      <td>0</td>\n",
       "      <td>0</td>\n",
       "      <td>1</td>\n",
       "      <td>1</td>\n",
       "      <td>0</td>\n",
       "      <td>0</td>\n",
       "      <td>0</td>\n",
       "      <td>0</td>\n",
       "      <td>...</td>\n",
       "      <td>0</td>\n",
       "      <td>0</td>\n",
       "      <td>1</td>\n",
       "      <td>0</td>\n",
       "      <td>0</td>\n",
       "      <td>0</td>\n",
       "      <td>0</td>\n",
       "      <td>0</td>\n",
       "      <td>0</td>\n",
       "      <td>0</td>\n",
       "    </tr>\n",
       "  </tbody>\n",
       "</table>\n",
       "<p>5 rows × 59 columns</p>\n",
       "</div>"
      ],
      "text/plain": [
       "         explnstp  othpers  arstmade  sumissue  offunif  frisked  searched  \\\n",
       "3657824         1        0         0         0        1        1         0   \n",
       "1884111         1        1         0         0        1        1         0   \n",
       "4174492         1        0         0         0        0        1         0   \n",
       "1497686         1        1         1         0        0        1         1   \n",
       "2073468         1        0         0         0        1        1         0   \n",
       "\n",
       "         contrabn  adtlrept  pistol  ...  rf_knowl  ac_stsnd  ac_other  \\\n",
       "3657824         0         0       0  ...         0         0         0   \n",
       "1884111         0         0       0  ...         0         0         0   \n",
       "4174492         0         0       0  ...         0         0         0   \n",
       "1497686         0         0       0  ...         0         0         0   \n",
       "2073468         0         0       0  ...         0         0         1   \n",
       "\n",
       "         sb_hdobj  sb_outln  sb_admis  sb_other  rf_furt  rf_bulg  wepfound  \n",
       "3657824         0         0         0         0        1        0         0  \n",
       "1884111         0         0         0         0        0        0         0  \n",
       "4174492         0         0         0         0        1        0         0  \n",
       "1497686         0         0         0         1        0        0         0  \n",
       "2073468         0         0         0         0        0        0         0  \n",
       "\n",
       "[5 rows x 59 columns]"
      ]
     },
     "execution_count": 12,
     "metadata": {},
     "output_type": "execute_result"
    }
   ],
   "source": [
    "X_yn = df_sample.select_dtypes(include='int8')\n",
    "X_yn.head()"
   ]
  },
  {
   "cell_type": "code",
   "execution_count": 56,
   "metadata": {},
   "outputs": [
    {
     "name": "stderr",
     "output_type": "stream",
     "text": [
      "/Users/stevedye/anaconda3/lib/python3.6/site-packages/sklearn/ensemble/forest.py:245: FutureWarning: The default value of n_estimators will change from 10 in version 0.20 to 100 in 0.22.\n",
      "  \"10 in version 0.20 to 100 in 0.22.\", FutureWarning)\n"
     ]
    },
    {
     "data": {
      "text/plain": [
       "array([0.        , 0.        , 0.        , 0.12522809, 0.        ,\n",
       "       0.03404644, 0.00372565, 0.00248739, 0.03915427, 0.        ,\n",
       "       0.        , 0.        , 0.01539468, 0.        , 0.        ,\n",
       "       0.        , 0.        , 0.00150529, 0.        , 0.        ,\n",
       "       0.        , 0.14217938, 0.02959635, 0.        , 0.        ,\n",
       "       0.011777  , 0.        , 0.        , 0.        , 0.00451466,\n",
       "       0.        , 0.        , 0.06355916, 0.08270336, 0.04746247,\n",
       "       0.        , 0.        , 0.04818323, 0.        , 0.        ,\n",
       "       0.        , 0.        , 0.        , 0.        , 0.        ,\n",
       "       0.        , 0.        , 0.        , 0.03735241, 0.        ,\n",
       "       0.        , 0.        , 0.        , 0.        , 0.        ,\n",
       "       0.        , 0.        , 0.0480778 , 0.09267573, 0.04809112,\n",
       "       0.12228553, 0.        ])"
      ]
     },
     "execution_count": 56,
     "metadata": {},
     "output_type": "execute_result"
    }
   ],
   "source": [
    "merged_split = dm.load_split(X_ohe_df, y, stratify=y)\n",
    "merged_rf = dm.run_rf(merged_split)\n",
    "merged_rf.feature_importances_"
   ]
  },
  {
   "cell_type": "code",
   "execution_count": 11,
   "metadata": {},
   "outputs": [],
   "source": [
    "X_cat_nonan = dm.fill_NaNs(X_category) # fills in NaNs\n",
    "X_ohe = dm.categorical_encoder(X_cat_nonan) # One-hot encodes and fit_transforms"
   ]
  },
  {
   "cell_type": "code",
   "execution_count": 211,
   "metadata": {},
   "outputs": [],
   "source": [
    "# encoder.get_feature_names()"
   ]
  },
  {
   "cell_type": "code",
   "execution_count": 215,
   "metadata": {},
   "outputs": [],
   "source": [
    "SD_split = dm.load_split(X_ohe, y, stratify=y)"
   ]
  },
  {
   "cell_type": "code",
   "execution_count": 216,
   "metadata": {},
   "outputs": [],
   "source": [
    "def run_rf(split, **kwargs):\n",
    "    \"\"\"run random forest\n",
    "good defaults: solver='saga', penalty='l1', max_iter=4000\"\"\"\n",
    "    smote = SMOTE()\n",
    "    X_train_resampled, y_train_resampled = smote.fit_sample(split['X_train'], split['y_train']) \n",
    "    rf = RandomForestClassifier(max_depth=2)\n",
    "    rf.fit(X_train_resampled, y_train_resampled)\n",
    "    return rf"
   ]
  },
  {
   "cell_type": "code",
   "execution_count": 217,
   "metadata": {},
   "outputs": [
    {
     "name": "stderr",
     "output_type": "stream",
     "text": [
      "/Users/stevedye/anaconda3/lib/python3.6/site-packages/sklearn/ensemble/forest.py:245: FutureWarning: The default value of n_estimators will change from 10 in version 0.20 to 100 in 0.22.\n",
      "  \"10 in version 0.20 to 100 in 0.22.\", FutureWarning)\n"
     ]
    },
    {
     "data": {
      "text/plain": [
       "RandomForestClassifier(bootstrap=True, class_weight=None, criterion='gini',\n",
       "                       max_depth=2, max_features='auto', max_leaf_nodes=None,\n",
       "                       min_impurity_decrease=0.0, min_impurity_split=None,\n",
       "                       min_samples_leaf=1, min_samples_split=2,\n",
       "                       min_weight_fraction_leaf=0.0, n_estimators=10,\n",
       "                       n_jobs=None, oob_score=False, random_state=None,\n",
       "                       verbose=0, warm_start=False)"
      ]
     },
     "execution_count": 217,
     "metadata": {},
     "output_type": "execute_result"
    }
   ],
   "source": [
    "SD_rf = run_rf(SD_split)\n",
    "SD_rf"
   ]
  },
  {
   "cell_type": "code",
   "execution_count": 220,
   "metadata": {},
   "outputs": [
    {
     "name": "stderr",
     "output_type": "stream",
     "text": [
      "/Users/stevedye/anaconda3/lib/python3.6/site-packages/sklearn/ensemble/forest.py:245: FutureWarning: The default value of n_estimators will change from 10 in version 0.20 to 100 in 0.22.\n",
      "  \"10 in version 0.20 to 100 in 0.22.\", FutureWarning)\n"
     ]
    },
    {
     "data": {
      "text/plain": [
       "RandomForestClassifier(bootstrap=True, class_weight=None, criterion='gini',\n",
       "                       max_depth=2, max_features='auto', max_leaf_nodes=None,\n",
       "                       min_impurity_decrease=0.0, min_impurity_split=None,\n",
       "                       min_samples_leaf=1, min_samples_split=2,\n",
       "                       min_weight_fraction_leaf=0.0, n_estimators=10,\n",
       "                       n_jobs=None, oob_score=False, random_state=None,\n",
       "                       verbose=0, warm_start=False)"
      ]
     },
     "execution_count": 220,
     "metadata": {},
     "output_type": "execute_result"
    }
   ],
   "source": [
    "importlib.reload(dm)\n",
    "SD_rf = dm.run_rf(SD_split)\n",
    "SD_rf"
   ]
  },
  {
   "cell_type": "code",
   "execution_count": 218,
   "metadata": {},
   "outputs": [
    {
     "data": {
      "text/plain": [
       "array([0.        , 0.        , 0.        , 0.        , 0.04843267,\n",
       "       0.        , 0.12388989, 0.        , 0.        , 0.        ,\n",
       "       0.        , 0.        , 0.        , 0.        , 0.        ,\n",
       "       0.        , 0.00508404, 0.        , 0.07752745, 0.        ,\n",
       "       0.09610462, 0.        , 0.02978267, 0.        , 0.00120612,\n",
       "       0.        , 0.        , 0.        , 0.        , 0.        ,\n",
       "       0.        , 0.        , 0.        , 0.0945771 , 0.        ,\n",
       "       0.        , 0.        , 0.        , 0.        , 0.        ,\n",
       "       0.        , 0.        , 0.        , 0.06190992, 0.        ,\n",
       "       0.07712812, 0.        , 0.        , 0.        , 0.        ,\n",
       "       0.        , 0.        , 0.        , 0.        , 0.        ,\n",
       "       0.00234777, 0.        , 0.05907976, 0.        , 0.        ,\n",
       "       0.        , 0.        , 0.        , 0.        , 0.        ,\n",
       "       0.00772282, 0.        , 0.        , 0.        , 0.        ,\n",
       "       0.        , 0.        , 0.        , 0.        , 0.        ,\n",
       "       0.        , 0.        , 0.        , 0.        , 0.01268015,\n",
       "       0.        , 0.0033352 , 0.03191366, 0.        , 0.        ,\n",
       "       0.05770167, 0.        , 0.06310226, 0.09477779, 0.        ,\n",
       "       0.02540993, 0.        , 0.        , 0.        , 0.02106418,\n",
       "       0.        , 0.        , 0.        , 0.        , 0.        ,\n",
       "       0.        , 0.        , 0.        , 0.        , 0.        ,\n",
       "       0.00522221, 0.        , 0.        , 0.        , 0.        ,\n",
       "       0.        , 0.        , 0.        , 0.        , 0.        ,\n",
       "       0.        , 0.        , 0.        , 0.        , 0.        ,\n",
       "       0.        , 0.        , 0.        , 0.        , 0.        ,\n",
       "       0.        , 0.        ])"
      ]
     },
     "execution_count": 218,
     "metadata": {},
     "output_type": "execute_result"
    }
   ],
   "source": [
    "SD_rf.feature_importances_"
   ]
  },
  {
   "cell_type": "code",
   "execution_count": 133,
   "metadata": {},
   "outputs": [
    {
     "name": "stdout",
     "output_type": "stream",
     "text": [
      "[0.         0.         0.00844523 0.         0.         0.04383786\n",
      " 0.         0.05966516 0.         0.07265088 0.03215144 0.00200409\n",
      " 0.         0.         0.03083676 0.         0.         0.\n",
      " 0.         0.04328193 0.         0.         0.         0.02407044\n",
      " 0.         0.         0.         0.         0.         0.\n",
      " 0.         0.         0.         0.03399767 0.         0.\n",
      " 0.0251278  0.         0.         0.         0.03556214 0.\n",
      " 0.         0.         0.         0.         0.00901606 0.10063131\n",
      " 0.         0.         0.         0.         0.         0.\n",
      " 0.         0.         0.         0.         0.         0.\n",
      " 0.         0.08367829 0.         0.         0.         0.\n",
      " 0.         0.         0.         0.         0.         0.04608461\n",
      " 0.         0.         0.         0.         0.         0.\n",
      " 0.         0.         0.         0.         0.09155477 0.001755\n",
      " 0.         0.         0.         0.         0.0162644  0.\n",
      " 0.         0.         0.06424732 0.         0.         0.\n",
      " 0.11336059 0.02441801 0.03735823 0.         0.         0.\n",
      " 0.         0.         0.         0.         0.         0.\n",
      " 0.         0.         0.         0.         0.         0.\n",
      " 0.         0.         0.         0.         0.         0.\n",
      " 0.         0.         0.         0.         0.         0.\n",
      " 0.         0.         0.         0.         0.         0.\n",
      " 0.         0.         0.        ]\n",
      "0.501258389261745\n"
     ]
    },
    {
     "name": "stderr",
     "output_type": "stream",
     "text": [
      "/Users/stevedye/anaconda3/lib/python3.6/site-packages/sklearn/ensemble/forest.py:245: FutureWarning: The default value of n_estimators will change from 10 in version 0.20 to 100 in 0.22.\n",
      "  \"10 in version 0.20 to 100 in 0.22.\", FutureWarning)\n"
     ]
    }
   ],
   "source": [
    "\"\"\"Transform your data\"\"\"\n",
    "#X_model = X_model.reshape(-1, 1)\n",
    "#X_model = X_model.toarray()\n",
    "\n",
    "\n",
    "\"\"\"Optional: Hot encode your categorical data\"\"\"\n",
    "#encoder = preprocessing.OneHotEncoder()\n",
    "#X_model = encoder.fit_transform(X_model)\n",
    "\"\"\"Split your code\"\"\"\n",
    "\n",
    "X_train, X_test, y_train, y_test = train_test_split(X_category_nona, y,\n",
    "                                                    stratify=y)\n",
    "\"\"\"Pipeline\"\"\"\n",
    "\"\"\"Optional: Scale your numerical training data\"\"\"\n",
    "#scaler = StandardScaler()\n",
    "\n",
    "\"\"\"Optional: Perform over or under sampling techniques here\"\"\"\n",
    "from imblearn.over_sampling import SMOTE\n",
    "smt = SMOTE()\n",
    "X_train, y_train = smt.fit_sample(X_train, y_train)\n",
    "\"\"\"Declare your model\"\"\"\n",
    "#clf = svm.SVC()\n",
    "#clf.fit(X_train, y_train)\n",
    "\n",
    "rf = RandomForestClassifier(max_depth=2)\n",
    "rf.fit(X_train, y_train)\n",
    "print(rf.feature_importances_)\n",
    "rf_feature_df = pd.DataFrame([rf.feature_importances_], columns=encoder.get_feature_names().tolist())\n",
    "#print(clf.predict([[0, 0, 0, 0]]))\n",
    "\"\"\"Do a grid search\"\"\"\n",
    "#parameters = {'param_1': ('option_1', 'option_2'), 'param_2':[1, 10, 100], ...}\n",
    "#model_tuned = GridSearchCV(model, parameters, cv=5)\n",
    "#model_tuned.fit(X_train, y_train)\n",
    "\n",
    "\n",
    "\"\"\"Make predictions\"\"\"\n",
    "predictions = rf.predict(X_test)\n",
    "\"\"\"Check the accuracy of your model\"\"\"\n",
    "print(balanced_accuracy_score(y_test, predictions))"
   ]
  },
  {
   "cell_type": "code",
   "execution_count": 146,
   "metadata": {},
   "outputs": [
    {
     "data": {
      "text/html": [
       "<div>\n",
       "<style scoped>\n",
       "    .dataframe tbody tr th:only-of-type {\n",
       "        vertical-align: middle;\n",
       "    }\n",
       "\n",
       "    .dataframe tbody tr th {\n",
       "        vertical-align: top;\n",
       "    }\n",
       "\n",
       "    .dataframe thead th {\n",
       "        text-align: right;\n",
       "    }\n",
       "</style>\n",
       "<table border=\"1\" class=\"dataframe\">\n",
       "  <thead>\n",
       "    <tr style=\"text-align: right;\">\n",
       "      <th></th>\n",
       "      <th>0</th>\n",
       "    </tr>\n",
       "  </thead>\n",
       "  <tbody>\n",
       "    <tr>\n",
       "      <th>x0_1</th>\n",
       "      <td>0.000000</td>\n",
       "    </tr>\n",
       "    <tr>\n",
       "      <th>x0_9</th>\n",
       "      <td>0.000000</td>\n",
       "    </tr>\n",
       "    <tr>\n",
       "      <th>x0_A</th>\n",
       "      <td>0.008445</td>\n",
       "    </tr>\n",
       "    <tr>\n",
       "      <th>x0_APP</th>\n",
       "      <td>0.000000</td>\n",
       "    </tr>\n",
       "    <tr>\n",
       "      <th>x0_NoVal</th>\n",
       "      <td>0.000000</td>\n",
       "    </tr>\n",
       "    <tr>\n",
       "      <th>x1_I</th>\n",
       "      <td>0.043838</td>\n",
       "    </tr>\n",
       "    <tr>\n",
       "      <th>x1_NoVal</th>\n",
       "      <td>0.000000</td>\n",
       "    </tr>\n",
       "    <tr>\n",
       "      <th>x1_O</th>\n",
       "      <td>0.059665</td>\n",
       "    </tr>\n",
       "    <tr>\n",
       "      <th>x2_H</th>\n",
       "      <td>0.000000</td>\n",
       "    </tr>\n",
       "    <tr>\n",
       "      <th>x2_NoVal</th>\n",
       "      <td>0.072651</td>\n",
       "    </tr>\n",
       "    <tr>\n",
       "      <th>x2_P</th>\n",
       "      <td>0.032151</td>\n",
       "    </tr>\n",
       "    <tr>\n",
       "      <th>x2_T</th>\n",
       "      <td>0.002004</td>\n",
       "    </tr>\n",
       "    <tr>\n",
       "      <th>x3_NoVal</th>\n",
       "      <td>0.000000</td>\n",
       "    </tr>\n",
       "    <tr>\n",
       "      <th>x3_O</th>\n",
       "      <td>0.000000</td>\n",
       "    </tr>\n",
       "    <tr>\n",
       "      <th>x3_P</th>\n",
       "      <td>0.030837</td>\n",
       "    </tr>\n",
       "    <tr>\n",
       "      <th>x3_R</th>\n",
       "      <td>0.000000</td>\n",
       "    </tr>\n",
       "    <tr>\n",
       "      <th>x3_V</th>\n",
       "      <td>0.000000</td>\n",
       "    </tr>\n",
       "    <tr>\n",
       "      <th>x4_0</th>\n",
       "      <td>0.000000</td>\n",
       "    </tr>\n",
       "    <tr>\n",
       "      <th>x4_I</th>\n",
       "      <td>0.000000</td>\n",
       "    </tr>\n",
       "    <tr>\n",
       "      <th>x4_N</th>\n",
       "      <td>0.043282</td>\n",
       "    </tr>\n",
       "    <tr>\n",
       "      <th>x4_NoVal</th>\n",
       "      <td>0.000000</td>\n",
       "    </tr>\n",
       "    <tr>\n",
       "      <th>x4_Y</th>\n",
       "      <td>0.000000</td>\n",
       "    </tr>\n",
       "    <tr>\n",
       "      <th>x5_0</th>\n",
       "      <td>0.000000</td>\n",
       "    </tr>\n",
       "    <tr>\n",
       "      <th>x5_N</th>\n",
       "      <td>0.024070</td>\n",
       "    </tr>\n",
       "    <tr>\n",
       "      <th>x5_NoVal</th>\n",
       "      <td>0.000000</td>\n",
       "    </tr>\n",
       "    <tr>\n",
       "      <th>x5_V</th>\n",
       "      <td>0.000000</td>\n",
       "    </tr>\n",
       "    <tr>\n",
       "      <th>x5_Y</th>\n",
       "      <td>0.000000</td>\n",
       "    </tr>\n",
       "    <tr>\n",
       "      <th>x6_0</th>\n",
       "      <td>0.000000</td>\n",
       "    </tr>\n",
       "    <tr>\n",
       "      <th>x6_N</th>\n",
       "      <td>0.000000</td>\n",
       "    </tr>\n",
       "    <tr>\n",
       "      <th>x6_NoVal</th>\n",
       "      <td>0.000000</td>\n",
       "    </tr>\n",
       "    <tr>\n",
       "      <th>x6_S</th>\n",
       "      <td>0.000000</td>\n",
       "    </tr>\n",
       "    <tr>\n",
       "      <th>x6_Y</th>\n",
       "      <td>0.000000</td>\n",
       "    </tr>\n",
       "    <tr>\n",
       "      <th>x7_F</th>\n",
       "      <td>0.000000</td>\n",
       "    </tr>\n",
       "    <tr>\n",
       "      <th>x7_M</th>\n",
       "      <td>0.033998</td>\n",
       "    </tr>\n",
       "    <tr>\n",
       "      <th>x7_NoVal</th>\n",
       "      <td>0.000000</td>\n",
       "    </tr>\n",
       "    <tr>\n",
       "      <th>x7_Z</th>\n",
       "      <td>0.000000</td>\n",
       "    </tr>\n",
       "    <tr>\n",
       "      <th>x8_A</th>\n",
       "      <td>0.025128</td>\n",
       "    </tr>\n",
       "    <tr>\n",
       "      <th>x8_B</th>\n",
       "      <td>0.000000</td>\n",
       "    </tr>\n",
       "    <tr>\n",
       "      <th>x8_I</th>\n",
       "      <td>0.000000</td>\n",
       "    </tr>\n",
       "    <tr>\n",
       "      <th>x8_NoVal</th>\n",
       "      <td>0.000000</td>\n",
       "    </tr>\n",
       "    <tr>\n",
       "      <th>x8_P</th>\n",
       "      <td>0.035562</td>\n",
       "    </tr>\n",
       "    <tr>\n",
       "      <th>x8_Q</th>\n",
       "      <td>0.000000</td>\n",
       "    </tr>\n",
       "    <tr>\n",
       "      <th>x8_U</th>\n",
       "      <td>0.000000</td>\n",
       "    </tr>\n",
       "    <tr>\n",
       "      <th>x8_W</th>\n",
       "      <td>0.000000</td>\n",
       "    </tr>\n",
       "    <tr>\n",
       "      <th>x8_X</th>\n",
       "      <td>0.000000</td>\n",
       "    </tr>\n",
       "    <tr>\n",
       "      <th>x8_Z</th>\n",
       "      <td>0.000000</td>\n",
       "    </tr>\n",
       "    <tr>\n",
       "      <th>x9_BA</th>\n",
       "      <td>0.009016</td>\n",
       "    </tr>\n",
       "    <tr>\n",
       "      <th>x9_BK</th>\n",
       "      <td>0.100631</td>\n",
       "    </tr>\n",
       "    <tr>\n",
       "      <th>x9_BL</th>\n",
       "      <td>0.000000</td>\n",
       "    </tr>\n",
       "    <tr>\n",
       "      <th>x9_BR</th>\n",
       "      <td>0.000000</td>\n",
       "    </tr>\n",
       "    <tr>\n",
       "      <th>x9_DY</th>\n",
       "      <td>0.000000</td>\n",
       "    </tr>\n",
       "    <tr>\n",
       "      <th>x9_GY</th>\n",
       "      <td>0.000000</td>\n",
       "    </tr>\n",
       "    <tr>\n",
       "      <th>x9_NoVal</th>\n",
       "      <td>0.000000</td>\n",
       "    </tr>\n",
       "    <tr>\n",
       "      <th>x9_RA</th>\n",
       "      <td>0.000000</td>\n",
       "    </tr>\n",
       "    <tr>\n",
       "      <th>x9_SN</th>\n",
       "      <td>0.000000</td>\n",
       "    </tr>\n",
       "    <tr>\n",
       "      <th>x9_SP</th>\n",
       "      <td>0.000000</td>\n",
       "    </tr>\n",
       "    <tr>\n",
       "      <th>x9_WH</th>\n",
       "      <td>0.000000</td>\n",
       "    </tr>\n",
       "    <tr>\n",
       "      <th>x9_XX</th>\n",
       "      <td>0.000000</td>\n",
       "    </tr>\n",
       "    <tr>\n",
       "      <th>x9_ZZ</th>\n",
       "      <td>0.000000</td>\n",
       "    </tr>\n",
       "    <tr>\n",
       "      <th>x10_BK</th>\n",
       "      <td>0.000000</td>\n",
       "    </tr>\n",
       "    <tr>\n",
       "      <th>x10_BL</th>\n",
       "      <td>0.000000</td>\n",
       "    </tr>\n",
       "    <tr>\n",
       "      <th>x10_BR</th>\n",
       "      <td>0.083678</td>\n",
       "    </tr>\n",
       "    <tr>\n",
       "      <th>x10_DF</th>\n",
       "      <td>0.000000</td>\n",
       "    </tr>\n",
       "    <tr>\n",
       "      <th>x10_GR</th>\n",
       "      <td>0.000000</td>\n",
       "    </tr>\n",
       "    <tr>\n",
       "      <th>x10_GY</th>\n",
       "      <td>0.000000</td>\n",
       "    </tr>\n",
       "    <tr>\n",
       "      <th>x10_HA</th>\n",
       "      <td>0.000000</td>\n",
       "    </tr>\n",
       "    <tr>\n",
       "      <th>x10_MA</th>\n",
       "      <td>0.000000</td>\n",
       "    </tr>\n",
       "    <tr>\n",
       "      <th>x10_NoVal</th>\n",
       "      <td>0.000000</td>\n",
       "    </tr>\n",
       "    <tr>\n",
       "      <th>x10_XX</th>\n",
       "      <td>0.000000</td>\n",
       "    </tr>\n",
       "    <tr>\n",
       "      <th>x10_Z</th>\n",
       "      <td>0.000000</td>\n",
       "    </tr>\n",
       "    <tr>\n",
       "      <th>x10_ZZ</th>\n",
       "      <td>0.000000</td>\n",
       "    </tr>\n",
       "    <tr>\n",
       "      <th>x11_H</th>\n",
       "      <td>0.046085</td>\n",
       "    </tr>\n",
       "    <tr>\n",
       "      <th>x11_M</th>\n",
       "      <td>0.000000</td>\n",
       "    </tr>\n",
       "    <tr>\n",
       "      <th>x11_NoVal</th>\n",
       "      <td>0.000000</td>\n",
       "    </tr>\n",
       "    <tr>\n",
       "      <th>x11_T</th>\n",
       "      <td>0.000000</td>\n",
       "    </tr>\n",
       "    <tr>\n",
       "      <th>x11_U</th>\n",
       "      <td>0.000000</td>\n",
       "    </tr>\n",
       "    <tr>\n",
       "      <th>x11_Z</th>\n",
       "      <td>0.000000</td>\n",
       "    </tr>\n",
       "    <tr>\n",
       "      <th>x12_L</th>\n",
       "      <td>0.000000</td>\n",
       "    </tr>\n",
       "    <tr>\n",
       "      <th>x12_NoVal</th>\n",
       "      <td>0.000000</td>\n",
       "    </tr>\n",
       "    <tr>\n",
       "      <th>x12_R</th>\n",
       "      <td>0.000000</td>\n",
       "    </tr>\n",
       "    <tr>\n",
       "      <th>x13_NoVal</th>\n",
       "      <td>0.000000</td>\n",
       "    </tr>\n",
       "    <tr>\n",
       "      <th>x14_BRONX</th>\n",
       "      <td>0.000000</td>\n",
       "    </tr>\n",
       "    <tr>\n",
       "      <th>x14_BROOKLYN</th>\n",
       "      <td>0.091555</td>\n",
       "    </tr>\n",
       "    <tr>\n",
       "      <th>x14_MANHATTAN</th>\n",
       "      <td>0.001755</td>\n",
       "    </tr>\n",
       "    <tr>\n",
       "      <th>x14_NoVal</th>\n",
       "      <td>0.000000</td>\n",
       "    </tr>\n",
       "    <tr>\n",
       "      <th>x14_QUEENS</th>\n",
       "      <td>0.000000</td>\n",
       "    </tr>\n",
       "    <tr>\n",
       "      <th>x14_STATEN IS</th>\n",
       "      <td>0.000000</td>\n",
       "    </tr>\n",
       "    <tr>\n",
       "      <th>x14_STATEN ISLAND</th>\n",
       "      <td>0.000000</td>\n",
       "    </tr>\n",
       "    <tr>\n",
       "      <th>x15_A</th>\n",
       "      <td>0.016264</td>\n",
       "    </tr>\n",
       "    <tr>\n",
       "      <th>x15_B</th>\n",
       "      <td>0.000000</td>\n",
       "    </tr>\n",
       "    <tr>\n",
       "      <th>x15_C</th>\n",
       "      <td>0.000000</td>\n",
       "    </tr>\n",
       "    <tr>\n",
       "      <th>x15_D</th>\n",
       "      <td>0.000000</td>\n",
       "    </tr>\n",
       "    <tr>\n",
       "      <th>x15_E</th>\n",
       "      <td>0.064247</td>\n",
       "    </tr>\n",
       "    <tr>\n",
       "      <th>x15_F</th>\n",
       "      <td>0.000000</td>\n",
       "    </tr>\n",
       "    <tr>\n",
       "      <th>x15_G</th>\n",
       "      <td>0.000000</td>\n",
       "    </tr>\n",
       "    <tr>\n",
       "      <th>x15_H</th>\n",
       "      <td>0.000000</td>\n",
       "    </tr>\n",
       "    <tr>\n",
       "      <th>x15_I</th>\n",
       "      <td>0.113361</td>\n",
       "    </tr>\n",
       "    <tr>\n",
       "      <th>x15_J</th>\n",
       "      <td>0.024418</td>\n",
       "    </tr>\n",
       "    <tr>\n",
       "      <th>x15_K</th>\n",
       "      <td>0.037358</td>\n",
       "    </tr>\n",
       "    <tr>\n",
       "      <th>x15_M</th>\n",
       "      <td>0.000000</td>\n",
       "    </tr>\n",
       "    <tr>\n",
       "      <th>x15_N</th>\n",
       "      <td>0.000000</td>\n",
       "    </tr>\n",
       "    <tr>\n",
       "      <th>x15_NoVal</th>\n",
       "      <td>0.000000</td>\n",
       "    </tr>\n",
       "    <tr>\n",
       "      <th>x15_P</th>\n",
       "      <td>0.000000</td>\n",
       "    </tr>\n",
       "    <tr>\n",
       "      <th>x15_Q</th>\n",
       "      <td>0.000000</td>\n",
       "    </tr>\n",
       "    <tr>\n",
       "      <th>x15_R</th>\n",
       "      <td>0.000000</td>\n",
       "    </tr>\n",
       "    <tr>\n",
       "      <th>x15_T</th>\n",
       "      <td>0.000000</td>\n",
       "    </tr>\n",
       "    <tr>\n",
       "      <th>x15_U</th>\n",
       "      <td>0.000000</td>\n",
       "    </tr>\n",
       "    <tr>\n",
       "      <th>x16_CM</th>\n",
       "      <td>0.000000</td>\n",
       "    </tr>\n",
       "    <tr>\n",
       "      <th>x16_DE</th>\n",
       "      <td>0.000000</td>\n",
       "    </tr>\n",
       "    <tr>\n",
       "      <th>x16_NoVal</th>\n",
       "      <td>0.000000</td>\n",
       "    </tr>\n",
       "    <tr>\n",
       "      <th>x17_DS</th>\n",
       "      <td>0.000000</td>\n",
       "    </tr>\n",
       "    <tr>\n",
       "      <th>x17_NoVal</th>\n",
       "      <td>0.000000</td>\n",
       "    </tr>\n",
       "    <tr>\n",
       "      <th>x17_OR</th>\n",
       "      <td>0.000000</td>\n",
       "    </tr>\n",
       "    <tr>\n",
       "      <th>x17_OT</th>\n",
       "      <td>0.000000</td>\n",
       "    </tr>\n",
       "    <tr>\n",
       "      <th>x17_SF</th>\n",
       "      <td>0.000000</td>\n",
       "    </tr>\n",
       "    <tr>\n",
       "      <th>x17_SW</th>\n",
       "      <td>0.000000</td>\n",
       "    </tr>\n",
       "    <tr>\n",
       "      <th>x18_April</th>\n",
       "      <td>0.000000</td>\n",
       "    </tr>\n",
       "    <tr>\n",
       "      <th>x18_August</th>\n",
       "      <td>0.000000</td>\n",
       "    </tr>\n",
       "    <tr>\n",
       "      <th>x18_December</th>\n",
       "      <td>0.000000</td>\n",
       "    </tr>\n",
       "    <tr>\n",
       "      <th>x18_February</th>\n",
       "      <td>0.000000</td>\n",
       "    </tr>\n",
       "    <tr>\n",
       "      <th>x18_January</th>\n",
       "      <td>0.000000</td>\n",
       "    </tr>\n",
       "    <tr>\n",
       "      <th>x18_July</th>\n",
       "      <td>0.000000</td>\n",
       "    </tr>\n",
       "    <tr>\n",
       "      <th>x18_June</th>\n",
       "      <td>0.000000</td>\n",
       "    </tr>\n",
       "    <tr>\n",
       "      <th>x18_March</th>\n",
       "      <td>0.000000</td>\n",
       "    </tr>\n",
       "    <tr>\n",
       "      <th>x18_NoVal</th>\n",
       "      <td>0.000000</td>\n",
       "    </tr>\n",
       "    <tr>\n",
       "      <th>x18_November</th>\n",
       "      <td>0.000000</td>\n",
       "    </tr>\n",
       "    <tr>\n",
       "      <th>x18_September</th>\n",
       "      <td>0.000000</td>\n",
       "    </tr>\n",
       "    <tr>\n",
       "      <th>x19_Friday</th>\n",
       "      <td>0.000000</td>\n",
       "    </tr>\n",
       "    <tr>\n",
       "      <th>x19_Monday</th>\n",
       "      <td>0.000000</td>\n",
       "    </tr>\n",
       "    <tr>\n",
       "      <th>x19_NoVal</th>\n",
       "      <td>0.000000</td>\n",
       "    </tr>\n",
       "    <tr>\n",
       "      <th>x19_Saturday</th>\n",
       "      <td>0.000000</td>\n",
       "    </tr>\n",
       "    <tr>\n",
       "      <th>x19_Sunday</th>\n",
       "      <td>0.000000</td>\n",
       "    </tr>\n",
       "    <tr>\n",
       "      <th>x19_Thursday</th>\n",
       "      <td>0.000000</td>\n",
       "    </tr>\n",
       "    <tr>\n",
       "      <th>x19_Tuesday</th>\n",
       "      <td>0.000000</td>\n",
       "    </tr>\n",
       "    <tr>\n",
       "      <th>x19_Wednesday</th>\n",
       "      <td>0.000000</td>\n",
       "    </tr>\n",
       "  </tbody>\n",
       "</table>\n",
       "</div>"
      ],
      "text/plain": [
       "                          0\n",
       "x0_1               0.000000\n",
       "x0_9               0.000000\n",
       "x0_A               0.008445\n",
       "x0_APP             0.000000\n",
       "x0_NoVal           0.000000\n",
       "x1_I               0.043838\n",
       "x1_NoVal           0.000000\n",
       "x1_O               0.059665\n",
       "x2_H               0.000000\n",
       "x2_NoVal           0.072651\n",
       "x2_P               0.032151\n",
       "x2_T               0.002004\n",
       "x3_NoVal           0.000000\n",
       "x3_O               0.000000\n",
       "x3_P               0.030837\n",
       "x3_R               0.000000\n",
       "x3_V               0.000000\n",
       "x4_0               0.000000\n",
       "x4_I               0.000000\n",
       "x4_N               0.043282\n",
       "x4_NoVal           0.000000\n",
       "x4_Y               0.000000\n",
       "x5_0               0.000000\n",
       "x5_N               0.024070\n",
       "x5_NoVal           0.000000\n",
       "x5_V               0.000000\n",
       "x5_Y               0.000000\n",
       "x6_0               0.000000\n",
       "x6_N               0.000000\n",
       "x6_NoVal           0.000000\n",
       "x6_S               0.000000\n",
       "x6_Y               0.000000\n",
       "x7_F               0.000000\n",
       "x7_M               0.033998\n",
       "x7_NoVal           0.000000\n",
       "x7_Z               0.000000\n",
       "x8_A               0.025128\n",
       "x8_B               0.000000\n",
       "x8_I               0.000000\n",
       "x8_NoVal           0.000000\n",
       "x8_P               0.035562\n",
       "x8_Q               0.000000\n",
       "x8_U               0.000000\n",
       "x8_W               0.000000\n",
       "x8_X               0.000000\n",
       "x8_Z               0.000000\n",
       "x9_BA              0.009016\n",
       "x9_BK              0.100631\n",
       "x9_BL              0.000000\n",
       "x9_BR              0.000000\n",
       "x9_DY              0.000000\n",
       "x9_GY              0.000000\n",
       "x9_NoVal           0.000000\n",
       "x9_RA              0.000000\n",
       "x9_SN              0.000000\n",
       "x9_SP              0.000000\n",
       "x9_WH              0.000000\n",
       "x9_XX              0.000000\n",
       "x9_ZZ              0.000000\n",
       "x10_BK             0.000000\n",
       "x10_BL             0.000000\n",
       "x10_BR             0.083678\n",
       "x10_DF             0.000000\n",
       "x10_GR             0.000000\n",
       "x10_GY             0.000000\n",
       "x10_HA             0.000000\n",
       "x10_MA             0.000000\n",
       "x10_NoVal          0.000000\n",
       "x10_XX             0.000000\n",
       "x10_Z              0.000000\n",
       "x10_ZZ             0.000000\n",
       "x11_H              0.046085\n",
       "x11_M              0.000000\n",
       "x11_NoVal          0.000000\n",
       "x11_T              0.000000\n",
       "x11_U              0.000000\n",
       "x11_Z              0.000000\n",
       "x12_L              0.000000\n",
       "x12_NoVal          0.000000\n",
       "x12_R              0.000000\n",
       "x13_NoVal          0.000000\n",
       "x14_BRONX          0.000000\n",
       "x14_BROOKLYN       0.091555\n",
       "x14_MANHATTAN      0.001755\n",
       "x14_NoVal          0.000000\n",
       "x14_QUEENS         0.000000\n",
       "x14_STATEN IS      0.000000\n",
       "x14_STATEN ISLAND  0.000000\n",
       "x15_A              0.016264\n",
       "x15_B              0.000000\n",
       "x15_C              0.000000\n",
       "x15_D              0.000000\n",
       "x15_E              0.064247\n",
       "x15_F              0.000000\n",
       "x15_G              0.000000\n",
       "x15_H              0.000000\n",
       "x15_I              0.113361\n",
       "x15_J              0.024418\n",
       "x15_K              0.037358\n",
       "x15_M              0.000000\n",
       "x15_N              0.000000\n",
       "x15_NoVal          0.000000\n",
       "x15_P              0.000000\n",
       "x15_Q              0.000000\n",
       "x15_R              0.000000\n",
       "x15_T              0.000000\n",
       "x15_U              0.000000\n",
       "x16_CM             0.000000\n",
       "x16_DE             0.000000\n",
       "x16_NoVal          0.000000\n",
       "x17_DS             0.000000\n",
       "x17_NoVal          0.000000\n",
       "x17_OR             0.000000\n",
       "x17_OT             0.000000\n",
       "x17_SF             0.000000\n",
       "x17_SW             0.000000\n",
       "x18_April          0.000000\n",
       "x18_August         0.000000\n",
       "x18_December       0.000000\n",
       "x18_February       0.000000\n",
       "x18_January        0.000000\n",
       "x18_July           0.000000\n",
       "x18_June           0.000000\n",
       "x18_March          0.000000\n",
       "x18_NoVal          0.000000\n",
       "x18_November       0.000000\n",
       "x18_September      0.000000\n",
       "x19_Friday         0.000000\n",
       "x19_Monday         0.000000\n",
       "x19_NoVal          0.000000\n",
       "x19_Saturday       0.000000\n",
       "x19_Sunday         0.000000\n",
       "x19_Thursday       0.000000\n",
       "x19_Tuesday        0.000000\n",
       "x19_Wednesday      0.000000"
      ]
     },
     "execution_count": 146,
     "metadata": {},
     "output_type": "execute_result"
    }
   ],
   "source": [
    "pd.options.display.max_rows=135\n",
    "rf_feature_df.T"
   ]
  },
  {
   "cell_type": "code",
   "execution_count": 89,
   "metadata": {},
   "outputs": [],
   "source": [
    "# # Feature Engineering\n",
    "# df_sample['height'] = 12*df_sample['ht_feet'] + df_sample['ht_inch']\n",
    "# df_sample = df_sample.drop(columns=['ht_feet', 'ht_inch'])\n",
    "# df_sample.columns"
   ]
  },
  {
   "cell_type": "code",
   "execution_count": 16,
   "metadata": {},
   "outputs": [],
   "source": [
    "# Drop columns that are missing a lot of data\n",
    "dropped_columns = ['month', 'day', 'forceuse', 'detail1_', 'arstoffn', 'officrid',\n",
    "                  'offverb', 'offshld', 'rescode', 'premtype', 'aptnum', 'state',\n",
    "                  'zip', 'beat', 'post', 'crimsusp', 'stinter', 'stname', 'crossst',\n",
    "                  'premname', 'sumoffen', 'othfeatr', 'addrnum', 'repcmd','dob',\n",
    "                  'revcmd', 'datetimestop']\n",
    "df_sample = df.sample(frac=.001)\n",
    "df_sample = df_sample.drop(columns=dropped_columns)\n",
    "y = df_sample.arstmade\n",
    "X = df_sample.drop(columns='arstmade')\n",
    "X_category = X.select_dtypes(include ='category')\n",
    "categories = X_category.columns.to_list()\n",
    "X_non_category = X.drop(columns=categories)"
   ]
  },
  {
   "cell_type": "code",
   "execution_count": 79,
   "metadata": {},
   "outputs": [],
   "source": [
    "#df1 = df.select_dtypes([np.int, np.float])\n",
    "\n",
    "# for i, col in enumerate(X_category_nona.columns):\n",
    "#     plt.figure(i)\n",
    "#     sns.countplot(x=col, data=X_category_nona)"
   ]
  },
  {
   "cell_type": "markdown",
   "metadata": {},
   "source": [
    "Based on selected features, can we predict the probability of someone being arrested?"
   ]
  },
  {
   "cell_type": "code",
   "execution_count": 23,
   "metadata": {},
   "outputs": [
    {
     "data": {
      "text/plain": [
       "0    4796\n",
       "1     290\n",
       "Name: arstmade, dtype: int64"
      ]
     },
     "execution_count": 23,
     "metadata": {},
     "output_type": "execute_result"
    }
   ],
   "source": [
    "y.value_counts()"
   ]
  },
  {
   "cell_type": "code",
   "execution_count": 26,
   "metadata": {},
   "outputs": [],
   "source": [
    "# Only works if there are no NaNs\n",
    "# sel = VarianceThreshold(threshold=(.8 * (1 - .8)))\n",
    "# sel.fit_transform(X_non_category)\n",
    "# sel"
   ]
  },
  {
   "cell_type": "code",
   "execution_count": 29,
   "metadata": {},
   "outputs": [],
   "source": [
    "# for feature in X_non_category.columns:\n",
    "#     print(X_non_category['feature'].value_counts())"
   ]
  },
  {
   "cell_type": "markdown",
   "metadata": {},
   "source": [
    "### Let's try modeling the categorical data"
   ]
  },
  {
   "cell_type": "code",
   "execution_count": 25,
   "metadata": {},
   "outputs": [
    {
     "name": "stdout",
     "output_type": "stream",
     "text": [
      "5086\n"
     ]
    }
   ],
   "source": [
    "df_model = df_sample[['eyecolor', 'sex', 'arstmade']]\n",
    "df_model = df_model.dropna()\n",
    "X_model = df_model[['eyecolor', 'sex']]\n",
    "y_model = df_model['arstmade']\n",
    "print(len(y_model))\n",
    "X_model\n",
    "\n",
    "encoder = preprocessing.OneHotEncoder()\n",
    "X_model = encoder.fit_transform(X_model)"
   ]
  },
  {
   "cell_type": "code",
   "execution_count": 93,
   "metadata": {},
   "outputs": [
    {
     "ename": "NameError",
     "evalue": "name 'X_model' is not defined",
     "output_type": "error",
     "traceback": [
      "\u001b[0;31m---------------------------------------------------------------------------\u001b[0m",
      "\u001b[0;31mNameError\u001b[0m                                 Traceback (most recent call last)",
      "\u001b[0;32m<ipython-input-93-4de425702b53>\u001b[0m in \u001b[0;36m<module>\u001b[0;34m()\u001b[0m\n\u001b[1;32m      9\u001b[0m \u001b[0;34m\"\"\"Split your code\"\"\"\u001b[0m\u001b[0;34m\u001b[0m\u001b[0m\n\u001b[1;32m     10\u001b[0m \u001b[0;34m\u001b[0m\u001b[0m\n\u001b[0;32m---> 11\u001b[0;31m X_train, X_test, y_train, y_test = train_test_split(X_model, y_model,\n\u001b[0m\u001b[1;32m     12\u001b[0m                                                     stratify=y_model)\n\u001b[1;32m     13\u001b[0m \u001b[0;34m\"\"\"Pipeline\"\"\"\u001b[0m\u001b[0;34m\u001b[0m\u001b[0m\n",
      "\u001b[0;31mNameError\u001b[0m: name 'X_model' is not defined"
     ]
    }
   ],
   "source": [
    "\"\"\"Transform your data\"\"\"\n",
    "#X_model = X_model.reshape(-1, 1)\n",
    "#X_model = X_model.toarray()\n",
    "\n",
    "\n",
    "\"\"\"Optional: Hot encode your categorical data\"\"\"\n",
    "#encoder = preprocessing.OneHotEncoder()\n",
    "#X_model = encoder.fit_transform(X_model)\n",
    "\"\"\"Split your code\"\"\"\n",
    "\n",
    "X_train, X_test, y_train, y_test = train_test_split(X_model, y_model,\n",
    "                                                    stratify=y_model)\n",
    "\"\"\"Pipeline\"\"\"\n",
    "\"\"\"Optional: Scale your numerical training data\"\"\"\n",
    "#scaler = StandardScaler()\n",
    "\n",
    "\"\"\"Optional: Perform over or under sampling techniques here\"\"\"\n",
    "#from imblearn.over_sampling import SMOTE\n",
    "#smt.SMOTE()\n",
    "#X_train, y_train = smt.fit_sample(X_train, y_train)\n",
    "\"\"\"Declare your model\"\"\"\n",
    "#clf = svm.SVC()\n",
    "#clf.fit(X_train, y_train)\n",
    "\n",
    "rf = RandomForestClassifier(max_depth=2)\n",
    "rf.fit(X_train, y_train)\n",
    "#rf.feature_importances_\n",
    "#RandomForestClassifier(max_depth=2, random_state=0)\n",
    "print(rf.feature_importances_)\n",
    "#print(clf.predict([[0, 0, 0, 0]]))\n",
    "\"\"\"Do a grid search\"\"\"\n",
    "#parameters = {'param_1': ('option_1', 'option_2'), 'param_2':[1, 10, 100], ...}\n",
    "#model_tuned = GridSearchCV(model, parameters, cv=5)\n",
    "#model_tuned.fit(X_train, y_train)\n",
    "\n",
    "\n",
    "\"\"\"Make predictions\"\"\"\n",
    "predictions = rf.predict(X_test)\n",
    "\"\"\"Check the accuracy of your model\"\"\"\n",
    "print(accuracy_score(y_test, predictions))"
   ]
  },
  {
   "cell_type": "code",
   "execution_count": 27,
   "metadata": {},
   "outputs": [
    {
     "data": {
      "text/plain": [
       "4870252    0\n",
       "2615585    0\n",
       "1564042    0\n",
       "791830     0\n",
       "1225627    0\n",
       "          ..\n",
       "3373136    0\n",
       "1442388    0\n",
       "4787054    0\n",
       "209046     0\n",
       "2844916    0\n",
       "Name: arstmade, Length: 5086, dtype: int8"
      ]
     },
     "execution_count": 27,
     "metadata": {},
     "output_type": "execute_result"
    }
   ],
   "source": [
    "y"
   ]
  },
  {
   "cell_type": "markdown",
   "metadata": {},
   "source": [
    "### Race Key Resource\n",
    "\n",
    "https://www.icpsr.umich.edu/icpsrweb/NACJD/studies/21660/datadocumentation#\n",
    "\n",
    "A Asian/Pacific Islander\n",
    "\n",
    "B Black\n",
    "\n",
    "I American Indian/Alaskan Native\n",
    "\n",
    "P Black-Hispanic\n",
    "\n",
    "Q White-Hispanic\n",
    "\n",
    "W White\n",
    "\n",
    "X Unknown\n",
    "\n",
    "Z Other"
   ]
  },
  {
   "cell_type": "markdown",
   "metadata": {},
   "source": [
    "## Haircolor Key Resource\n",
    "https://www.icpsr.umich.edu/icpsrweb/NACJD/studies/21660/datadocumentation#\n",
    "\n",
    "BA Bald\n",
    "\n",
    "BK Black\n",
    "\n",
    "BL Blond\n",
    "\n",
    "BR Brown\n",
    "\n",
    "GY Gray\n",
    "\n",
    "RD Red\n",
    "\n",
    "SP Salt and Pepper\n",
    "\n",
    "WH White\n",
    "\n",
    "XX Unknown\n",
    "\n",
    "ZZ Other"
   ]
  },
  {
   "cell_type": "markdown",
   "metadata": {},
   "source": [
    "## Eyecolor Key Resource\n",
    "https://www.icpsr.umich.edu/icpsrweb/NACJD/studies/21660/datadocumentation#\n",
    "\n",
    "BK Black\n",
    "\n",
    "BL Blue\n",
    "\n",
    "BR Brown\n",
    "\n",
    "DF Two Different\n",
    "\n",
    "GR Green\n",
    "\n",
    "GY Gray\n",
    "\n",
    "XX Unknown\n",
    "\n",
    "ZZ Other"
   ]
  },
  {
   "cell_type": "markdown",
   "metadata": {},
   "source": [
    "## Build Key Resource\n",
    "https://www.icpsr.umich.edu/icpsrweb/NACJD/studies/21660/datadocumentation#\n",
    "\n",
    "H Heavy\n",
    "\n",
    "M Medium\n",
    "\n",
    "T Thin\n",
    "\n",
    "U Muscular\n",
    "\n",
    "Z Unknown"
   ]
  }
 ],
 "metadata": {
  "kernelspec": {
   "display_name": "Python 3",
   "language": "python",
   "name": "python3"
  },
  "language_info": {
   "codemirror_mode": {
    "name": "ipython",
    "version": 3
   },
   "file_extension": ".py",
   "mimetype": "text/x-python",
   "name": "python",
   "nbconvert_exporter": "python",
   "pygments_lexer": "ipython3",
   "version": "3.6.5"
  }
 },
 "nbformat": 4,
 "nbformat_minor": 2
}
