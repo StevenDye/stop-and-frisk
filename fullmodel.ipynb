{
 "cells": [
  {
   "cell_type": "markdown",
   "metadata": {},
   "source": [
    "We need to break out columns into the pre-stop observables - e.g. reason for stop, age / weight / build, precinct, xcoord/ycoord\n",
    "from the during-stop features"
   ]
  },
  {
   "cell_type": "code",
   "execution_count": 81,
   "metadata": {},
   "outputs": [
    {
     "data": {
      "text/plain": [
       "<module 'data_modeler' from '/Users/brad/Documents/Scripts/flatiron/stop-and-frisk/data_modeler.py'>"
      ]
     },
     "execution_count": 81,
     "metadata": {},
     "output_type": "execute_result"
    }
   ],
   "source": [
    "import numpy as np\n",
    "import pandas as pd\n",
    "from sklearn.linear_model import LogisticRegression\n",
    "from sklearn.ensemble import RandomForestClassifier\n",
    "from sklearn.metrics import f1_score, accuracy_score, balanced_accuracy_score\n",
    "from imblearn.over_sampling import SMOTE\n",
    "import data_cleaner as dc\n",
    "import clean_cat_values\n",
    "import data_modeler as dm\n",
    "import importlib\n",
    "import data_dicts\n",
    "importlib.reload(data_dicts)\n",
    "importlib.reload(clean_cat_values)\n",
    "importlib.reload(dc)\n",
    "importlib.reload(dm)"
   ]
  },
  {
   "cell_type": "code",
   "execution_count": null,
   "metadata": {},
   "outputs": [
    {
     "name": "stdout",
     "output_type": "stream",
     "text": [
      "Loading 2003...\n",
      "Loading 2004...\n",
      "Loading 2005...\n"
     ]
    }
   ],
   "source": [
    "full_df = dc.load_full_sqf(force=True)"
   ]
  },
  {
   "cell_type": "code",
   "execution_count": 10,
   "metadata": {},
   "outputs": [
    {
     "data": {
      "text/plain": [
       "75-     59296\n",
       "103-    42183\n",
       "73-K    35768\n",
       "73-I    32993\n",
       "77-     31766\n",
       "        ...  \n",
       "121-       33\n",
       "50-5       27\n",
       "52-Q        5\n",
       "9-F         2\n",
       "73-1        1\n",
       "Name: pct_sector, Length: 860, dtype: int64"
      ]
     },
     "execution_count": 10,
     "metadata": {},
     "output_type": "execute_result"
    }
   ],
   "source": [
    "full_df.pct_sector.value_counts()"
   ]
  },
  {
   "cell_type": "code",
   "execution_count": 16,
   "metadata": {},
   "outputs": [],
   "source": [
    "pd.options.display.max_rows=119\n",
    "pd.options.display.max_colwidth=100\n",
    "pd.options.display.max_columns=119"
   ]
  },
  {
   "cell_type": "code",
   "execution_count": 11,
   "metadata": {},
   "outputs": [],
   "source": [
    "df = full_df.sample(5000)"
   ]
  },
  {
   "cell_type": "code",
   "execution_count": 12,
   "metadata": {},
   "outputs": [
    {
     "data": {
      "text/html": [
       "<div>\n",
       "<style scoped>\n",
       "    .dataframe tbody tr th:only-of-type {\n",
       "        vertical-align: middle;\n",
       "    }\n",
       "\n",
       "    .dataframe tbody tr th {\n",
       "        vertical-align: top;\n",
       "    }\n",
       "\n",
       "    .dataframe thead th {\n",
       "        text-align: right;\n",
       "    }\n",
       "</style>\n",
       "<table border=\"1\" class=\"dataframe\">\n",
       "  <thead>\n",
       "    <tr style=\"text-align: right;\">\n",
       "      <th></th>\n",
       "      <th>year</th>\n",
       "      <th>pct</th>\n",
       "      <th>ser_num</th>\n",
       "      <th>perobs</th>\n",
       "      <th>perstop</th>\n",
       "      <th>explnstp</th>\n",
       "      <th>othpers</th>\n",
       "      <th>arstmade</th>\n",
       "      <th>sumissue</th>\n",
       "      <th>compyear</th>\n",
       "      <th>...</th>\n",
       "      <th>state</th>\n",
       "      <th>addrpct</th>\n",
       "      <th>beat</th>\n",
       "      <th>xcoord</th>\n",
       "      <th>ycoord</th>\n",
       "      <th>linecm</th>\n",
       "      <th>detailcm</th>\n",
       "      <th>height</th>\n",
       "      <th>wepfound</th>\n",
       "      <th>detail1_</th>\n",
       "    </tr>\n",
       "  </thead>\n",
       "  <tbody>\n",
       "    <tr>\n",
       "      <th>count</th>\n",
       "      <td>5000.000000</td>\n",
       "      <td>5000.000000</td>\n",
       "      <td>5000.000000</td>\n",
       "      <td>4994.000000</td>\n",
       "      <td>5000.000000</td>\n",
       "      <td>5000.000000</td>\n",
       "      <td>5000.000000</td>\n",
       "      <td>5000.00000</td>\n",
       "      <td>5000.000000</td>\n",
       "      <td>4982.0</td>\n",
       "      <td>...</td>\n",
       "      <td>0.0</td>\n",
       "      <td>4164.000000</td>\n",
       "      <td>1452.000000</td>\n",
       "      <td>3.999000e+03</td>\n",
       "      <td>3999.000000</td>\n",
       "      <td>3656.000000</td>\n",
       "      <td>4164.000000</td>\n",
       "      <td>4998.000000</td>\n",
       "      <td>5000.000000</td>\n",
       "      <td>508.000000</td>\n",
       "    </tr>\n",
       "    <tr>\n",
       "      <th>mean</th>\n",
       "      <td>2008.477800</td>\n",
       "      <td>67.936200</td>\n",
       "      <td>6757.369000</td>\n",
       "      <td>2.658020</td>\n",
       "      <td>5.436800</td>\n",
       "      <td>0.996200</td>\n",
       "      <td>0.239200</td>\n",
       "      <td>0.05980</td>\n",
       "      <td>0.063200</td>\n",
       "      <td>0.0</td>\n",
       "      <td>...</td>\n",
       "      <td>NaN</td>\n",
       "      <td>67.889769</td>\n",
       "      <td>8.290634</td>\n",
       "      <td>1.003772e+06</td>\n",
       "      <td>204075.647162</td>\n",
       "      <td>0.971554</td>\n",
       "      <td>38.067963</td>\n",
       "      <td>68.562625</td>\n",
       "      <td>0.000200</td>\n",
       "      <td>37.757874</td>\n",
       "    </tr>\n",
       "    <tr>\n",
       "      <th>std</th>\n",
       "      <td>2.846107</td>\n",
       "      <td>32.830219</td>\n",
       "      <td>22833.899389</td>\n",
       "      <td>4.895333</td>\n",
       "      <td>4.659436</td>\n",
       "      <td>0.061533</td>\n",
       "      <td>0.426638</td>\n",
       "      <td>0.23714</td>\n",
       "      <td>0.243347</td>\n",
       "      <td>0.0</td>\n",
       "      <td>...</td>\n",
       "      <td>NaN</td>\n",
       "      <td>32.588557</td>\n",
       "      <td>6.415294</td>\n",
       "      <td>3.771573e+04</td>\n",
       "      <td>29316.693703</td>\n",
       "      <td>0.166267</td>\n",
       "      <td>25.703878</td>\n",
       "      <td>4.069142</td>\n",
       "      <td>0.014142</td>\n",
       "      <td>24.815581</td>\n",
       "    </tr>\n",
       "    <tr>\n",
       "      <th>min</th>\n",
       "      <td>2003.000000</td>\n",
       "      <td>1.000000</td>\n",
       "      <td>1.000000</td>\n",
       "      <td>0.000000</td>\n",
       "      <td>0.000000</td>\n",
       "      <td>0.000000</td>\n",
       "      <td>0.000000</td>\n",
       "      <td>0.00000</td>\n",
       "      <td>0.000000</td>\n",
       "      <td>0.0</td>\n",
       "      <td>...</td>\n",
       "      <td>NaN</td>\n",
       "      <td>1.000000</td>\n",
       "      <td>1.000000</td>\n",
       "      <td>5.967940e+05</td>\n",
       "      <td>124923.000000</td>\n",
       "      <td>0.000000</td>\n",
       "      <td>6.000000</td>\n",
       "      <td>0.000000</td>\n",
       "      <td>0.000000</td>\n",
       "      <td>9.000000</td>\n",
       "    </tr>\n",
       "    <tr>\n",
       "      <th>25%</th>\n",
       "      <td>2006.000000</td>\n",
       "      <td>41.000000</td>\n",
       "      <td>1769.000000</td>\n",
       "      <td>1.000000</td>\n",
       "      <td>3.000000</td>\n",
       "      <td>1.000000</td>\n",
       "      <td>0.000000</td>\n",
       "      <td>0.00000</td>\n",
       "      <td>0.000000</td>\n",
       "      <td>0.0</td>\n",
       "      <td>...</td>\n",
       "      <td>NaN</td>\n",
       "      <td>42.000000</td>\n",
       "      <td>4.000000</td>\n",
       "      <td>9.961550e+05</td>\n",
       "      <td>182794.000000</td>\n",
       "      <td>1.000000</td>\n",
       "      <td>20.000000</td>\n",
       "      <td>67.000000</td>\n",
       "      <td>0.000000</td>\n",
       "      <td>20.000000</td>\n",
       "    </tr>\n",
       "    <tr>\n",
       "      <th>50%</th>\n",
       "      <td>2009.000000</td>\n",
       "      <td>73.000000</td>\n",
       "      <td>4401.000000</td>\n",
       "      <td>1.000000</td>\n",
       "      <td>5.000000</td>\n",
       "      <td>1.000000</td>\n",
       "      <td>0.000000</td>\n",
       "      <td>0.00000</td>\n",
       "      <td>0.000000</td>\n",
       "      <td>0.0</td>\n",
       "      <td>...</td>\n",
       "      <td>NaN</td>\n",
       "      <td>73.000000</td>\n",
       "      <td>8.000000</td>\n",
       "      <td>1.005166e+06</td>\n",
       "      <td>197008.000000</td>\n",
       "      <td>1.000000</td>\n",
       "      <td>28.000000</td>\n",
       "      <td>69.000000</td>\n",
       "      <td>0.000000</td>\n",
       "      <td>30.500000</td>\n",
       "    </tr>\n",
       "    <tr>\n",
       "      <th>75%</th>\n",
       "      <td>2011.000000</td>\n",
       "      <td>101.000000</td>\n",
       "      <td>8819.250000</td>\n",
       "      <td>3.000000</td>\n",
       "      <td>5.000000</td>\n",
       "      <td>1.000000</td>\n",
       "      <td>0.000000</td>\n",
       "      <td>0.00000</td>\n",
       "      <td>0.000000</td>\n",
       "      <td>0.0</td>\n",
       "      <td>...</td>\n",
       "      <td>NaN</td>\n",
       "      <td>101.000000</td>\n",
       "      <td>11.000000</td>\n",
       "      <td>1.016462e+06</td>\n",
       "      <td>232339.000000</td>\n",
       "      <td>1.000000</td>\n",
       "      <td>46.000000</td>\n",
       "      <td>71.000000</td>\n",
       "      <td>0.000000</td>\n",
       "      <td>46.000000</td>\n",
       "    </tr>\n",
       "    <tr>\n",
       "      <th>max</th>\n",
       "      <td>2018.000000</td>\n",
       "      <td>123.000000</td>\n",
       "      <td>903368.000000</td>\n",
       "      <td>120.000000</td>\n",
       "      <td>100.000000</td>\n",
       "      <td>1.000000</td>\n",
       "      <td>1.000000</td>\n",
       "      <td>1.00000</td>\n",
       "      <td>1.000000</td>\n",
       "      <td>0.0</td>\n",
       "      <td>...</td>\n",
       "      <td>NaN</td>\n",
       "      <td>123.000000</td>\n",
       "      <td>62.000000</td>\n",
       "      <td>1.065109e+06</td>\n",
       "      <td>268990.000000</td>\n",
       "      <td>1.000000</td>\n",
       "      <td>113.000000</td>\n",
       "      <td>91.000000</td>\n",
       "      <td>1.000000</td>\n",
       "      <td>112.000000</td>\n",
       "    </tr>\n",
       "  </tbody>\n",
       "</table>\n",
       "<p>8 rows × 80 columns</p>\n",
       "</div>"
      ],
      "text/plain": [
       "              year          pct        ser_num       perobs      perstop  \\\n",
       "count  5000.000000  5000.000000    5000.000000  4994.000000  5000.000000   \n",
       "mean   2008.477800    67.936200    6757.369000     2.658020     5.436800   \n",
       "std       2.846107    32.830219   22833.899389     4.895333     4.659436   \n",
       "min    2003.000000     1.000000       1.000000     0.000000     0.000000   \n",
       "25%    2006.000000    41.000000    1769.000000     1.000000     3.000000   \n",
       "50%    2009.000000    73.000000    4401.000000     1.000000     5.000000   \n",
       "75%    2011.000000   101.000000    8819.250000     3.000000     5.000000   \n",
       "max    2018.000000   123.000000  903368.000000   120.000000   100.000000   \n",
       "\n",
       "          explnstp      othpers    arstmade     sumissue  compyear  ...  \\\n",
       "count  5000.000000  5000.000000  5000.00000  5000.000000    4982.0  ...   \n",
       "mean      0.996200     0.239200     0.05980     0.063200       0.0  ...   \n",
       "std       0.061533     0.426638     0.23714     0.243347       0.0  ...   \n",
       "min       0.000000     0.000000     0.00000     0.000000       0.0  ...   \n",
       "25%       1.000000     0.000000     0.00000     0.000000       0.0  ...   \n",
       "50%       1.000000     0.000000     0.00000     0.000000       0.0  ...   \n",
       "75%       1.000000     0.000000     0.00000     0.000000       0.0  ...   \n",
       "max       1.000000     1.000000     1.00000     1.000000       0.0  ...   \n",
       "\n",
       "       state      addrpct         beat        xcoord         ycoord  \\\n",
       "count    0.0  4164.000000  1452.000000  3.999000e+03    3999.000000   \n",
       "mean     NaN    67.889769     8.290634  1.003772e+06  204075.647162   \n",
       "std      NaN    32.588557     6.415294  3.771573e+04   29316.693703   \n",
       "min      NaN     1.000000     1.000000  5.967940e+05  124923.000000   \n",
       "25%      NaN    42.000000     4.000000  9.961550e+05  182794.000000   \n",
       "50%      NaN    73.000000     8.000000  1.005166e+06  197008.000000   \n",
       "75%      NaN   101.000000    11.000000  1.016462e+06  232339.000000   \n",
       "max      NaN   123.000000    62.000000  1.065109e+06  268990.000000   \n",
       "\n",
       "            linecm     detailcm       height     wepfound    detail1_  \n",
       "count  3656.000000  4164.000000  4998.000000  5000.000000  508.000000  \n",
       "mean      0.971554    38.067963    68.562625     0.000200   37.757874  \n",
       "std       0.166267    25.703878     4.069142     0.014142   24.815581  \n",
       "min       0.000000     6.000000     0.000000     0.000000    9.000000  \n",
       "25%       1.000000    20.000000    67.000000     0.000000   20.000000  \n",
       "50%       1.000000    28.000000    69.000000     0.000000   30.500000  \n",
       "75%       1.000000    46.000000    71.000000     0.000000   46.000000  \n",
       "max       1.000000   113.000000    91.000000     1.000000  112.000000  \n",
       "\n",
       "[8 rows x 80 columns]"
      ]
     },
     "execution_count": 12,
     "metadata": {},
     "output_type": "execute_result"
    }
   ],
   "source": [
    "df.describe()"
   ]
  },
  {
   "cell_type": "code",
   "execution_count": 34,
   "metadata": {},
   "outputs": [
    {
     "data": {
      "text/plain": [
       "CPW                               748\n",
       "FEL                               526\n",
       "ROBBERY                           459\n",
       "MISD                              395\n",
       "FELONY                            386\n",
       "GLA                               279\n",
       "BURGLARY                          269\n",
       "CRIMINAL TRESPASS                 155\n",
       "CRIM TRES                         129\n",
       "ASSAULT                            98\n",
       "GRAND LARCENY                      88\n",
       "CPCS                               88\n",
       "CPM                                87\n",
       "BURG                               67\n",
       "CSCS                               63\n",
       "GRAND LARCENY AUTO                 56\n",
       "PETIT LARCENY                      36\n",
       "MIS                                30\n",
       "MISDEMEANOR                        30\n",
       "ROB                                29\n",
       "CRIM TRESPASS                      25\n",
       "CRIM TRESS                         24\n",
       "DRUG SALES                         21\n",
       "CRIMINAL SALE OF CONTROLLED SU     21\n",
       "CRIMINAL TRESSPASS                 19\n",
       "FELONY/ROBBERY                     18\n",
       "F                                  15\n",
       "CPSP                               14\n",
       "CRIMINAL MISCHIEF                  14\n",
       "M                                  14\n",
       "TRESPASS                           14\n",
       "GRAFFITI                           14\n",
       "ASSAULT 3                          13\n",
       "CRIMINAL POSSESSION OF MARIHUA     12\n",
       "C.P.W.                             12\n",
       "MIS/CPW                            11\n",
       "PROSTITUTION                       10\n",
       "FEL/CPW                            10\n",
       "CRIMINAL POSSESSION OF CONTROL     10\n",
       "MIS/CRIM TRES                       9\n",
       "Name: crimsusp, dtype: int64"
      ]
     },
     "execution_count": 34,
     "metadata": {},
     "output_type": "execute_result"
    }
   ],
   "source": [
    "df.crimsusp.value_counts().head(40)"
   ]
  },
  {
   "cell_type": "code",
   "execution_count": null,
   "metadata": {},
   "outputs": [],
   "source": []
  },
  {
   "cell_type": "markdown",
   "metadata": {},
   "source": [
    "# Modeling on the yes-no columns"
   ]
  },
  {
   "cell_type": "code",
   "execution_count": 182,
   "metadata": {},
   "outputs": [],
   "source": [
    "y = df.arstmade"
   ]
  },
  {
   "cell_type": "code",
   "execution_count": 183,
   "metadata": {},
   "outputs": [],
   "source": [
    "X_y_n = df.select_dtypes(include=['int8']).drop(columns='arstmade')"
   ]
  },
  {
   "cell_type": "code",
   "execution_count": 184,
   "metadata": {},
   "outputs": [],
   "source": [
    "split = dm.load_split(X_y_n, y)"
   ]
  },
  {
   "cell_type": "code",
   "execution_count": null,
   "metadata": {},
   "outputs": [],
   "source": []
  },
  {
   "cell_type": "markdown",
   "metadata": {},
   "source": [
    "## Balance classes"
   ]
  },
  {
   "cell_type": "code",
   "execution_count": 185,
   "metadata": {},
   "outputs": [
    {
     "data": {
      "text/plain": [
       "0    0.934933\n",
       "1    0.065067\n",
       "Name: arstmade, dtype: float64"
      ]
     },
     "execution_count": 185,
     "metadata": {},
     "output_type": "execute_result"
    }
   ],
   "source": [
    "split['y_train'].value_counts(normalize=True)"
   ]
  },
  {
   "cell_type": "code",
   "execution_count": 186,
   "metadata": {},
   "outputs": [
    {
     "data": {
      "text/plain": [
       "1    3506\n",
       "0    3506\n",
       "Name: arstmade, dtype: int64"
      ]
     },
     "execution_count": 186,
     "metadata": {},
     "output_type": "execute_result"
    }
   ],
   "source": [
    "smote = SMOTE()\n",
    "X_train_resampled, y_train_resampled = smote.fit_sample(split['X_train'], split['y_train']) \n",
    "y_train_resampled.value_counts()"
   ]
  },
  {
   "cell_type": "code",
   "execution_count": 187,
   "metadata": {},
   "outputs": [],
   "source": [
    "logit = LogisticRegression(solver='saga', penalty='l1', max_iter=4000)"
   ]
  },
  {
   "cell_type": "code",
   "execution_count": 188,
   "metadata": {},
   "outputs": [
    {
     "name": "stdout",
     "output_type": "stream",
     "text": [
      "0    3370\n",
      "1     380\n",
      "Name: arstmade, dtype: int64\n",
      "0    0.898667\n",
      "1    0.101333\n",
      "Name: arstmade, dtype: float64\n"
     ]
    }
   ],
   "source": [
    "logit.fit(X_train_resampled, y_train_resampled)\n",
    "y_hat_train = logit.predict(split['X_train'])\n",
    "residuals = np.abs(split['y_train'] - y_hat_train)\n",
    "print(pd.Series(residuals).value_counts())\n",
    "print(pd.Series(residuals).value_counts(normalize=True))"
   ]
  },
  {
   "cell_type": "code",
   "execution_count": 189,
   "metadata": {},
   "outputs": [
    {
     "data": {
      "text/plain": [
       "0    3248\n",
       "1     502\n",
       "dtype: int64"
      ]
     },
     "execution_count": 189,
     "metadata": {},
     "output_type": "execute_result"
    }
   ],
   "source": [
    "pd.Series(y_hat_train).value_counts()"
   ]
  },
  {
   "cell_type": "code",
   "execution_count": 190,
   "metadata": {},
   "outputs": [
    {
     "name": "stdout",
     "output_type": "stream",
     "text": [
      "0    1119\n",
      "1     131\n",
      "Name: arstmade, dtype: int64\n",
      "0    0.8952\n",
      "1    0.1048\n",
      "Name: arstmade, dtype: float64\n"
     ]
    }
   ],
   "source": [
    "y_hat_test = logit.predict(split['X_test'])\n",
    "residuals = np.abs(split['y_test'] - y_hat_test)\n",
    "print(pd.Series(residuals).value_counts())\n",
    "print(pd.Series(residuals).value_counts(normalize=True))"
   ]
  },
  {
   "cell_type": "code",
   "execution_count": 191,
   "metadata": {},
   "outputs": [
    {
     "data": {
      "text/plain": [
       "array([[ 1.15422117, -0.63778506, -2.76921075, -0.43906889,  1.53664947,\n",
       "         4.71244694,  5.92921729, -2.63908453,  0.        ,  0.        ,\n",
       "         0.        , -0.02803667,  0.        ,  0.        , -1.20198606,\n",
       "        -0.6356687 , -2.01897471, -1.57564569, -0.33389638,  0.21683498,\n",
       "         2.36879078,  0.        , -2.45493293, -1.06587496, -0.05039847,\n",
       "        -2.07659287,  0.33961796, -1.04238158, -0.96452628, -0.92649511,\n",
       "        -3.13833436, -0.80436542, -2.71756743, -2.22544411, -0.58363806,\n",
       "        -0.37144361, -1.7388306 ,  0.        , -2.33176135, -2.07317647,\n",
       "        -0.25440522, -0.63755845,  0.        , -2.14312206, -2.25814912,\n",
       "        -1.29766975, -0.73734479, -0.16672737, -1.79909294, -0.64480502,\n",
       "        -2.15552186, -4.068843  , -1.81998161,  2.25932235,  0.53537669,\n",
       "        -0.57391598, -2.2129033 ,  0.        ]])"
      ]
     },
     "execution_count": 191,
     "metadata": {},
     "output_type": "execute_result"
    }
   ],
   "source": [
    "logit.coef_"
   ]
  },
  {
   "cell_type": "code",
   "execution_count": 192,
   "metadata": {},
   "outputs": [
    {
     "data": {
      "text/plain": [
       "Index(['explnstp', 'othpers', 'sumissue', 'offunif', 'frisked', 'searched',\n",
       "       'contrabn', 'adtlrept', 'pistol', 'riflshot', 'asltweap', 'knifcuti',\n",
       "       'machgun', 'othrweap', 'pf_hands', 'pf_wall', 'pf_grnd', 'pf_drwep',\n",
       "       'pf_ptwep', 'pf_baton', 'pf_hcuff', 'pf_pepsp', 'pf_other', 'radio',\n",
       "       'ac_rept', 'ac_inves', 'rf_vcrim', 'rf_othsw', 'ac_proxm', 'rf_attir',\n",
       "       'cs_objcs', 'cs_descr', 'cs_casng', 'cs_lkout', 'rf_vcact', 'cs_cloth',\n",
       "       'cs_drgtr', 'ac_evasv', 'ac_assoc', 'cs_furtv', 'rf_rfcmp', 'ac_cgdir',\n",
       "       'rf_verbl', 'cs_vcrim', 'cs_bulge', 'cs_other', 'ac_incid', 'ac_time',\n",
       "       'rf_knowl', 'ac_stsnd', 'ac_other', 'sb_hdobj', 'sb_outln', 'sb_admis',\n",
       "       'sb_other', 'rf_furt', 'rf_bulg', 'wepfound'],\n",
       "      dtype='object')"
      ]
     },
     "execution_count": 192,
     "metadata": {},
     "output_type": "execute_result"
    }
   ],
   "source": [
    "split['X_train'].columns"
   ]
  },
  {
   "cell_type": "code",
   "execution_count": 193,
   "metadata": {},
   "outputs": [
    {
     "data": {
      "text/html": [
       "<div>\n",
       "<style scoped>\n",
       "    .dataframe tbody tr th:only-of-type {\n",
       "        vertical-align: middle;\n",
       "    }\n",
       "\n",
       "    .dataframe tbody tr th {\n",
       "        vertical-align: top;\n",
       "    }\n",
       "\n",
       "    .dataframe thead th {\n",
       "        text-align: right;\n",
       "    }\n",
       "</style>\n",
       "<table border=\"1\" class=\"dataframe\">\n",
       "  <thead>\n",
       "    <tr style=\"text-align: right;\">\n",
       "      <th></th>\n",
       "      <th>0</th>\n",
       "    </tr>\n",
       "  </thead>\n",
       "  <tbody>\n",
       "    <tr>\n",
       "      <th>explnstp</th>\n",
       "      <td>1.154221</td>\n",
       "    </tr>\n",
       "    <tr>\n",
       "      <th>othpers</th>\n",
       "      <td>-0.637785</td>\n",
       "    </tr>\n",
       "    <tr>\n",
       "      <th>sumissue</th>\n",
       "      <td>-2.769211</td>\n",
       "    </tr>\n",
       "    <tr>\n",
       "      <th>offunif</th>\n",
       "      <td>-0.439069</td>\n",
       "    </tr>\n",
       "    <tr>\n",
       "      <th>frisked</th>\n",
       "      <td>1.536649</td>\n",
       "    </tr>\n",
       "    <tr>\n",
       "      <th>searched</th>\n",
       "      <td>4.712447</td>\n",
       "    </tr>\n",
       "    <tr>\n",
       "      <th>contrabn</th>\n",
       "      <td>5.929217</td>\n",
       "    </tr>\n",
       "    <tr>\n",
       "      <th>adtlrept</th>\n",
       "      <td>-2.639085</td>\n",
       "    </tr>\n",
       "    <tr>\n",
       "      <th>pistol</th>\n",
       "      <td>0.000000</td>\n",
       "    </tr>\n",
       "    <tr>\n",
       "      <th>riflshot</th>\n",
       "      <td>0.000000</td>\n",
       "    </tr>\n",
       "    <tr>\n",
       "      <th>asltweap</th>\n",
       "      <td>0.000000</td>\n",
       "    </tr>\n",
       "    <tr>\n",
       "      <th>knifcuti</th>\n",
       "      <td>-0.028037</td>\n",
       "    </tr>\n",
       "    <tr>\n",
       "      <th>machgun</th>\n",
       "      <td>0.000000</td>\n",
       "    </tr>\n",
       "    <tr>\n",
       "      <th>othrweap</th>\n",
       "      <td>0.000000</td>\n",
       "    </tr>\n",
       "    <tr>\n",
       "      <th>pf_hands</th>\n",
       "      <td>-1.201986</td>\n",
       "    </tr>\n",
       "    <tr>\n",
       "      <th>pf_wall</th>\n",
       "      <td>-0.635669</td>\n",
       "    </tr>\n",
       "    <tr>\n",
       "      <th>pf_grnd</th>\n",
       "      <td>-2.018975</td>\n",
       "    </tr>\n",
       "    <tr>\n",
       "      <th>pf_drwep</th>\n",
       "      <td>-1.575646</td>\n",
       "    </tr>\n",
       "    <tr>\n",
       "      <th>pf_ptwep</th>\n",
       "      <td>-0.333896</td>\n",
       "    </tr>\n",
       "    <tr>\n",
       "      <th>pf_baton</th>\n",
       "      <td>0.216835</td>\n",
       "    </tr>\n",
       "    <tr>\n",
       "      <th>pf_hcuff</th>\n",
       "      <td>2.368791</td>\n",
       "    </tr>\n",
       "    <tr>\n",
       "      <th>pf_pepsp</th>\n",
       "      <td>0.000000</td>\n",
       "    </tr>\n",
       "    <tr>\n",
       "      <th>pf_other</th>\n",
       "      <td>-2.454933</td>\n",
       "    </tr>\n",
       "    <tr>\n",
       "      <th>radio</th>\n",
       "      <td>-1.065875</td>\n",
       "    </tr>\n",
       "    <tr>\n",
       "      <th>ac_rept</th>\n",
       "      <td>-0.050398</td>\n",
       "    </tr>\n",
       "    <tr>\n",
       "      <th>ac_inves</th>\n",
       "      <td>-2.076593</td>\n",
       "    </tr>\n",
       "    <tr>\n",
       "      <th>rf_vcrim</th>\n",
       "      <td>0.339618</td>\n",
       "    </tr>\n",
       "    <tr>\n",
       "      <th>rf_othsw</th>\n",
       "      <td>-1.042382</td>\n",
       "    </tr>\n",
       "    <tr>\n",
       "      <th>ac_proxm</th>\n",
       "      <td>-0.964526</td>\n",
       "    </tr>\n",
       "    <tr>\n",
       "      <th>rf_attir</th>\n",
       "      <td>-0.926495</td>\n",
       "    </tr>\n",
       "    <tr>\n",
       "      <th>cs_objcs</th>\n",
       "      <td>-3.138334</td>\n",
       "    </tr>\n",
       "    <tr>\n",
       "      <th>cs_descr</th>\n",
       "      <td>-0.804365</td>\n",
       "    </tr>\n",
       "    <tr>\n",
       "      <th>cs_casng</th>\n",
       "      <td>-2.717567</td>\n",
       "    </tr>\n",
       "    <tr>\n",
       "      <th>cs_lkout</th>\n",
       "      <td>-2.225444</td>\n",
       "    </tr>\n",
       "    <tr>\n",
       "      <th>rf_vcact</th>\n",
       "      <td>-0.583638</td>\n",
       "    </tr>\n",
       "    <tr>\n",
       "      <th>cs_cloth</th>\n",
       "      <td>-0.371444</td>\n",
       "    </tr>\n",
       "    <tr>\n",
       "      <th>cs_drgtr</th>\n",
       "      <td>-1.738831</td>\n",
       "    </tr>\n",
       "    <tr>\n",
       "      <th>ac_evasv</th>\n",
       "      <td>0.000000</td>\n",
       "    </tr>\n",
       "    <tr>\n",
       "      <th>ac_assoc</th>\n",
       "      <td>-2.331761</td>\n",
       "    </tr>\n",
       "    <tr>\n",
       "      <th>cs_furtv</th>\n",
       "      <td>-2.073176</td>\n",
       "    </tr>\n",
       "    <tr>\n",
       "      <th>rf_rfcmp</th>\n",
       "      <td>-0.254405</td>\n",
       "    </tr>\n",
       "    <tr>\n",
       "      <th>ac_cgdir</th>\n",
       "      <td>-0.637558</td>\n",
       "    </tr>\n",
       "    <tr>\n",
       "      <th>rf_verbl</th>\n",
       "      <td>0.000000</td>\n",
       "    </tr>\n",
       "    <tr>\n",
       "      <th>cs_vcrim</th>\n",
       "      <td>-2.143122</td>\n",
       "    </tr>\n",
       "    <tr>\n",
       "      <th>cs_bulge</th>\n",
       "      <td>-2.258149</td>\n",
       "    </tr>\n",
       "    <tr>\n",
       "      <th>cs_other</th>\n",
       "      <td>-1.297670</td>\n",
       "    </tr>\n",
       "    <tr>\n",
       "      <th>ac_incid</th>\n",
       "      <td>-0.737345</td>\n",
       "    </tr>\n",
       "    <tr>\n",
       "      <th>ac_time</th>\n",
       "      <td>-0.166727</td>\n",
       "    </tr>\n",
       "    <tr>\n",
       "      <th>rf_knowl</th>\n",
       "      <td>-1.799093</td>\n",
       "    </tr>\n",
       "    <tr>\n",
       "      <th>ac_stsnd</th>\n",
       "      <td>-0.644805</td>\n",
       "    </tr>\n",
       "    <tr>\n",
       "      <th>ac_other</th>\n",
       "      <td>-2.155522</td>\n",
       "    </tr>\n",
       "    <tr>\n",
       "      <th>sb_hdobj</th>\n",
       "      <td>-4.068843</td>\n",
       "    </tr>\n",
       "    <tr>\n",
       "      <th>sb_outln</th>\n",
       "      <td>-1.819982</td>\n",
       "    </tr>\n",
       "    <tr>\n",
       "      <th>sb_admis</th>\n",
       "      <td>2.259322</td>\n",
       "    </tr>\n",
       "    <tr>\n",
       "      <th>sb_other</th>\n",
       "      <td>0.535377</td>\n",
       "    </tr>\n",
       "    <tr>\n",
       "      <th>rf_furt</th>\n",
       "      <td>-0.573916</td>\n",
       "    </tr>\n",
       "    <tr>\n",
       "      <th>rf_bulg</th>\n",
       "      <td>-2.212903</td>\n",
       "    </tr>\n",
       "    <tr>\n",
       "      <th>wepfound</th>\n",
       "      <td>0.000000</td>\n",
       "    </tr>\n",
       "  </tbody>\n",
       "</table>\n",
       "</div>"
      ],
      "text/plain": [
       "                 0\n",
       "explnstp  1.154221\n",
       "othpers  -0.637785\n",
       "sumissue -2.769211\n",
       "offunif  -0.439069\n",
       "frisked   1.536649\n",
       "searched  4.712447\n",
       "contrabn  5.929217\n",
       "adtlrept -2.639085\n",
       "pistol    0.000000\n",
       "riflshot  0.000000\n",
       "asltweap  0.000000\n",
       "knifcuti -0.028037\n",
       "machgun   0.000000\n",
       "othrweap  0.000000\n",
       "pf_hands -1.201986\n",
       "pf_wall  -0.635669\n",
       "pf_grnd  -2.018975\n",
       "pf_drwep -1.575646\n",
       "pf_ptwep -0.333896\n",
       "pf_baton  0.216835\n",
       "pf_hcuff  2.368791\n",
       "pf_pepsp  0.000000\n",
       "pf_other -2.454933\n",
       "radio    -1.065875\n",
       "ac_rept  -0.050398\n",
       "ac_inves -2.076593\n",
       "rf_vcrim  0.339618\n",
       "rf_othsw -1.042382\n",
       "ac_proxm -0.964526\n",
       "rf_attir -0.926495\n",
       "cs_objcs -3.138334\n",
       "cs_descr -0.804365\n",
       "cs_casng -2.717567\n",
       "cs_lkout -2.225444\n",
       "rf_vcact -0.583638\n",
       "cs_cloth -0.371444\n",
       "cs_drgtr -1.738831\n",
       "ac_evasv  0.000000\n",
       "ac_assoc -2.331761\n",
       "cs_furtv -2.073176\n",
       "rf_rfcmp -0.254405\n",
       "ac_cgdir -0.637558\n",
       "rf_verbl  0.000000\n",
       "cs_vcrim -2.143122\n",
       "cs_bulge -2.258149\n",
       "cs_other -1.297670\n",
       "ac_incid -0.737345\n",
       "ac_time  -0.166727\n",
       "rf_knowl -1.799093\n",
       "ac_stsnd -0.644805\n",
       "ac_other -2.155522\n",
       "sb_hdobj -4.068843\n",
       "sb_outln -1.819982\n",
       "sb_admis  2.259322\n",
       "sb_other  0.535377\n",
       "rf_furt  -0.573916\n",
       "rf_bulg  -2.212903\n",
       "wepfound  0.000000"
      ]
     },
     "execution_count": 193,
     "metadata": {},
     "output_type": "execute_result"
    }
   ],
   "source": [
    "coef = pd.DataFrame(logit.coef_)\n",
    "coef.columns = split['X_train'].columns\n",
    "coef.T"
   ]
  },
  {
   "cell_type": "code",
   "execution_count": 60,
   "metadata": {},
   "outputs": [
    {
     "data": {
      "text/plain": [
       "sumissue  arstmade\n",
       "0         0           4372\n",
       "          1            284\n",
       "1         0            332\n",
       "          1             12\n",
       "Name: year, dtype: int64"
      ]
     },
     "execution_count": 60,
     "metadata": {},
     "output_type": "execute_result"
    }
   ],
   "source": [
    "df.groupby(by=['sumissue','arstmade']).count().iloc[:,0]"
   ]
  },
  {
   "cell_type": "markdown",
   "metadata": {},
   "source": [
    "## Only pre-stop observables"
   ]
  },
  {
   "cell_type": "code",
   "execution_count": 205,
   "metadata": {},
   "outputs": [],
   "source": [
    "X_pre_stop = df[list(set(dc.Y_N_COLS).intersection(dm.PRE_STOP_OBSERVABLES))]"
   ]
  },
  {
   "cell_type": "code",
   "execution_count": 221,
   "metadata": {},
   "outputs": [
    {
     "name": "stdout",
     "output_type": "stream",
     "text": [
      "Train\n",
      " 0    3370\n",
      "1     380\n",
      "Name: arstmade, dtype: int64\n",
      "0    0.898667\n",
      "1    0.101333\n",
      "Name: arstmade, dtype: float64\n",
      "Test\n",
      " 0    1117\n",
      "1     133\n",
      "Name: arstmade, dtype: int64\n",
      "0    0.8936\n",
      "1    0.1064\n",
      "Name: arstmade, dtype: float64\n"
     ]
    }
   ],
   "source": [
    "split, logit = dm.split_and_logit(X_y_n, y)"
   ]
  },
  {
   "cell_type": "code",
   "execution_count": 206,
   "metadata": {},
   "outputs": [
    {
     "name": "stdout",
     "output_type": "stream",
     "text": [
      "Train\n",
      " 0    2503\n",
      "1    1247\n",
      "Name: arstmade, dtype: int64\n",
      "0    0.667467\n",
      "1    0.332533\n",
      "Name: arstmade, dtype: float64\n",
      "Test\n",
      " 0    824\n",
      "1    426\n",
      "Name: arstmade, dtype: int64\n",
      "0    0.6592\n",
      "1    0.3408\n",
      "Name: arstmade, dtype: float64\n"
     ]
    }
   ],
   "source": [
    "split, logit = dm.split_and_logit(X_pre_stop, y)"
   ]
  },
  {
   "cell_type": "code",
   "execution_count": 219,
   "metadata": {},
   "outputs": [
    {
     "data": {
      "text/plain": [
       "0.5"
      ]
     },
     "execution_count": 219,
     "metadata": {},
     "output_type": "execute_result"
    }
   ],
   "source": [
    "balanced_accuracy_score(split['y_test'], np.zeros(split['y_test'].shape))"
   ]
  },
  {
   "cell_type": "code",
   "execution_count": 222,
   "metadata": {},
   "outputs": [
    {
     "data": {
      "text/plain": [
       "0.7847765715728352"
      ]
     },
     "execution_count": 222,
     "metadata": {},
     "output_type": "execute_result"
    }
   ],
   "source": [
    "balanced_accuracy_score(split['y_test'], logit.predict(split['X_test']))"
   ]
  },
  {
   "cell_type": "code",
   "execution_count": 225,
   "metadata": {},
   "outputs": [
    {
     "data": {
      "text/plain": [
       "M    2947\n",
       "T    1530\n",
       "H     430\n",
       "Z      74\n",
       "U      19\n",
       "Name: build, dtype: int64"
      ]
     },
     "execution_count": 225,
     "metadata": {},
     "output_type": "execute_result"
    }
   ],
   "source": [
    "df.build.value_counts()"
   ]
  },
  {
   "cell_type": "code",
   "execution_count": 227,
   "metadata": {},
   "outputs": [
    {
     "data": {
      "text/plain": [
       "B                                 0.5180\n",
       "Q                                 0.2442\n",
       "W                                 0.0906\n",
       "P                                 0.0650\n",
       "Z                                 0.0370\n",
       "A                                 0.0324\n",
       "U                                 0.0044\n",
       "I                                 0.0036\n",
       "BLACK                             0.0028\n",
       "WHITE HISPANIC                    0.0012\n",
       "WHITE                             0.0004\n",
       "BLACK HISPANIC                    0.0004\n",
       "X                                 0.0000\n",
       "ASIAN/PAC.ISL                     0.0000\n",
       "ASIAN / PACIFIC ISLANDER          0.0000\n",
       "AMERICAN INDIAN/ALASKAN NATIVE    0.0000\n",
       "AMER IND                          0.0000\n",
       "Name: race, dtype: float64"
      ]
     },
     "execution_count": 227,
     "metadata": {},
     "output_type": "execute_result"
    }
   ],
   "source": [
    "df.race.value_counts(normalize=True)"
   ]
  },
  {
   "cell_type": "code",
   "execution_count": 228,
   "metadata": {},
   "outputs": [
    {
     "data": {
      "text/plain": [
       "B                                 0.515874\n",
       "Q                                 0.242384\n",
       "W                                 0.098652\n",
       "P                                 0.061078\n",
       "Z                                 0.038161\n",
       "A                                 0.030701\n",
       "U                                 0.004500\n",
       "I                                 0.003928\n",
       "BLACK                             0.002473\n",
       "WHITE HISPANIC                    0.000960\n",
       "X                                 0.000420\n",
       "WHITE                             0.000402\n",
       "BLACK HISPANIC                    0.000379\n",
       "ASIAN / PACIFIC ISLANDER          0.000043\n",
       "ASIAN/PAC.ISL                     0.000040\n",
       "AMERICAN INDIAN/ALASKAN NATIVE    0.000003\n",
       "AMER IND                          0.000002\n",
       "Name: race, dtype: float64"
      ]
     },
     "execution_count": 228,
     "metadata": {},
     "output_type": "execute_result"
    }
   ],
   "source": [
    "full_df.race.value_counts(normalize=True)"
   ]
  },
  {
   "cell_type": "code",
   "execution_count": 229,
   "metadata": {},
   "outputs": [
    {
     "data": {
      "text/plain": [
       "BLACK                             0.579202\n",
       "WHITE HISPANIC                    0.226084\n",
       "WHITE                             0.088623\n",
       "BLACK HISPANIC                    0.086702\n",
       "ASIAN/PAC.ISL                     0.018566\n",
       "AMER IND                          0.000823\n",
       "Z                                 0.000000\n",
       "AMERICAN INDIAN/ALASKAN NATIVE    0.000000\n",
       "ASIAN / PACIFIC ISLANDER          0.000000\n",
       "B                                 0.000000\n",
       "I                                 0.000000\n",
       "X                                 0.000000\n",
       "P                                 0.000000\n",
       "Q                                 0.000000\n",
       "U                                 0.000000\n",
       "W                                 0.000000\n",
       "A                                 0.000000\n",
       "Name: race, dtype: float64"
      ]
     },
     "execution_count": 229,
     "metadata": {},
     "output_type": "execute_result"
    }
   ],
   "source": [
    "full_df[full_df.year==2017].race.value_counts(normalize=True)"
   ]
  },
  {
   "cell_type": "code",
   "execution_count": 231,
   "metadata": {},
   "outputs": [
    {
     "name": "stdout",
     "output_type": "stream",
     "text": [
      "Loading 2017...\n"
     ]
    }
   ],
   "source": [
    "df17 = dc.load_sqf(2017, convert=False)"
   ]
  },
  {
   "cell_type": "raw",
   "metadata": {},
   "source": []
  },
  {
   "cell_type": "code",
   "execution_count": 236,
   "metadata": {},
   "outputs": [
    {
     "data": {
      "text/plain": [
       "BRO    0.850370\n",
       "BLK    0.089673\n",
       "ZZZ    0.022484\n",
       "BLU    0.015599\n",
       "HAZ    0.009237\n",
       "GRN    0.008976\n",
       "GRY    0.001394\n",
       "BR     0.001133\n",
       "OTH    0.000349\n",
       "MED    0.000261\n",
       "THN    0.000174\n",
       "HEA    0.000174\n",
       "MUL    0.000087\n",
       "MAR    0.000087\n",
       "Name: SUSPECT_EYE_COLOR, dtype: float64"
      ]
     },
     "execution_count": 236,
     "metadata": {},
     "output_type": "execute_result"
    }
   ],
   "source": [
    "df17.SUSPECT_EYE_COLOR.value_counts(normalize=True)"
   ]
  },
  {
   "cell_type": "code",
   "execution_count": 461,
   "metadata": {},
   "outputs": [
    {
     "data": {
      "text/plain": [
       "0    A\n",
       "1     \n",
       "2    B\n",
       "dtype: object"
      ]
     },
     "execution_count": 461,
     "metadata": {},
     "output_type": "execute_result"
    }
   ],
   "source": [
    "x = pd.Series(['A', np.NaN, 'B'])\n",
    "x.fillna('').asty"
   ]
  },
  {
   "cell_type": "code",
   "execution_count": 459,
   "metadata": {},
   "outputs": [
    {
     "data": {
      "text/plain": [
       "0           70\n",
       "1           70\n",
       "2           68\n",
       "3           48\n",
       "4           48\n",
       "          ... \n",
       "5087345    121\n",
       "5087346     32\n",
       "5087347     32\n",
       "5087348     32\n",
       "5087349     79\n",
       "Name: pct, Length: 5087350, dtype: int64"
      ]
     },
     "execution_count": 459,
     "metadata": {},
     "output_type": "execute_result"
    }
   ],
   "source": [
    "full_df.pct.astype(int)"
   ]
  },
  {
   "cell_type": "code",
   "execution_count": 238,
   "metadata": {},
   "outputs": [
    {
     "name": "stdout",
     "output_type": "stream",
     "text": [
      "<class 'pandas.core.frame.DataFrame'>\n",
      "Int64Index: 5000 entries, 3079204 to 1353209\n",
      "Columns: 118 entries, year to detail1_\n",
      "dtypes: Int64(7), category(20), datetime64[ns](1), float64(14), int8(59), object(17)\n",
      "memory usage: 1.9+ MB\n"
     ]
    }
   ],
   "source": [
    "df.info()"
   ]
  },
  {
   "cell_type": "code",
   "execution_count": 239,
   "metadata": {},
   "outputs": [
    {
     "data": {
      "text/plain": [
       "M    2947\n",
       "T    1530\n",
       "H     430\n",
       "Z      74\n",
       "U      19\n",
       "Name: build, dtype: int64"
      ]
     },
     "execution_count": 239,
     "metadata": {},
     "output_type": "execute_result"
    }
   ],
   "source": [
    "df.build.value_counts()"
   ]
  },
  {
   "cell_type": "code",
   "execution_count": 240,
   "metadata": {},
   "outputs": [],
   "source": [
    "ONE_HOT_ENCODE = ['build', 'pct']"
   ]
  },
  {
   "cell_type": "code",
   "execution_count": 354,
   "metadata": {},
   "outputs": [
    {
     "data": {
      "text/plain": [
       "['recstat',\n",
       " 'inout',\n",
       " 'trhsloc',\n",
       " 'typeofid',\n",
       " 'officrid',\n",
       " 'offverb',\n",
       " 'offshld',\n",
       " 'sex',\n",
       " 'race',\n",
       " 'haircolr',\n",
       " 'eyecolor',\n",
       " 'build',\n",
       " 'addrtyp',\n",
       " 'city',\n",
       " 'sector',\n",
       " 'dettypcm',\n",
       " 'month',\n",
       " 'day',\n",
       " 'forceuse']"
      ]
     },
     "execution_count": 354,
     "metadata": {},
     "output_type": "execute_result"
    }
   ],
   "source": [
    "cats = df.select_dtypes('category').columns.to_list()\n",
    "cats"
   ]
  },
  {
   "cell_type": "code",
   "execution_count": 355,
   "metadata": {},
   "outputs": [
    {
     "data": {
      "text/html": [
       "<div>\n",
       "<style scoped>\n",
       "    .dataframe tbody tr th:only-of-type {\n",
       "        vertical-align: middle;\n",
       "    }\n",
       "\n",
       "    .dataframe tbody tr th {\n",
       "        vertical-align: top;\n",
       "    }\n",
       "\n",
       "    .dataframe thead th {\n",
       "        text-align: right;\n",
       "    }\n",
       "</style>\n",
       "<table border=\"1\" class=\"dataframe\">\n",
       "  <thead>\n",
       "    <tr style=\"text-align: right;\">\n",
       "      <th></th>\n",
       "      <th>recstat</th>\n",
       "      <th>inout</th>\n",
       "      <th>trhsloc</th>\n",
       "      <th>typeofid</th>\n",
       "      <th>officrid</th>\n",
       "      <th>offverb</th>\n",
       "      <th>offshld</th>\n",
       "      <th>sex</th>\n",
       "      <th>race</th>\n",
       "      <th>haircolr</th>\n",
       "      <th>eyecolor</th>\n",
       "      <th>build</th>\n",
       "      <th>addrtyp</th>\n",
       "      <th>city</th>\n",
       "      <th>sector</th>\n",
       "      <th>dettypcm</th>\n",
       "      <th>month</th>\n",
       "      <th>day</th>\n",
       "      <th>forceuse</th>\n",
       "    </tr>\n",
       "  </thead>\n",
       "  <tbody>\n",
       "    <tr>\n",
       "      <th>count</th>\n",
       "      <td>4857</td>\n",
       "      <td>4967</td>\n",
       "      <td>3191</td>\n",
       "      <td>4954</td>\n",
       "      <td>5000.0</td>\n",
       "      <td>5000.0</td>\n",
       "      <td>5000.0</td>\n",
       "      <td>5000</td>\n",
       "      <td>4999</td>\n",
       "      <td>5000</td>\n",
       "      <td>5000</td>\n",
       "      <td>5000</td>\n",
       "      <td>4967</td>\n",
       "      <td>4248</td>\n",
       "      <td>4109</td>\n",
       "      <td>4247</td>\n",
       "      <td>5000</td>\n",
       "      <td>5000</td>\n",
       "      <td>121</td>\n",
       "    </tr>\n",
       "    <tr>\n",
       "      <th>unique</th>\n",
       "      <td>3</td>\n",
       "      <td>3</td>\n",
       "      <td>3</td>\n",
       "      <td>4</td>\n",
       "      <td>2.0</td>\n",
       "      <td>2.0</td>\n",
       "      <td>2.0</td>\n",
       "      <td>3</td>\n",
       "      <td>8</td>\n",
       "      <td>10</td>\n",
       "      <td>11</td>\n",
       "      <td>5</td>\n",
       "      <td>2</td>\n",
       "      <td>5</td>\n",
       "      <td>18</td>\n",
       "      <td>2</td>\n",
       "      <td>16</td>\n",
       "      <td>16</td>\n",
       "      <td>6</td>\n",
       "    </tr>\n",
       "    <tr>\n",
       "      <th>top</th>\n",
       "      <td>A</td>\n",
       "      <td>O</td>\n",
       "      <td>P</td>\n",
       "      <td>P</td>\n",
       "      <td>0.0</td>\n",
       "      <td>0.0</td>\n",
       "      <td>0.0</td>\n",
       "      <td>M</td>\n",
       "      <td>B</td>\n",
       "      <td>BK</td>\n",
       "      <td>BR</td>\n",
       "      <td>M</td>\n",
       "      <td>L</td>\n",
       "      <td>BROOKLYN</td>\n",
       "      <td>A</td>\n",
       "      <td>CM</td>\n",
       "      <td>&lt;bound method PandasDelegate._add_delegate_accessors.&lt;locals&gt;._create_delegator_method.&lt;locals&gt;....</td>\n",
       "      <td>&lt;bound method PandasDelegate._add_delegate_accessors.&lt;locals&gt;._create_delegator_method.&lt;locals&gt;....</td>\n",
       "      <td>DS</td>\n",
       "    </tr>\n",
       "    <tr>\n",
       "      <th>freq</th>\n",
       "      <td>3498</td>\n",
       "      <td>3855</td>\n",
       "      <td>2115</td>\n",
       "      <td>2692</td>\n",
       "      <td>4988.0</td>\n",
       "      <td>4049.0</td>\n",
       "      <td>3612.0</td>\n",
       "      <td>4538</td>\n",
       "      <td>2526</td>\n",
       "      <td>3712</td>\n",
       "      <td>4381</td>\n",
       "      <td>2947</td>\n",
       "      <td>3545</td>\n",
       "      <td>1537</td>\n",
       "      <td>460</td>\n",
       "      <td>4235</td>\n",
       "      <td>722</td>\n",
       "      <td>722</td>\n",
       "      <td>56</td>\n",
       "    </tr>\n",
       "  </tbody>\n",
       "</table>\n",
       "</div>"
      ],
      "text/plain": [
       "       recstat inout trhsloc typeofid  officrid  offverb  offshld   sex  race  \\\n",
       "count     4857  4967    3191     4954    5000.0   5000.0   5000.0  5000  4999   \n",
       "unique       3     3       3        4       2.0      2.0      2.0     3     8   \n",
       "top          A     O       P        P       0.0      0.0      0.0     M     B   \n",
       "freq      3498  3855    2115     2692    4988.0   4049.0   3612.0  4538  2526   \n",
       "\n",
       "       haircolr eyecolor build addrtyp      city sector dettypcm  \\\n",
       "count      5000     5000  5000    4967      4248   4109     4247   \n",
       "unique       10       11     5       2         5     18        2   \n",
       "top          BK       BR     M       L  BROOKLYN      A       CM   \n",
       "freq       3712     4381  2947    3545      1537    460     4235   \n",
       "\n",
       "                                                                                                      month  \\\n",
       "count                                                                                                  5000   \n",
       "unique                                                                                                   16   \n",
       "top     <bound method PandasDelegate._add_delegate_accessors.<locals>._create_delegator_method.<locals>....   \n",
       "freq                                                                                                    722   \n",
       "\n",
       "                                                                                                        day  \\\n",
       "count                                                                                                  5000   \n",
       "unique                                                                                                   16   \n",
       "top     <bound method PandasDelegate._add_delegate_accessors.<locals>._create_delegator_method.<locals>....   \n",
       "freq                                                                                                    722   \n",
       "\n",
       "       forceuse  \n",
       "count       121  \n",
       "unique        6  \n",
       "top          DS  \n",
       "freq         56  "
      ]
     },
     "execution_count": 355,
     "metadata": {},
     "output_type": "execute_result"
    }
   ],
   "source": [
    "df[cats].describe()"
   ]
  },
  {
   "cell_type": "code",
   "execution_count": 352,
   "metadata": {},
   "outputs": [
    {
     "data": {
      "text/plain": [
       "4972"
      ]
     },
     "execution_count": 352,
     "metadata": {},
     "output_type": "execute_result"
    }
   ],
   "source": [
    "df.sumissue.value_counts().sum()"
   ]
  },
  {
   "cell_type": "code",
   "execution_count": 416,
   "metadata": {},
   "outputs": [],
   "source": [
    "sectors = pd.DataFrame(full_df[['sector','pct']].dropna().groupby(['sector','pct']).size().reset_index().rename(columns={0:'ct'}))"
   ]
  },
  {
   "cell_type": "code",
   "execution_count": 418,
   "metadata": {},
   "outputs": [
    {
     "data": {
      "text/html": [
       "<div>\n",
       "<style scoped>\n",
       "    .dataframe tbody tr th:only-of-type {\n",
       "        vertical-align: middle;\n",
       "    }\n",
       "\n",
       "    .dataframe tbody tr th {\n",
       "        vertical-align: top;\n",
       "    }\n",
       "\n",
       "    .dataframe thead th {\n",
       "        text-align: right;\n",
       "    }\n",
       "</style>\n",
       "<table border=\"1\" class=\"dataframe\">\n",
       "  <thead>\n",
       "    <tr style=\"text-align: right;\">\n",
       "      <th></th>\n",
       "      <th>sector</th>\n",
       "      <th>pct</th>\n",
       "      <th>ct</th>\n",
       "    </tr>\n",
       "  </thead>\n",
       "  <tbody>\n",
       "    <tr>\n",
       "      <th>2</th>\n",
       "      <td>A</td>\n",
       "      <td>1</td>\n",
       "      <td>1626</td>\n",
       "    </tr>\n",
       "    <tr>\n",
       "      <th>3</th>\n",
       "      <td>A</td>\n",
       "      <td>5</td>\n",
       "      <td>4109</td>\n",
       "    </tr>\n",
       "    <tr>\n",
       "      <th>4</th>\n",
       "      <td>A</td>\n",
       "      <td>6</td>\n",
       "      <td>2182</td>\n",
       "    </tr>\n",
       "    <tr>\n",
       "      <th>5</th>\n",
       "      <td>A</td>\n",
       "      <td>7</td>\n",
       "      <td>7769</td>\n",
       "    </tr>\n",
       "    <tr>\n",
       "      <th>6</th>\n",
       "      <td>A</td>\n",
       "      <td>9</td>\n",
       "      <td>12694</td>\n",
       "    </tr>\n",
       "    <tr>\n",
       "      <th>7</th>\n",
       "      <td>A</td>\n",
       "      <td>10</td>\n",
       "      <td>5682</td>\n",
       "    </tr>\n",
       "    <tr>\n",
       "      <th>8</th>\n",
       "      <td>A</td>\n",
       "      <td>13</td>\n",
       "      <td>1623</td>\n",
       "    </tr>\n",
       "    <tr>\n",
       "      <th>9</th>\n",
       "      <td>A</td>\n",
       "      <td>14</td>\n",
       "      <td>1637</td>\n",
       "    </tr>\n",
       "    <tr>\n",
       "      <th>10</th>\n",
       "      <td>A</td>\n",
       "      <td>17</td>\n",
       "      <td>1682</td>\n",
       "    </tr>\n",
       "    <tr>\n",
       "      <th>11</th>\n",
       "      <td>A</td>\n",
       "      <td>18</td>\n",
       "      <td>499</td>\n",
       "    </tr>\n",
       "    <tr>\n",
       "      <th>12</th>\n",
       "      <td>A</td>\n",
       "      <td>19</td>\n",
       "      <td>2873</td>\n",
       "    </tr>\n",
       "    <tr>\n",
       "      <th>13</th>\n",
       "      <td>A</td>\n",
       "      <td>20</td>\n",
       "      <td>2885</td>\n",
       "    </tr>\n",
       "    <tr>\n",
       "      <th>14</th>\n",
       "      <td>A</td>\n",
       "      <td>22</td>\n",
       "      <td>1210</td>\n",
       "    </tr>\n",
       "    <tr>\n",
       "      <th>15</th>\n",
       "      <td>A</td>\n",
       "      <td>23</td>\n",
       "      <td>13692</td>\n",
       "    </tr>\n",
       "    <tr>\n",
       "      <th>16</th>\n",
       "      <td>A</td>\n",
       "      <td>24</td>\n",
       "      <td>2612</td>\n",
       "    </tr>\n",
       "    <tr>\n",
       "      <th>17</th>\n",
       "      <td>A</td>\n",
       "      <td>25</td>\n",
       "      <td>8836</td>\n",
       "    </tr>\n",
       "    <tr>\n",
       "      <th>18</th>\n",
       "      <td>A</td>\n",
       "      <td>26</td>\n",
       "      <td>10753</td>\n",
       "    </tr>\n",
       "    <tr>\n",
       "      <th>19</th>\n",
       "      <td>A</td>\n",
       "      <td>28</td>\n",
       "      <td>15434</td>\n",
       "    </tr>\n",
       "    <tr>\n",
       "      <th>20</th>\n",
       "      <td>A</td>\n",
       "      <td>30</td>\n",
       "      <td>6007</td>\n",
       "    </tr>\n",
       "    <tr>\n",
       "      <th>21</th>\n",
       "      <td>A</td>\n",
       "      <td>32</td>\n",
       "      <td>5766</td>\n",
       "    </tr>\n",
       "    <tr>\n",
       "      <th>22</th>\n",
       "      <td>A</td>\n",
       "      <td>33</td>\n",
       "      <td>12613</td>\n",
       "    </tr>\n",
       "    <tr>\n",
       "      <th>23</th>\n",
       "      <td>A</td>\n",
       "      <td>34</td>\n",
       "      <td>28840</td>\n",
       "    </tr>\n",
       "    <tr>\n",
       "      <th>24</th>\n",
       "      <td>A</td>\n",
       "      <td>40</td>\n",
       "      <td>13922</td>\n",
       "    </tr>\n",
       "    <tr>\n",
       "      <th>25</th>\n",
       "      <td>A</td>\n",
       "      <td>41</td>\n",
       "      <td>435</td>\n",
       "    </tr>\n",
       "    <tr>\n",
       "      <th>26</th>\n",
       "      <td>A</td>\n",
       "      <td>42</td>\n",
       "      <td>2979</td>\n",
       "    </tr>\n",
       "    <tr>\n",
       "      <th>27</th>\n",
       "      <td>A</td>\n",
       "      <td>43</td>\n",
       "      <td>10248</td>\n",
       "    </tr>\n",
       "    <tr>\n",
       "      <th>28</th>\n",
       "      <td>A</td>\n",
       "      <td>44</td>\n",
       "      <td>2234</td>\n",
       "    </tr>\n",
       "    <tr>\n",
       "      <th>29</th>\n",
       "      <td>A</td>\n",
       "      <td>45</td>\n",
       "      <td>1226</td>\n",
       "    </tr>\n",
       "    <tr>\n",
       "      <th>30</th>\n",
       "      <td>A</td>\n",
       "      <td>46</td>\n",
       "      <td>4086</td>\n",
       "    </tr>\n",
       "    <tr>\n",
       "      <th>31</th>\n",
       "      <td>A</td>\n",
       "      <td>47</td>\n",
       "      <td>7529</td>\n",
       "    </tr>\n",
       "    <tr>\n",
       "      <th>32</th>\n",
       "      <td>A</td>\n",
       "      <td>48</td>\n",
       "      <td>4518</td>\n",
       "    </tr>\n",
       "    <tr>\n",
       "      <th>33</th>\n",
       "      <td>A</td>\n",
       "      <td>49</td>\n",
       "      <td>6597</td>\n",
       "    </tr>\n",
       "    <tr>\n",
       "      <th>34</th>\n",
       "      <td>A</td>\n",
       "      <td>50</td>\n",
       "      <td>2088</td>\n",
       "    </tr>\n",
       "    <tr>\n",
       "      <th>35</th>\n",
       "      <td>A</td>\n",
       "      <td>52</td>\n",
       "      <td>1628</td>\n",
       "    </tr>\n",
       "    <tr>\n",
       "      <th>36</th>\n",
       "      <td>A</td>\n",
       "      <td>60</td>\n",
       "      <td>2598</td>\n",
       "    </tr>\n",
       "    <tr>\n",
       "      <th>37</th>\n",
       "      <td>A</td>\n",
       "      <td>61</td>\n",
       "      <td>673</td>\n",
       "    </tr>\n",
       "    <tr>\n",
       "      <th>38</th>\n",
       "      <td>A</td>\n",
       "      <td>62</td>\n",
       "      <td>5710</td>\n",
       "    </tr>\n",
       "    <tr>\n",
       "      <th>39</th>\n",
       "      <td>A</td>\n",
       "      <td>63</td>\n",
       "      <td>1066</td>\n",
       "    </tr>\n",
       "    <tr>\n",
       "      <th>40</th>\n",
       "      <td>A</td>\n",
       "      <td>66</td>\n",
       "      <td>1806</td>\n",
       "    </tr>\n",
       "    <tr>\n",
       "      <th>41</th>\n",
       "      <td>A</td>\n",
       "      <td>67</td>\n",
       "      <td>8349</td>\n",
       "    </tr>\n",
       "    <tr>\n",
       "      <th>42</th>\n",
       "      <td>A</td>\n",
       "      <td>68</td>\n",
       "      <td>684</td>\n",
       "    </tr>\n",
       "    <tr>\n",
       "      <th>43</th>\n",
       "      <td>A</td>\n",
       "      <td>69</td>\n",
       "      <td>5008</td>\n",
       "    </tr>\n",
       "    <tr>\n",
       "      <th>44</th>\n",
       "      <td>A</td>\n",
       "      <td>70</td>\n",
       "      <td>4233</td>\n",
       "    </tr>\n",
       "    <tr>\n",
       "      <th>45</th>\n",
       "      <td>A</td>\n",
       "      <td>71</td>\n",
       "      <td>8671</td>\n",
       "    </tr>\n",
       "    <tr>\n",
       "      <th>46</th>\n",
       "      <td>A</td>\n",
       "      <td>72</td>\n",
       "      <td>2036</td>\n",
       "    </tr>\n",
       "    <tr>\n",
       "      <th>47</th>\n",
       "      <td>A</td>\n",
       "      <td>73</td>\n",
       "      <td>8442</td>\n",
       "    </tr>\n",
       "    <tr>\n",
       "      <th>48</th>\n",
       "      <td>A</td>\n",
       "      <td>75</td>\n",
       "      <td>8688</td>\n",
       "    </tr>\n",
       "    <tr>\n",
       "      <th>49</th>\n",
       "      <td>A</td>\n",
       "      <td>76</td>\n",
       "      <td>13385</td>\n",
       "    </tr>\n",
       "    <tr>\n",
       "      <th>50</th>\n",
       "      <td>A</td>\n",
       "      <td>77</td>\n",
       "      <td>904</td>\n",
       "    </tr>\n",
       "    <tr>\n",
       "      <th>51</th>\n",
       "      <td>A</td>\n",
       "      <td>78</td>\n",
       "      <td>4332</td>\n",
       "    </tr>\n",
       "    <tr>\n",
       "      <th>52</th>\n",
       "      <td>A</td>\n",
       "      <td>79</td>\n",
       "      <td>16531</td>\n",
       "    </tr>\n",
       "    <tr>\n",
       "      <th>53</th>\n",
       "      <td>A</td>\n",
       "      <td>81</td>\n",
       "      <td>4978</td>\n",
       "    </tr>\n",
       "    <tr>\n",
       "      <th>54</th>\n",
       "      <td>A</td>\n",
       "      <td>83</td>\n",
       "      <td>6121</td>\n",
       "    </tr>\n",
       "    <tr>\n",
       "      <th>55</th>\n",
       "      <td>A</td>\n",
       "      <td>84</td>\n",
       "      <td>2161</td>\n",
       "    </tr>\n",
       "    <tr>\n",
       "      <th>56</th>\n",
       "      <td>A</td>\n",
       "      <td>88</td>\n",
       "      <td>8806</td>\n",
       "    </tr>\n",
       "    <tr>\n",
       "      <th>57</th>\n",
       "      <td>A</td>\n",
       "      <td>90</td>\n",
       "      <td>5974</td>\n",
       "    </tr>\n",
       "    <tr>\n",
       "      <th>58</th>\n",
       "      <td>A</td>\n",
       "      <td>94</td>\n",
       "      <td>2330</td>\n",
       "    </tr>\n",
       "    <tr>\n",
       "      <th>59</th>\n",
       "      <td>A</td>\n",
       "      <td>100</td>\n",
       "      <td>7181</td>\n",
       "    </tr>\n",
       "    <tr>\n",
       "      <th>60</th>\n",
       "      <td>A</td>\n",
       "      <td>101</td>\n",
       "      <td>4528</td>\n",
       "    </tr>\n",
       "    <tr>\n",
       "      <th>61</th>\n",
       "      <td>A</td>\n",
       "      <td>102</td>\n",
       "      <td>5091</td>\n",
       "    </tr>\n",
       "    <tr>\n",
       "      <th>62</th>\n",
       "      <td>A</td>\n",
       "      <td>103</td>\n",
       "      <td>25951</td>\n",
       "    </tr>\n",
       "    <tr>\n",
       "      <th>63</th>\n",
       "      <td>A</td>\n",
       "      <td>104</td>\n",
       "      <td>5481</td>\n",
       "    </tr>\n",
       "    <tr>\n",
       "      <th>64</th>\n",
       "      <td>A</td>\n",
       "      <td>105</td>\n",
       "      <td>4782</td>\n",
       "    </tr>\n",
       "    <tr>\n",
       "      <th>65</th>\n",
       "      <td>A</td>\n",
       "      <td>106</td>\n",
       "      <td>1820</td>\n",
       "    </tr>\n",
       "    <tr>\n",
       "      <th>66</th>\n",
       "      <td>A</td>\n",
       "      <td>107</td>\n",
       "      <td>2371</td>\n",
       "    </tr>\n",
       "    <tr>\n",
       "      <th>67</th>\n",
       "      <td>A</td>\n",
       "      <td>108</td>\n",
       "      <td>3253</td>\n",
       "    </tr>\n",
       "    <tr>\n",
       "      <th>68</th>\n",
       "      <td>A</td>\n",
       "      <td>109</td>\n",
       "      <td>3939</td>\n",
       "    </tr>\n",
       "    <tr>\n",
       "      <th>69</th>\n",
       "      <td>A</td>\n",
       "      <td>110</td>\n",
       "      <td>17221</td>\n",
       "    </tr>\n",
       "    <tr>\n",
       "      <th>70</th>\n",
       "      <td>A</td>\n",
       "      <td>111</td>\n",
       "      <td>3388</td>\n",
       "    </tr>\n",
       "    <tr>\n",
       "      <th>71</th>\n",
       "      <td>A</td>\n",
       "      <td>112</td>\n",
       "      <td>4068</td>\n",
       "    </tr>\n",
       "    <tr>\n",
       "      <th>72</th>\n",
       "      <td>A</td>\n",
       "      <td>113</td>\n",
       "      <td>3691</td>\n",
       "    </tr>\n",
       "    <tr>\n",
       "      <th>73</th>\n",
       "      <td>A</td>\n",
       "      <td>114</td>\n",
       "      <td>6722</td>\n",
       "    </tr>\n",
       "    <tr>\n",
       "      <th>74</th>\n",
       "      <td>A</td>\n",
       "      <td>115</td>\n",
       "      <td>4389</td>\n",
       "    </tr>\n",
       "    <tr>\n",
       "      <th>75</th>\n",
       "      <td>A</td>\n",
       "      <td>120</td>\n",
       "      <td>2012</td>\n",
       "    </tr>\n",
       "    <tr>\n",
       "      <th>76</th>\n",
       "      <td>A</td>\n",
       "      <td>121</td>\n",
       "      <td>1209</td>\n",
       "    </tr>\n",
       "    <tr>\n",
       "      <th>77</th>\n",
       "      <td>A</td>\n",
       "      <td>122</td>\n",
       "      <td>3983</td>\n",
       "    </tr>\n",
       "    <tr>\n",
       "      <th>78</th>\n",
       "      <td>A</td>\n",
       "      <td>123</td>\n",
       "      <td>1522</td>\n",
       "    </tr>\n",
       "  </tbody>\n",
       "</table>\n",
       "</div>"
      ],
      "text/plain": [
       "   sector  pct     ct\n",
       "2       A    1   1626\n",
       "3       A    5   4109\n",
       "4       A    6   2182\n",
       "5       A    7   7769\n",
       "6       A    9  12694\n",
       "7       A   10   5682\n",
       "8       A   13   1623\n",
       "9       A   14   1637\n",
       "10      A   17   1682\n",
       "11      A   18    499\n",
       "12      A   19   2873\n",
       "13      A   20   2885\n",
       "14      A   22   1210\n",
       "15      A   23  13692\n",
       "16      A   24   2612\n",
       "17      A   25   8836\n",
       "18      A   26  10753\n",
       "19      A   28  15434\n",
       "20      A   30   6007\n",
       "21      A   32   5766\n",
       "22      A   33  12613\n",
       "23      A   34  28840\n",
       "24      A   40  13922\n",
       "25      A   41    435\n",
       "26      A   42   2979\n",
       "27      A   43  10248\n",
       "28      A   44   2234\n",
       "29      A   45   1226\n",
       "30      A   46   4086\n",
       "31      A   47   7529\n",
       "32      A   48   4518\n",
       "33      A   49   6597\n",
       "34      A   50   2088\n",
       "35      A   52   1628\n",
       "36      A   60   2598\n",
       "37      A   61    673\n",
       "38      A   62   5710\n",
       "39      A   63   1066\n",
       "40      A   66   1806\n",
       "41      A   67   8349\n",
       "42      A   68    684\n",
       "43      A   69   5008\n",
       "44      A   70   4233\n",
       "45      A   71   8671\n",
       "46      A   72   2036\n",
       "47      A   73   8442\n",
       "48      A   75   8688\n",
       "49      A   76  13385\n",
       "50      A   77    904\n",
       "51      A   78   4332\n",
       "52      A   79  16531\n",
       "53      A   81   4978\n",
       "54      A   83   6121\n",
       "55      A   84   2161\n",
       "56      A   88   8806\n",
       "57      A   90   5974\n",
       "58      A   94   2330\n",
       "59      A  100   7181\n",
       "60      A  101   4528\n",
       "61      A  102   5091\n",
       "62      A  103  25951\n",
       "63      A  104   5481\n",
       "64      A  105   4782\n",
       "65      A  106   1820\n",
       "66      A  107   2371\n",
       "67      A  108   3253\n",
       "68      A  109   3939\n",
       "69      A  110  17221\n",
       "70      A  111   3388\n",
       "71      A  112   4068\n",
       "72      A  113   3691\n",
       "73      A  114   6722\n",
       "74      A  115   4389\n",
       "75      A  120   2012\n",
       "76      A  121   1209\n",
       "77      A  122   3983\n",
       "78      A  123   1522"
      ]
     },
     "execution_count": 418,
     "metadata": {},
     "output_type": "execute_result"
    }
   ],
   "source": [
    "sectors.query('sector==\"A\"').groupby()"
   ]
  },
  {
   "cell_type": "code",
   "execution_count": 419,
   "metadata": {},
   "outputs": [
    {
     "data": {
      "text/plain": [
       "B    77\n",
       "A    77\n",
       "C    77\n",
       "D    77\n",
       "E    75\n",
       "F    72\n",
       "G    69\n",
       "H    60\n",
       "I    52\n",
       "J    43\n",
       "K    33\n",
       "M    24\n",
       "N    15\n",
       "P    12\n",
       "Q     7\n",
       "R     6\n",
       "T     3\n",
       "U     2\n",
       "5     1\n",
       "1     1\n",
       "Name: sector, dtype: int64"
      ]
     },
     "execution_count": 419,
     "metadata": {},
     "output_type": "execute_result"
    }
   ],
   "source": [
    "sectors.sector.value_counts()"
   ]
  },
  {
   "cell_type": "code",
   "execution_count": 404,
   "metadata": {},
   "outputs": [
    {
     "data": {
      "text/html": [
       "<div>\n",
       "<style scoped>\n",
       "    .dataframe tbody tr th:only-of-type {\n",
       "        vertical-align: middle;\n",
       "    }\n",
       "\n",
       "    .dataframe tbody tr th {\n",
       "        vertical-align: top;\n",
       "    }\n",
       "\n",
       "    .dataframe thead th {\n",
       "        text-align: right;\n",
       "    }\n",
       "</style>\n",
       "<table border=\"1\" class=\"dataframe\">\n",
       "  <thead>\n",
       "    <tr style=\"text-align: right;\">\n",
       "      <th></th>\n",
       "      <th></th>\n",
       "      <th>0</th>\n",
       "    </tr>\n",
       "    <tr>\n",
       "      <th>sector</th>\n",
       "      <th>pct</th>\n",
       "      <th></th>\n",
       "    </tr>\n",
       "  </thead>\n",
       "  <tbody>\n",
       "    <tr>\n",
       "      <th>1</th>\n",
       "      <th>73</th>\n",
       "      <td>1</td>\n",
       "    </tr>\n",
       "    <tr>\n",
       "      <th>5</th>\n",
       "      <th>50</th>\n",
       "      <td>27</td>\n",
       "    </tr>\n",
       "    <tr>\n",
       "      <th rowspan=\"3\" valign=\"top\">A</th>\n",
       "      <th>1</th>\n",
       "      <td>1626</td>\n",
       "    </tr>\n",
       "    <tr>\n",
       "      <th>5</th>\n",
       "      <td>4109</td>\n",
       "    </tr>\n",
       "    <tr>\n",
       "      <th>6</th>\n",
       "      <td>2182</td>\n",
       "    </tr>\n",
       "    <tr>\n",
       "      <th>...</th>\n",
       "      <th>...</th>\n",
       "      <td>...</td>\n",
       "    </tr>\n",
       "    <tr>\n",
       "      <th rowspan=\"3\" valign=\"top\">T</th>\n",
       "      <th>44</th>\n",
       "      <td>6767</td>\n",
       "    </tr>\n",
       "    <tr>\n",
       "      <th>109</th>\n",
       "      <td>1163</td>\n",
       "    </tr>\n",
       "    <tr>\n",
       "      <th>120</th>\n",
       "      <td>13952</td>\n",
       "    </tr>\n",
       "    <tr>\n",
       "      <th rowspan=\"2\" valign=\"top\">U</th>\n",
       "      <th>44</th>\n",
       "      <td>2394</td>\n",
       "    </tr>\n",
       "    <tr>\n",
       "      <th>109</th>\n",
       "      <td>757</td>\n",
       "    </tr>\n",
       "  </tbody>\n",
       "</table>\n",
       "<p>783 rows × 1 columns</p>\n",
       "</div>"
      ],
      "text/plain": [
       "                0\n",
       "sector pct       \n",
       "1      73       1\n",
       "5      50      27\n",
       "A      1     1626\n",
       "       5     4109\n",
       "       6     2182\n",
       "...           ...\n",
       "T      44    6767\n",
       "       109   1163\n",
       "       120  13952\n",
       "U      44    2394\n",
       "       109    757\n",
       "\n",
       "[783 rows x 1 columns]"
      ]
     },
     "execution_count": 404,
     "metadata": {},
     "output_type": "execute_result"
    }
   ],
   "source": [
    "pd.DataFrame(sp.groupby(['sector','pct']).size())"
   ]
  },
  {
   "cell_type": "code",
   "execution_count": 395,
   "metadata": {},
   "outputs": [
    {
     "data": {
      "text/plain": [
       "Index(['year', 'pct', 'ser_num', 'datestop', 'timestop', 'recstat', 'inout',\n",
       "       'trhsloc', 'perobs', 'crimsusp',\n",
       "       ...\n",
       "       'dettypcm', 'linecm', 'detailcm', 'datetimestop', 'month', 'day',\n",
       "       'height', 'wepfound', 'forceuse', 'detail1_'],\n",
       "      dtype='object', length=118)"
      ]
     },
     "execution_count": 395,
     "metadata": {},
     "output_type": "execute_result"
    }
   ],
   "source": [
    "full_df.columns"
   ]
  },
  {
   "cell_type": "code",
   "execution_count": 363,
   "metadata": {},
   "outputs": [
    {
     "data": {
      "text/plain": [
       "5085961"
      ]
     },
     "execution_count": 363,
     "metadata": {},
     "output_type": "execute_result"
    }
   ],
   "source": [
    "len(full_df)"
   ]
  },
  {
   "cell_type": "code",
   "execution_count": 314,
   "metadata": {},
   "outputs": [
    {
     "data": {
      "text/plain": [
       "2012    66\n",
       "2013    28\n",
       "2014     6\n",
       "2015     4\n",
       "2016     1\n",
       "2018     0\n",
       "2017     0\n",
       "2011     0\n",
       "2010     0\n",
       "2009     0\n",
       "2008     0\n",
       "2007     0\n",
       "2006     0\n",
       "2005     0\n",
       "2004     0\n",
       "2003     0\n",
       "Name: year, dtype: int64"
      ]
     },
     "execution_count": 314,
     "metadata": {},
     "output_type": "execute_result"
    }
   ],
   "source": [
    "df[~df.forceuse.isna()].year.value_counts()"
   ]
  },
  {
   "cell_type": "code",
   "execution_count": 315,
   "metadata": {},
   "outputs": [
    {
     "data": {
      "text/plain": [
       "DS    49859\n",
       "SF    25284\n",
       "OT    24945\n",
       "SW     8585\n",
       "OR     4048\n",
       "DO     1744\n",
       "Name: forceuse, dtype: int64"
      ]
     },
     "execution_count": 315,
     "metadata": {},
     "output_type": "execute_result"
    }
   ],
   "source": [
    "full_df.forceuse.value_counts()"
   ]
  },
  {
   "cell_type": "code",
   "execution_count": 351,
   "metadata": {},
   "outputs": [],
   "source": [
    "df = dc.clean_categories(df)"
   ]
  },
  {
   "cell_type": "code",
   "execution_count": 357,
   "metadata": {},
   "outputs": [
    {
     "data": {
      "text/plain": [
       "B    2636035\n",
       "Q    1237520\n",
       "W     503734\n",
       "P     312534\n",
       "Z     194067\n",
       "A     156554\n",
       "U      22883\n",
       "I      20003\n",
       "X       2137\n",
       "Name: race, dtype: int64"
      ]
     },
     "execution_count": 357,
     "metadata": {},
     "output_type": "execute_result"
    }
   ],
   "source": [
    "full_df.race.value_counts()"
   ]
  },
  {
   "cell_type": "code",
   "execution_count": 42,
   "metadata": {},
   "outputs": [
    {
     "data": {
      "text/plain": [
       "['HALLWAY',\n",
       " 'SUBWAY',\n",
       " 'COMMERCIAL',\n",
       " 'WALKWAY',\n",
       " 'BUILDING',\n",
       " 'RESIDENTIAL',\n",
       " 'SIDEWALK',\n",
       " 'PARK',\n",
       " 'STREET',\n",
       " 'MEZZ',\n",
       " 'STAIRWELL',\n",
       " 'LOBBY',\n",
       " 'PLAYGROUND',\n",
       " 'PARKING LOT',\n",
       " 'NYCHA',\n",
       " 'CAR']"
      ]
     },
     "execution_count": 42,
     "metadata": {},
     "output_type": "execute_result"
    }
   ],
   "source": [
    "list(set(dc.REPLACE_REVERSE_DICT['premname']) | set(dc.USE_OTHER_VALUES['premname']))"
   ]
  },
  {
   "cell_type": "code",
   "execution_count": 33,
   "metadata": {},
   "outputs": [
    {
     "data": {
      "text/plain": [
       "{'premname': {'ST': 'STREET',\n",
       "  'PUBLIC STREET': 'STREET',\n",
       "  'STREET CORNER': 'STREET',\n",
       "  'MEZZANINE': 'MEZZ',\n",
       "  'PUBLIC SIDEWALK': 'SIDEWALK',\n",
       "  'APT BUILDING': 'RESIDENTIAL',\n",
       "  'APARTMENT': 'RESIDENTIAL',\n",
       "  'APT': 'RESIDENTIAL',\n",
       "  'RES': 'RESIDENTIAL',\n",
       "  'APT. BUILDING': 'RESIDENTIAL',\n",
       "  'HOUSE': 'RESIDENTIAL',\n",
       "  'PRIVATE HOUSE': 'RESIDENTIAL',\n",
       "  'RESIDENCE': 'RESIDENTIAL',\n",
       "  'APARTMENT BUILDING': 'RESIDENTIAL',\n",
       "  'BLDG': 'BUILDING',\n",
       "  'STAIRCASE': 'STAIRWELL',\n",
       "  'COMM': 'COMMERCIAL',\n",
       "  'STORE': 'COMMERCIAL'}}"
      ]
     },
     "execution_count": 33,
     "metadata": {},
     "output_type": "execute_result"
    }
   ],
   "source": [
    "{ 'premname' : { val : key for key, val_list in dc.PREMNAME_REPLACE_DICT.items() for val in val_list}}"
   ]
  },
  {
   "cell_type": "code",
   "execution_count": 46,
   "metadata": {},
   "outputs": [
    {
     "data": {
      "text/plain": [
       "20.0     309\n",
       "18.0     293\n",
       "19.0     291\n",
       "17.0     255\n",
       "22.0     240\n",
       "21.0     236\n",
       "16.0     208\n",
       "23.0     201\n",
       "24.0     191\n",
       "25.0     178\n",
       "15.0     155\n",
       "26.0     153\n",
       "27.0     125\n",
       "28.0     119\n",
       "29.0     118\n",
       "30.0     112\n",
       "31.0     111\n",
       "35.0      88\n",
       "37.0      84\n",
       "32.0      83\n",
       "40.0      80\n",
       "34.0      79\n",
       "36.0      76\n",
       "38.0      74\n",
       "33.0      74\n",
       "14.0      71\n",
       "39.0      69\n",
       "45.0      67\n",
       "42.0      64\n",
       "43.0      60\n",
       "46.0      59\n",
       "44.0      57\n",
       "41.0      56\n",
       "50.0      48\n",
       "48.0      47\n",
       "0.0       47\n",
       "47.0      44\n",
       "49.0      36\n",
       "51.0      31\n",
       "52.0      29\n",
       "55.0      25\n",
       "13.0      25\n",
       "54.0      23\n",
       "53.0      21\n",
       "56.0      19\n",
       "99.0      18\n",
       "58.0      18\n",
       "57.0      17\n",
       "61.0      13\n",
       "60.0      12\n",
       "59.0      11\n",
       "63.0      10\n",
       "1.0        9\n",
       "64.0       7\n",
       "66.0       7\n",
       "62.0       6\n",
       "71.0       3\n",
       "12.0       3\n",
       "69.0       3\n",
       "999.0      3\n",
       "68.0       3\n",
       "65.0       2\n",
       "74.0       2\n",
       "10.0       2\n",
       "72.0       2\n",
       "67.0       2\n",
       "145.0      1\n",
       "70.0       1\n",
       "80.0       1\n",
       "263.0      1\n",
       "81.0       1\n",
       "5.0        1\n",
       "73.0       1\n",
       "11.0       1\n",
       "305.0      1\n",
       "203.0      1\n",
       "75.0       1\n",
       "130.0      1\n",
       "2.0        1\n",
       "160.0      1\n",
       "90.0       1\n",
       "Name: age, dtype: int64"
      ]
     },
     "execution_count": 46,
     "metadata": {},
     "output_type": "execute_result"
    }
   ],
   "source": [
    "df.age.value_counts()"
   ]
  },
  {
   "cell_type": "code",
   "execution_count": 79,
   "metadata": {},
   "outputs": [
    {
     "name": "stdout",
     "output_type": "stream",
     "text": [
      "Loading 2004...\n"
     ]
    },
    {
     "name": "stderr",
     "output_type": "stream",
     "text": [
      "/Users/brad/Documents/Scripts/flatiron/stop-and-frisk/data_cleaner.py:79: SettingWithCopyWarning: \n",
      "A value is trying to be set on a copy of a slice from a DataFrame.\n",
      "Try using .loc[row_indexer,col_indexer] = value instead\n",
      "\n",
      "See the caveats in the documentation: http://pandas.pydata.org/pandas-docs/stable/user_guide/indexing.html#returning-a-view-versus-a-copy\n",
      "  data['height'] = data['ht_feet'] * 12 + data['ht_inch']\n",
      "/Users/brad/Documents/Scripts/flatiron/stop-and-frisk/data_cleaner.py:91: SettingWithCopyWarning: \n",
      "A value is trying to be set on a copy of a slice from a DataFrame.\n",
      "Try using .loc[row_indexer,col_indexer] = value instead\n",
      "\n",
      "See the caveats in the documentation: http://pandas.pydata.org/pandas-docs/stable/user_guide/indexing.html#returning-a-view-versus-a-copy\n",
      "  data['pct_sector'] = data.pct.astype(int).astype(str) + '-' + data.sector.astype('object').fillna('').astype(str)\n",
      "/usr/local/anaconda3/lib/python3.7/site-packages/pandas/core/generic.py:5208: SettingWithCopyWarning: \n",
      "A value is trying to be set on a copy of a slice from a DataFrame.\n",
      "Try using .loc[row_indexer,col_indexer] = value instead\n",
      "\n",
      "See the caveats in the documentation: http://pandas.pydata.org/pandas-docs/stable/user_guide/indexing.html#returning-a-view-versus-a-copy\n",
      "  self[name] = value\n",
      "/Users/brad/Documents/Scripts/flatiron/stop-and-frisk/data_cleaner.py:109: SettingWithCopyWarning: \n",
      "A value is trying to be set on a copy of a slice from a DataFrame.\n",
      "Try using .loc[row_indexer,col_indexer] = value instead\n",
      "\n",
      "See the caveats in the documentation: http://pandas.pydata.org/pandas-docs/stable/user_guide/indexing.html#returning-a-view-versus-a-copy\n",
      "  data[y_n_col] = y_n_to_1_0(data[y_n_col], yes_values, set_na)\n"
     ]
    },
    {
     "name": "stdout",
     "output_type": "stream",
     "text": [
      "{'STREET': ['ST', 'PUBLIC STREET', 'STREET CORNER'], 'MEZZ': ['MEZZANINE'], 'SIDEWALK': ['PUBLIC SIDEWALK'], 'RESIDENTIAL': ['APT BUILDING', 'APARTMENT', 'APT', 'RES', 'APT. BUILDING', 'HOUSE', 'PRIVATE HOUSE', 'RESIDENCE', 'APARTMENT BUILDING'], 'BUILDING': ['BLDG'], 'STAIRWELL': ['STAIRCASE'], 'COMMERCIAL': ['COMM', 'STORE']}\n",
      "{'FELONY': ['FEL', 'F'], 'ASSAULT': ['ASSAULT 3'], 'MISDEMEANOR': ['M', 'MISD', 'MIS/CPW'], 'CRIMINAL POSSESSION WEAPON': ['CPW', 'CPW 3', 'CPW 4', 'C.P.W.', 'CRIMINAL POSSESSION OF WEAPON', 'C.P.W', 'CPW GUN', 'CPW FIREARM', 'FELONY CPW'], 'CRIMINAL TRESPASS': ['CRIMINAL TRESSPASS', 'CRIM TRES', 'CRIM TRESS', 'TRESPASSING', 'CRIMINAL  TRESSPASS', 'CRIM. TRESP.', 'CRIMINAL TRES', 'CRIM TRESSPASS', 'MIS/CRIM TRES'], 'BURGLARY': ['BURG', 'BURG.'], 'ROBBERY': ['ROB', 'ROBBERY PATTERN', 'ROBBERY/CPW', 'CPW/ROBBERY', 'ROBB', 'ROBBERY 1', 'FELONY/ROBBERY'], 'GRAND LARCENY AUTO': ['GLA', 'GLA - GRAND LARCENY AUTO', 'G.L.A.', 'G.L.A', 'GRAND LARCENY FROM AUTO', 'GLA/CPW'], 'CRIMINAL POSSESSION CONTROLLED SUBSTANCE': ['CRIMINAL POSSESSION OF CONTROL', 'CPCS', 'CRIMINAL POSSESION OF CONTROLL', 'CPCS 7CPCS - CRIMINAL POSSESSION OFDRUGS'], 'CRIMINAL POSSESSION MARIJUANA': ['CRIMINAL POSSESSION OF MARIHUACPMCPM - CRIMINAL POSSESSION OF M'], 'CRIMINAL SALE CONTROLLED SUBSTANCE': ['CRIMINAL SALE OF CONTROLLED SU', 'DRUG SALES', 'CSCS', 'CSCS - CRIMINAL SALE OF CONTRO', 'C.S.C.S.', 'NARCOTIC SALES'], 'CRIMINAL SALE MARIJUANA': ['CRIMINAL SALE OF MARIHUANA', 'CRIMINAL SALE OF MARIJUANA']}\n"
     ]
    }
   ],
   "source": [
    "df04 = None\n",
    "df04 = dc.load_sqf(2004)"
   ]
  },
  {
   "cell_type": "code",
   "execution_count": 80,
   "metadata": {},
   "outputs": [
    {
     "data": {
      "text/plain": [
       "CRIMINAL POSSESSION WEAPON                  62188\n",
       "OTHER                                       59871\n",
       "CRIMINAL TRESPASS                           41643\n",
       "BURGLARY                                    32574\n",
       "GRAND LARCENY AUTO                          32560\n",
       "ROBBERY                                     29948\n",
       "CRIMINAL SALE CONTROLLED SUBSTANCE          14555\n",
       "CRIMINAL POSSESSION CONTROLLED SUBSTANCE    10787\n",
       "ASSAULT                                      7602\n",
       "GRAND LARCENY                                2955\n",
       "PETIT LARCENY                                2330\n",
       "CRIMINAL SALE MARIJUANA                      1373\n",
       "PROSTITUTION                                 1109\n",
       "FELONY                                        721\n",
       "MISDEMEANOR                                   485\n",
       "CRIMINAL POSSESSION MARIJUANA                  14\n",
       "Name: crimsusp, dtype: int64"
      ]
     },
     "execution_count": 80,
     "metadata": {},
     "output_type": "execute_result"
    }
   ],
   "source": [
    "df04.crimsusp.value_counts()"
   ]
  },
  {
   "cell_type": "code",
   "execution_count": 77,
   "metadata": {},
   "outputs": [
    {
     "name": "stdout",
     "output_type": "stream",
     "text": [
      "Loading 2004...\n"
     ]
    }
   ],
   "source": [
    "df04b = dc.load_sqf(2004, engineer=False)"
   ]
  },
  {
   "cell_type": "code",
   "execution_count": 78,
   "metadata": {},
   "outputs": [
    {
     "data": {
      "text/plain": [
       "CPW                               62593\n",
       "CRIMINAL TRESPASS                 34863\n",
       "BURGLARY                          32048\n",
       "ROBBERY                           30114\n",
       "GRAND LARCENY AUTO                25643\n",
       "CRIMINAL POSSESSION OF CONTROL     7443\n",
       "CRIMINAL SALE OF CONTROLLED SU     6821\n",
       "GLA                                6632\n",
       "ASSAULT                            6408\n",
       "DRUG SALES                         5925\n",
       "CRIMINAL POSSESSION OF MARIHUA     5187\n",
       "CRIMINAL TRESSPASS                 4047\n",
       "CRIMINAL MISCHIEF                  3295\n",
       "GRAND LARCENY                      3139\n",
       "CPSP                               2701\n",
       "CPCS                               2500\n",
       "PETIT LARCENY                      2438\n",
       "TRESPASS                           2386\n",
       "BURG                               1678\n",
       "CSCS                               1660\n",
       "CRIM TRESPASS                      1589\n",
       "CRIM TRES                          1567\n",
       "ASSAULT 3                          1544\n",
       "GLA - GRAND LARCENY AUTO           1366\n",
       "CPM                                1267\n",
       "CRIMINAL POSSESION OF CONTROLL     1247\n",
       "CRIMINAL SALE OF MARIHUANA         1244\n",
       "ASSAULT 2                          1180\n",
       "PROSTITUTION                       1162\n",
       "XNE                                1114\n",
       "AUTO STRIPPING                     1104\n",
       "LARCENY                            1057\n",
       "DRUG SALE                           890\n",
       "CRIM TRESS                          844\n",
       "FELONY                              745\n",
       "C.P.W.                              685\n",
       "ASSAULT 1                           624\n",
       "CPCS 7                              585\n",
       "GRAFFITI                            583\n",
       "CRIMINAL TRESPASSING                545\n",
       "LARCENY FROM AUTO                   472\n",
       "CPCS - CRIMINAL POSSESSION OF       458\n",
       "MENACING                            450\n",
       "TRESPASSING                         433\n",
       "CPM 5                               426\n",
       "LOITERING                           426\n",
       "THEFT OF SERVICES                   411\n",
       "FELONY CPW                          398\n",
       "CRIMINAL POSSESSION STOLEN PRO      396\n",
       "G.L.A.                              389\n",
       "CPM - CRIMINAL POSSESSION OF M      365\n",
       "CSCS - CRIMINAL SALE OF CONTRO      358\n",
       "C.P.W                               354\n",
       "CPW FELONY                          336\n",
       "LOITERING FOR PROSTITUTION          336\n",
       "MISD                                331\n",
       "CPW 4                               327\n",
       "ROB                                 323\n",
       "CRIM. TRESPASS                      319\n",
       "DRUG/SALES                          314\n",
       "GAMBLING                            313\n",
       "RECKLESS ENDANGERMENT               304\n",
       "SEXUAL ABUSE                        289\n",
       "CRIMINAL POSSESSION WEAPON          276\n",
       "CPW 3                               247\n",
       "HOMICIDE                            245\n",
       "ROBBERY PATTERN                     232\n",
       "RAPE                                228\n",
       "CRIMINAL POSSESSION OF MARIJUA      227\n",
       "NARCOTICS SALES                     225\n",
       "HARASSMENT                          213\n",
       "CRIMINAL  TRESSPASS                 197\n",
       "CRIM. TRESP.                        194\n",
       "GUN RUN                             184\n",
       "TRADEMARK COUNTERFEITING            184\n",
       "MAKING GRAFFITI                     181\n",
       "MISDEMEANOR                         178\n",
       "ROBBERY/CPW                         176\n",
       "CPW GUN                             171\n",
       "DRUGS                               170\n",
       "CPW/ROBBERY                         170\n",
       "CPW FIREARM                         169\n",
       "SHOTS FIRED                         164\n",
       "G.L.A                               157\n",
       "CRIMINAL SALE OF MARIJUANA          157\n",
       "CRIM MIS                            156\n",
       "CRIMINAL TRES                       154\n",
       "CRIMINAL POSSESSION OF FORGED       154\n",
       "PUBLIC LEWDNESS                     153\n",
       "C.S.C.S.                            152\n",
       "NARCOTIC SALES                      150\n",
       "BURG.                               142\n",
       "ROBB                                141\n",
       "GRAND LARCENY FROM AUTO             136\n",
       "KIDNAPPING                          124\n",
       "GLA/CPW                             124\n",
       "CRIMINAL POSSESSION OF WEAPON       123\n",
       "SHOOTING                            122\n",
       "ROBBERY 1                           121\n",
       "CRIM TRESSPASS                      120\n",
       "Name: crimsusp, dtype: int64"
      ]
     },
     "execution_count": 78,
     "metadata": {},
     "output_type": "execute_result"
    }
   ],
   "source": [
    "df04b.crimsusp.value_counts().head(100)"
   ]
  },
  {
   "cell_type": "code",
   "execution_count": null,
   "metadata": {},
   "outputs": [],
   "source": []
  }
 ],
 "metadata": {
  "kernelspec": {
   "display_name": "Python 3",
   "language": "python",
   "name": "python3"
  },
  "language_info": {
   "codemirror_mode": {
    "name": "ipython",
    "version": 3
   },
   "file_extension": ".py",
   "mimetype": "text/x-python",
   "name": "python",
   "nbconvert_exporter": "python",
   "pygments_lexer": "ipython3",
   "version": "3.7.3"
  }
 },
 "nbformat": 4,
 "nbformat_minor": 4
}
