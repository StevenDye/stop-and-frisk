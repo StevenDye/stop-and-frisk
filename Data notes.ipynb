{
 "cells": [
  {
   "cell_type": "markdown",
   "metadata": {},
   "source": [
    "## Does stop-question-frisk deter crime?\n",
    "\n",
    "there is a \"natural experiment\" in NYC - aggressive stop-and-frisk under bloomberg, then stopped.\n",
    "following the policy change was there any increase in crime? \n",
    "linear regression on the crime rate\n",
    "\n",
    "eight years four with, four with out - dropped 2013.\n",
    "- 77 precincts (note 1 is cpw, midtown south also has low population)\n",
    "- per-pct population\n",
    "\n",
    "complaints (crimes)\n",
    "- crime rate\n",
    "- pre-policy vs post-policy\n",
    "\n",
    "arrests\n",
    "- arrest rate (arrests/population)\n",
    "\n",
    "sqf rate\n",
    "- sqf-arrest rate\n",
    "\n"
   ]
  },
  {
   "cell_type": "markdown",
   "metadata": {},
   "source": [
    "## Complaint data\n",
    "[NYPD Complaint Data Historic](https://data.cityofnewyork.us/Public-Safety/NYPD-Complaint-Data-Historic/qgea-i56i)\n",
    "This dataset includes all valid felony, misdemeanor, and violation crimes reported to the New York City Police Department (NYPD) from 2006 to the end of last year (2017). For additional details, please see the attached data dictionary in the ‘About’ section."
   ]
  },
  {
   "cell_type": "markdown",
   "metadata": {},
   "source": [
    "potential Columns of interest:\n",
    "\n",
    "LOCATION\n",
    "* `pct`\n",
    "* `xcoord`,\n",
    "* `ycoord`\n",
    "\n",
    "TIME\n",
    "* `datetimestop`\n",
    "REASON/OUTCOME\n",
    "* `arstmade`\n",
    "*  `crimsusp`\n",
    "* `wepfound` <= note not generated for every year, can be generated from other columns\n",
    "  * `pistol`\n",
    "  \n",
    "INDIVIDUAL OBSERVABLES\n",
    "* `sex`\n",
    "* `race`\n",
    "*  `age`\n",
    "* `ht_feet`\n",
    "*  `ht_inch`\n",
    "* `weight`\n",
    "* `haircolr`\n",
    "* `eyecolor`\n",
    "* `build`\n",
    "\n",
    "\n",
    "    \n",
    "Columns added/generated:\n",
    "    pct population "
   ]
  },
  {
   "cell_type": "markdown",
   "metadata": {},
   "source": [
    "`crimsusp` = what crime is suspected"
   ]
  },
  {
   "cell_type": "markdown",
   "metadata": {},
   "source": [
    "criminal possession of a weapon\n",
    "`CPW`,\n",
    "`CRIMINAL POSSESSION WEAPON`,\n",
    "`CPW 3`,\n",
    "`CPW 4`,\n",
    "`C.P.W.`,\n",
    "`CRIMINAL POSSESSION OF WEAPON`,\n",
    "`C.P.W`\n",
    "`CPW GUN`\n",
    "`CPW FIREARM`\n",
    "`FELONY CPW`"
   ]
  },
  {
   "cell_type": "markdown",
   "metadata": {},
   "source": [
    "criminal trespass\n",
    "`CRIMINAL TRESPASS`,\n",
    "`CRIMINAL TRESSPASS`,\n",
    "`CRIM TRES`,\n",
    "`CRIM TRESS`,\n",
    "`TRESPASSING`,\n",
    "`CRIMINAL  TRESSPASS`,\n",
    "`CRIM. TRESP.`,\n",
    "`CRIMINAL TRES`,\n",
    "`CRIM TRESSPASS`"
   ]
  },
  {
   "cell_type": "markdown",
   "metadata": {},
   "source": [
    "burglary \n",
    "`BURGLARY`,\n",
    "`BURG`,\n",
    "`BURG.`"
   ]
  },
  {
   "cell_type": "markdown",
   "metadata": {},
   "source": [
    "robbery \n",
    "`ROBBERY`,\n",
    "`ROB`,\n",
    "`ROBBERY PATTERN`,\n",
    "`ROBBERY/CPW`\n",
    "`CPW/ROBBERY`\n",
    "`ROBB`\n",
    "`ROBBERY 1`"
   ]
  },
  {
   "cell_type": "markdown",
   "metadata": {},
   "source": [
    "auto theft \n",
    "`GRAND LARCENY AUTO`\n",
    "`GLA`\n",
    "`GLA - GRAND LARCENY AUTO`\n",
    "`G.L.A.`\n",
    "`G.L.A`\n",
    "`GRAND LARCENY FROM AUTO`\n",
    "`GLA/CPW`"
   ]
  },
  {
   "cell_type": "markdown",
   "metadata": {},
   "source": [
    "drug possession\n",
    "`CRIMINAL POSSESSION OF CONTROL`\n",
    "`CRIMINAL POSSESSION OF MARIHUA`\n",
    "`CPCS`\n",
    "`CRIMINAL POSSESION OF CONTROLL`\n",
    "`CPCS 7`\n",
    "`CPCS - CRIMINAL POSSESSION OF`\n",
    "`CPM`\n",
    "`CPM - CRIMINAL POSSESSION OF M`\n",
    "`DRUGS`"
   ]
  },
  {
   "cell_type": "markdown",
   "metadata": {},
   "source": [
    "drug sales \n",
    "`CRIMINAL SALE OF CONTROLLED SU`, \n",
    "`DRUG SALES`, \n",
    "`CSCS`, \n",
    "`CRIMINAL SALE OF MARIHUANA`, \n",
    "`CSCS - CRIMINAL SALE OF CONTRO`, \n",
    "`CRIMINAL SALE OF MARIJUANA`,\n",
    "`C.S.C.S.`,\n",
    "`NARCOTIC SALES`,"
   ]
  },
  {
   "cell_type": "code",
   "execution_count": null,
   "metadata": {},
   "outputs": [],
   "source": [
    "total stops over time\n",
    "crime rates over time - for different crime categories"
   ]
  },
  {
   "cell_type": "code",
   "execution_count": null,
   "metadata": {},
   "outputs": [],
   "source": [
    "reported offenses  -> arrests\n",
    "stop-and-frisk -> arrests\n",
    "do we know if the arrest"
   ]
  }
 ],
 "metadata": {
  "kernelspec": {
   "display_name": "Python 3",
   "language": "python",
   "name": "python3"
  },
  "language_info": {
   "codemirror_mode": {
    "name": "ipython",
    "version": 3
   },
   "file_extension": ".py",
   "mimetype": "text/x-python",
   "name": "python",
   "nbconvert_exporter": "python",
   "pygments_lexer": "ipython3",
   "version": "3.7.3"
  }
 },
 "nbformat": 4,
 "nbformat_minor": 4
}
