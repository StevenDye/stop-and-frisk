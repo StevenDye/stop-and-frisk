{
 "cells": [
  {
   "cell_type": "code",
   "execution_count": 2,
   "metadata": {},
   "outputs": [],
   "source": [
    "import matplotlib.pyplot as plt\n",
    "import pandas as pd\n",
    "import numpy as np\n",
    "import data_cleaner as dc\n",
    "import seaborn as sns\n",
    "sns.set(rc={'figure.figsize':(11, 4)})\n",
    "import importlib\n",
    "importlib.reload(dc)\n",
    "%matplotlib inline"
   ]
  },
  {
   "cell_type": "code",
   "execution_count": 17,
   "metadata": {},
   "outputs": [],
   "source": [
    "df = pd.read_csv('data/df.csv', index_col=0)"
   ]
  },
  {
   "cell_type": "code",
   "execution_count": 18,
   "metadata": {},
   "outputs": [],
   "source": [
    "df.columns = df.columns.str.lower()"
   ]
  },
  {
   "cell_type": "code",
   "execution_count": 19,
   "metadata": {},
   "outputs": [],
   "source": [
    "df = df.rename(columns={'addr_pct_cd' : 'pct'})"
   ]
  },
  {
   "cell_type": "code",
   "execution_count": 22,
   "metadata": {},
   "outputs": [],
   "source": [
    "df = df.query('year > 2007')"
   ]
  },
  {
   "cell_type": "code",
   "execution_count": 25,
   "metadata": {},
   "outputs": [],
   "source": [
    "df = df.dropna()"
   ]
  },
  {
   "cell_type": "markdown",
   "metadata": {},
   "source": [
    "## Basic linear model"
   ]
  },
  {
   "cell_type": "code",
   "execution_count": 27,
   "metadata": {},
   "outputs": [],
   "source": [
    "from sklearn.linear_model import LinearRegression\n",
    "from sklearn.model_selection import train_test_split\n"
   ]
  },
  {
   "cell_type": "code",
   "execution_count": null,
   "metadata": {},
   "outputs": [],
   "source": [
    "y = df[['cmplnts']]\n",
    "X = df[['population','arrests','stops','stop_arrests']]\n",
    "\n",
    "# Perform test train split\n",
    "X_train , X_test, y_train, y_test = train_test_split(X, y, test_size=0.3, random_state=12)"
   ]
  },
  {
   "cell_type": "markdown",
   "metadata": {},
   "source": [
    "## Try interaction terms"
   ]
  },
  {
   "cell_type": "code",
   "execution_count": 26,
   "metadata": {},
   "outputs": [
    {
     "data": {
      "text/html": [
       "<div>\n",
       "<style scoped>\n",
       "    .dataframe tbody tr th:only-of-type {\n",
       "        vertical-align: middle;\n",
       "    }\n",
       "\n",
       "    .dataframe tbody tr th {\n",
       "        vertical-align: top;\n",
       "    }\n",
       "\n",
       "    .dataframe thead th {\n",
       "        text-align: right;\n",
       "    }\n",
       "</style>\n",
       "<table border=\"1\" class=\"dataframe\">\n",
       "  <thead>\n",
       "    <tr style=\"text-align: right;\">\n",
       "      <th></th>\n",
       "      <th>year</th>\n",
       "      <th>pct</th>\n",
       "      <th>cmplnts</th>\n",
       "      <th>population</th>\n",
       "      <th>arrests</th>\n",
       "      <th>stops</th>\n",
       "      <th>stop_arrests</th>\n",
       "    </tr>\n",
       "  </thead>\n",
       "  <tbody>\n",
       "    <tr>\n",
       "      <th>2</th>\n",
       "      <td>2008.0</td>\n",
       "      <td>1.0</td>\n",
       "      <td>6614.0</td>\n",
       "      <td>66679.0</td>\n",
       "      <td>5008.0</td>\n",
       "      <td>2506.0</td>\n",
       "      <td>221.0</td>\n",
       "    </tr>\n",
       "    <tr>\n",
       "      <th>3</th>\n",
       "      <td>2009.0</td>\n",
       "      <td>1.0</td>\n",
       "      <td>6280.0</td>\n",
       "      <td>66679.0</td>\n",
       "      <td>5371.0</td>\n",
       "      <td>2585.0</td>\n",
       "      <td>238.0</td>\n",
       "    </tr>\n",
       "    <tr>\n",
       "      <th>4</th>\n",
       "      <td>2010.0</td>\n",
       "      <td>1.0</td>\n",
       "      <td>5895.0</td>\n",
       "      <td>66679.0</td>\n",
       "      <td>4950.0</td>\n",
       "      <td>2446.0</td>\n",
       "      <td>260.0</td>\n",
       "    </tr>\n",
       "    <tr>\n",
       "      <th>5</th>\n",
       "      <td>2011.0</td>\n",
       "      <td>1.0</td>\n",
       "      <td>5955.0</td>\n",
       "      <td>66679.0</td>\n",
       "      <td>5583.0</td>\n",
       "      <td>3626.0</td>\n",
       "      <td>215.0</td>\n",
       "    </tr>\n",
       "    <tr>\n",
       "      <th>6</th>\n",
       "      <td>2012.0</td>\n",
       "      <td>1.0</td>\n",
       "      <td>6287.0</td>\n",
       "      <td>66679.0</td>\n",
       "      <td>5479.0</td>\n",
       "      <td>3053.0</td>\n",
       "      <td>189.0</td>\n",
       "    </tr>\n",
       "    <tr>\n",
       "      <th>...</th>\n",
       "      <td>...</td>\n",
       "      <td>...</td>\n",
       "      <td>...</td>\n",
       "      <td>...</td>\n",
       "      <td>...</td>\n",
       "      <td>...</td>\n",
       "      <td>...</td>\n",
       "    </tr>\n",
       "    <tr>\n",
       "      <th>983</th>\n",
       "      <td>2014.0</td>\n",
       "      <td>123.0</td>\n",
       "      <td>2859.0</td>\n",
       "      <td>98032.0</td>\n",
       "      <td>1555.0</td>\n",
       "      <td>321.0</td>\n",
       "      <td>70.0</td>\n",
       "    </tr>\n",
       "    <tr>\n",
       "      <th>984</th>\n",
       "      <td>2015.0</td>\n",
       "      <td>123.0</td>\n",
       "      <td>2732.0</td>\n",
       "      <td>98032.0</td>\n",
       "      <td>1439.0</td>\n",
       "      <td>127.0</td>\n",
       "      <td>30.0</td>\n",
       "    </tr>\n",
       "    <tr>\n",
       "      <th>985</th>\n",
       "      <td>2016.0</td>\n",
       "      <td>123.0</td>\n",
       "      <td>2648.0</td>\n",
       "      <td>98032.0</td>\n",
       "      <td>1568.0</td>\n",
       "      <td>90.0</td>\n",
       "      <td>32.0</td>\n",
       "    </tr>\n",
       "    <tr>\n",
       "      <th>986</th>\n",
       "      <td>2017.0</td>\n",
       "      <td>123.0</td>\n",
       "      <td>2549.0</td>\n",
       "      <td>98032.0</td>\n",
       "      <td>1602.0</td>\n",
       "      <td>62.0</td>\n",
       "      <td>23.0</td>\n",
       "    </tr>\n",
       "    <tr>\n",
       "      <th>987</th>\n",
       "      <td>2018.0</td>\n",
       "      <td>123.0</td>\n",
       "      <td>2535.0</td>\n",
       "      <td>98032.0</td>\n",
       "      <td>1224.0</td>\n",
       "      <td>36.0</td>\n",
       "      <td>4.0</td>\n",
       "    </tr>\n",
       "  </tbody>\n",
       "</table>\n",
       "<p>836 rows × 7 columns</p>\n",
       "</div>"
      ],
      "text/plain": [
       "       year    pct  cmplnts  population  arrests   stops  stop_arrests\n",
       "2    2008.0    1.0   6614.0     66679.0   5008.0  2506.0         221.0\n",
       "3    2009.0    1.0   6280.0     66679.0   5371.0  2585.0         238.0\n",
       "4    2010.0    1.0   5895.0     66679.0   4950.0  2446.0         260.0\n",
       "5    2011.0    1.0   5955.0     66679.0   5583.0  3626.0         215.0\n",
       "6    2012.0    1.0   6287.0     66679.0   5479.0  3053.0         189.0\n",
       "..      ...    ...      ...         ...      ...     ...           ...\n",
       "983  2014.0  123.0   2859.0     98032.0   1555.0   321.0          70.0\n",
       "984  2015.0  123.0   2732.0     98032.0   1439.0   127.0          30.0\n",
       "985  2016.0  123.0   2648.0     98032.0   1568.0    90.0          32.0\n",
       "986  2017.0  123.0   2549.0     98032.0   1602.0    62.0          23.0\n",
       "987  2018.0  123.0   2535.0     98032.0   1224.0    36.0           4.0\n",
       "\n",
       "[836 rows x 7 columns]"
      ]
     },
     "execution_count": 26,
     "metadata": {},
     "output_type": "execute_result"
    }
   ],
   "source": [
    "poly = PolynomialFeatures(interaction_only=True,include_bias = False)\n",
    "poly.fit_transform(X)\n",
    "clf = linear_model.LinearRegression()\n",
    "clf.fit(X, y)"
   ]
  },
  {
   "cell_type": "code",
   "execution_count": null,
   "metadata": {},
   "outputs": [],
   "source": []
  }
 ],
 "metadata": {
  "kernelspec": {
   "display_name": "Python 3",
   "language": "python",
   "name": "python3"
  },
  "language_info": {
   "codemirror_mode": {
    "name": "ipython",
    "version": 3
   },
   "file_extension": ".py",
   "mimetype": "text/x-python",
   "name": "python",
   "nbconvert_exporter": "python",
   "pygments_lexer": "ipython3",
   "version": "3.7.3"
  }
 },
 "nbformat": 4,
 "nbformat_minor": 4
}
