{
 "cells": [
  {
   "cell_type": "code",
   "execution_count": 2,
   "metadata": {},
   "outputs": [],
   "source": [
    "import pandas as pd\n"
   ]
  },
  {
   "cell_type": "markdown",
   "metadata": {},
   "source": [
    "__[Complaint data](https://data.cityofnewyork.us/Public-Safety/NYPD-Complaint-Data-Historic/qgea-i56i)__"
   ]
  },
  {
   "cell_type": "code",
   "execution_count": 45,
   "metadata": {},
   "outputs": [],
   "source": [
    "complaints_df = pd.read_csv('../data/NYPD_Complaint_Data_Historic.csv', dtype={'CMPLNT_NUM' : 'Int64'},\n",
    "                            na_values=['  \"error\" : true', \n",
    "                                       '  \"message\" : \"Internal error\"',\n",
    "                                       '  \"status\" : 500',\n",
    "                                       '}'],\n",
    "                            parse_dates=['RPT_DT'])\n",
    "\n",
    "complaints_df = complaints_df.dropna(subset = ['CMPLNT_NUM', 'RPT_DT', 'ADDR_PCT_CD', 'KY_CD', 'LAW_CAT_CD'])"
   ]
  },
  {
   "cell_type": "markdown",
   "metadata": {},
   "source": [
    "[Columns of interest](https://data.cityofnewyork.us/Public-Safety/NYPD-Complaint-Data-Historic/qgea-i56i):\n",
    "* RPT_DT = report date (we don't have as comprehensive coverage of CMPLNT_FR_DT)\n",
    "* ADDR_PCT_CD = precinct\n",
    "* KY_CD = offense id\n"
   ]
  },
  {
   "cell_type": "code",
   "execution_count": 58,
   "metadata": {},
   "outputs": [],
   "source": [
    "USE_COMPLAINT_COLS = ['RPT_DT','ADDR_PCT_CD','KY_CD', 'LAW_CAT_CD','SUSP_AGE_GROUP', 'SUSP_RACE', 'SUSP_SEX', 'Latitude', 'Longitude']"
   ]
  },
  {
   "cell_type": "code",
   "execution_count": 59,
   "metadata": {},
   "outputs": [
    {
     "data": {
      "text/html": [
       "<div>\n",
       "<style scoped>\n",
       "    .dataframe tbody tr th:only-of-type {\n",
       "        vertical-align: middle;\n",
       "    }\n",
       "\n",
       "    .dataframe tbody tr th {\n",
       "        vertical-align: top;\n",
       "    }\n",
       "\n",
       "    .dataframe thead th {\n",
       "        text-align: right;\n",
       "    }\n",
       "</style>\n",
       "<table border=\"1\" class=\"dataframe\">\n",
       "  <thead>\n",
       "    <tr style=\"text-align: right;\">\n",
       "      <th></th>\n",
       "      <th>RPT_DT</th>\n",
       "      <th>ADDR_PCT_CD</th>\n",
       "      <th>KY_CD</th>\n",
       "      <th>LAW_CAT_CD</th>\n",
       "      <th>SUSP_AGE_GROUP</th>\n",
       "      <th>SUSP_RACE</th>\n",
       "      <th>SUSP_SEX</th>\n",
       "      <th>Latitude</th>\n",
       "      <th>Longitude</th>\n",
       "    </tr>\n",
       "  </thead>\n",
       "  <tbody>\n",
       "    <tr>\n",
       "      <th>0</th>\n",
       "      <td>2008-04-10</td>\n",
       "      <td>73.0</td>\n",
       "      <td>341.0</td>\n",
       "      <td>MISDEMEANOR</td>\n",
       "      <td>NaN</td>\n",
       "      <td>NaN</td>\n",
       "      <td>NaN</td>\n",
       "      <td>40.669414</td>\n",
       "      <td>-73.912603</td>\n",
       "    </tr>\n",
       "    <tr>\n",
       "      <th>1</th>\n",
       "      <td>2007-06-03</td>\n",
       "      <td>28.0</td>\n",
       "      <td>236.0</td>\n",
       "      <td>MISDEMEANOR</td>\n",
       "      <td>NaN</td>\n",
       "      <td>NaN</td>\n",
       "      <td>NaN</td>\n",
       "      <td>40.801978</td>\n",
       "      <td>-73.945511</td>\n",
       "    </tr>\n",
       "    <tr>\n",
       "      <th>2</th>\n",
       "      <td>2010-02-16</td>\n",
       "      <td>102.0</td>\n",
       "      <td>105.0</td>\n",
       "      <td>FELONY</td>\n",
       "      <td>NaN</td>\n",
       "      <td>NaN</td>\n",
       "      <td>NaN</td>\n",
       "      <td>40.699990</td>\n",
       "      <td>-73.830978</td>\n",
       "    </tr>\n",
       "    <tr>\n",
       "      <th>3</th>\n",
       "      <td>2009-11-10</td>\n",
       "      <td>79.0</td>\n",
       "      <td>341.0</td>\n",
       "      <td>MISDEMEANOR</td>\n",
       "      <td>NaN</td>\n",
       "      <td>NaN</td>\n",
       "      <td>NaN</td>\n",
       "      <td>40.681005</td>\n",
       "      <td>-73.955035</td>\n",
       "    </tr>\n",
       "    <tr>\n",
       "      <th>4</th>\n",
       "      <td>2006-04-25</td>\n",
       "      <td>123.0</td>\n",
       "      <td>112.0</td>\n",
       "      <td>FELONY</td>\n",
       "      <td>NaN</td>\n",
       "      <td>NaN</td>\n",
       "      <td>NaN</td>\n",
       "      <td>NaN</td>\n",
       "      <td>NaN</td>\n",
       "    </tr>\n",
       "  </tbody>\n",
       "</table>\n",
       "</div>"
      ],
      "text/plain": [
       "      RPT_DT  ADDR_PCT_CD  KY_CD   LAW_CAT_CD SUSP_AGE_GROUP SUSP_RACE  \\\n",
       "0 2008-04-10         73.0  341.0  MISDEMEANOR            NaN       NaN   \n",
       "1 2007-06-03         28.0  236.0  MISDEMEANOR            NaN       NaN   \n",
       "2 2010-02-16        102.0  105.0       FELONY            NaN       NaN   \n",
       "3 2009-11-10         79.0  341.0  MISDEMEANOR            NaN       NaN   \n",
       "4 2006-04-25        123.0  112.0       FELONY            NaN       NaN   \n",
       "\n",
       "  SUSP_SEX   Latitude  Longitude  \n",
       "0      NaN  40.669414 -73.912603  \n",
       "1      NaN  40.801978 -73.945511  \n",
       "2      NaN  40.699990 -73.830978  \n",
       "3      NaN  40.681005 -73.955035  \n",
       "4      NaN        NaN        NaN  "
      ]
     },
     "execution_count": 59,
     "metadata": {},
     "output_type": "execute_result"
    }
   ],
   "source": [
    "complaints_df[USE_COMPLAINT_COLS].head()"
   ]
  },
  {
   "cell_type": "code",
   "execution_count": 69,
   "metadata": {},
   "outputs": [
    {
     "data": {
      "text/plain": [
       "MISDEMEANOR    600871\n",
       "FELONY         319753\n",
       "VIOLATION      125008\n",
       "Name: LAW_CAT_CD, dtype: int64"
      ]
     },
     "execution_count": 69,
     "metadata": {},
     "output_type": "execute_result"
    }
   ],
   "source": [
    "complaints_df.LAW_CAT_CD.value_counts()"
   ]
  },
  {
   "cell_type": "markdown",
   "metadata": {},
   "source": [
    "__[Arrest data](https://data.cityofnewyork.us/Public-Safety/NYPD-Arrests-Data-Historic-/8h9b-rp9u)__"
   ]
  },
  {
   "cell_type": "code",
   "execution_count": 60,
   "metadata": {},
   "outputs": [],
   "source": [
    "arrests_df = pd.read_csv('../data/NYPD_Arrests_Data__Historic_.csv',\n",
    "                         parse_dates=['ARREST_DATE'])"
   ]
  },
  {
   "cell_type": "code",
   "execution_count": 67,
   "metadata": {},
   "outputs": [],
   "source": [
    "USE_ARREST_COLS = ['ARREST_DATE', 'ARREST_PRECINCT','KY_CD','LAW_CAT_CD','AGE_GROUP', 'PERP_RACE', 'PERP_SEX', 'Latitude', 'Longitude']"
   ]
  },
  {
   "cell_type": "code",
   "execution_count": null,
   "metadata": {},
   "outputs": [],
   "source": [
    "arrests_df.replace({'LAW_CAT_CD': {'V':'VIOLATION', 'M': 'MISDEMEANOR', 'F': 'FELONY'}})"
   ]
  },
  {
   "cell_type": "code",
   "execution_count": 68,
   "metadata": {},
   "outputs": [
    {
     "data": {
      "text/html": [
       "<div>\n",
       "<style scoped>\n",
       "    .dataframe tbody tr th:only-of-type {\n",
       "        vertical-align: middle;\n",
       "    }\n",
       "\n",
       "    .dataframe tbody tr th {\n",
       "        vertical-align: top;\n",
       "    }\n",
       "\n",
       "    .dataframe thead th {\n",
       "        text-align: right;\n",
       "    }\n",
       "</style>\n",
       "<table border=\"1\" class=\"dataframe\">\n",
       "  <thead>\n",
       "    <tr style=\"text-align: right;\">\n",
       "      <th></th>\n",
       "      <th>ARREST_DATE</th>\n",
       "      <th>ARREST_PRECINCT</th>\n",
       "      <th>KY_CD</th>\n",
       "      <th>LAW_CAT_CD</th>\n",
       "      <th>AGE_GROUP</th>\n",
       "      <th>PERP_RACE</th>\n",
       "      <th>PERP_SEX</th>\n",
       "      <th>Latitude</th>\n",
       "      <th>Longitude</th>\n",
       "    </tr>\n",
       "  </thead>\n",
       "  <tbody>\n",
       "    <tr>\n",
       "      <th>0</th>\n",
       "      <td>2017-12-31</td>\n",
       "      <td>105</td>\n",
       "      <td>678.0</td>\n",
       "      <td>V</td>\n",
       "      <td>25-44</td>\n",
       "      <td>BLACK</td>\n",
       "      <td>M</td>\n",
       "      <td>40.735772</td>\n",
       "      <td>-73.715638</td>\n",
       "    </tr>\n",
       "    <tr>\n",
       "      <th>1</th>\n",
       "      <td>2017-12-31</td>\n",
       "      <td>114</td>\n",
       "      <td>343.0</td>\n",
       "      <td>M</td>\n",
       "      <td>25-44</td>\n",
       "      <td>ASIAN / PACIFIC ISLANDER</td>\n",
       "      <td>M</td>\n",
       "      <td>40.769437</td>\n",
       "      <td>-73.910241</td>\n",
       "    </tr>\n",
       "    <tr>\n",
       "      <th>2</th>\n",
       "      <td>2017-12-31</td>\n",
       "      <td>73</td>\n",
       "      <td>677.0</td>\n",
       "      <td>V</td>\n",
       "      <td>18-24</td>\n",
       "      <td>BLACK</td>\n",
       "      <td>M</td>\n",
       "      <td>40.679525</td>\n",
       "      <td>-73.904572</td>\n",
       "    </tr>\n",
       "    <tr>\n",
       "      <th>3</th>\n",
       "      <td>2017-12-31</td>\n",
       "      <td>18</td>\n",
       "      <td>344.0</td>\n",
       "      <td>M</td>\n",
       "      <td>25-44</td>\n",
       "      <td>WHITE</td>\n",
       "      <td>M</td>\n",
       "      <td>40.763523</td>\n",
       "      <td>-73.987074</td>\n",
       "    </tr>\n",
       "    <tr>\n",
       "      <th>4</th>\n",
       "      <td>2017-12-31</td>\n",
       "      <td>18</td>\n",
       "      <td>344.0</td>\n",
       "      <td>M</td>\n",
       "      <td>45-64</td>\n",
       "      <td>BLACK</td>\n",
       "      <td>M</td>\n",
       "      <td>40.759768</td>\n",
       "      <td>-73.989811</td>\n",
       "    </tr>\n",
       "  </tbody>\n",
       "</table>\n",
       "</div>"
      ],
      "text/plain": [
       "  ARREST_DATE  ARREST_PRECINCT  KY_CD LAW_CAT_CD AGE_GROUP  \\\n",
       "0  2017-12-31              105  678.0          V     25-44   \n",
       "1  2017-12-31              114  343.0          M     25-44   \n",
       "2  2017-12-31               73  677.0          V     18-24   \n",
       "3  2017-12-31               18  344.0          M     25-44   \n",
       "4  2017-12-31               18  344.0          M     45-64   \n",
       "\n",
       "                  PERP_RACE PERP_SEX   Latitude  Longitude  \n",
       "0                     BLACK        M  40.735772 -73.715638  \n",
       "1  ASIAN / PACIFIC ISLANDER        M  40.769437 -73.910241  \n",
       "2                     BLACK        M  40.679525 -73.904572  \n",
       "3                     WHITE        M  40.763523 -73.987074  \n",
       "4                     BLACK        M  40.759768 -73.989811  "
      ]
     },
     "execution_count": 68,
     "metadata": {},
     "output_type": "execute_result"
    }
   ],
   "source": [
    "arrests_df[USE_ARREST_COLS].head()"
   ]
  },
  {
   "cell_type": "code",
   "execution_count": null,
   "metadata": {},
   "outputs": [],
   "source": []
  },
  {
   "cell_type": "code",
   "execution_count": 50,
   "metadata": {},
   "outputs": [
    {
     "data": {
      "text/plain": [
       "(4798339, 18)"
      ]
     },
     "execution_count": 50,
     "metadata": {},
     "output_type": "execute_result"
    }
   ],
   "source": [
    "arrests_df.shape"
   ]
  },
  {
   "cell_type": "code",
   "execution_count": 51,
   "metadata": {},
   "outputs": [
    {
     "data": {
      "text/plain": [
       "(4798339,)"
      ]
     },
     "execution_count": 51,
     "metadata": {},
     "output_type": "execute_result"
    }
   ],
   "source": [
    "arrests_df.ARREST_KEY.shape"
   ]
  },
  {
   "cell_type": "code",
   "execution_count": null,
   "metadata": {},
   "outputs": [],
   "source": []
  }
 ],
 "metadata": {
  "kernelspec": {
   "display_name": "Python 3",
   "language": "python",
   "name": "python3"
  },
  "language_info": {
   "codemirror_mode": {
    "name": "ipython",
    "version": 3
   },
   "file_extension": ".py",
   "mimetype": "text/x-python",
   "name": "python",
   "nbconvert_exporter": "python",
   "pygments_lexer": "ipython3",
   "version": "3.7.3"
  }
 },
 "nbformat": 4,
 "nbformat_minor": 4
}
