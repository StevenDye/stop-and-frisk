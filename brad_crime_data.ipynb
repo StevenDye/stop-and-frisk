{
 "cells": [
  {
   "cell_type": "code",
   "execution_count": 102,
   "metadata": {},
   "outputs": [
    {
     "data": {
      "text/plain": [
       "<module 'brad_data_prep' from '/Users/brad/Documents/Scripts/flatiron/fis-mod4-project/brad_data_prep.py'>"
      ]
     },
     "execution_count": 102,
     "metadata": {},
     "output_type": "execute_result"
    }
   ],
   "source": [
    "import pandas as pd\n",
    "import brad_data_prep as dp\n",
    "import importlib\n",
    "importlib.reload(dp)"
   ]
  },
  {
   "cell_type": "markdown",
   "metadata": {},
   "source": [
    "__[Complaint data](https://data.cityofnewyork.us/Public-Safety/NYPD-Complaint-Data-Historic/qgea-i56i)__"
   ]
  },
  {
   "cell_type": "code",
   "execution_count": 103,
   "metadata": {},
   "outputs": [],
   "source": [
    "complaints_df = dp.create_complaints_df()\n",
    "arrests_df = dp.create_arrests_df()\n",
    "population_df = dp.create_population_df()"
   ]
  },
  {
   "cell_type": "code",
   "execution_count": 89,
   "metadata": {},
   "outputs": [
    {
     "data": {
      "text/plain": [
       "F    2538976\n",
       "M    2119144\n",
       "E    1067352\n",
       "D     772926\n",
       "U          2\n",
       "Name: VIC_SEX, dtype: int64"
      ]
     },
     "execution_count": 89,
     "metadata": {},
     "output_type": "execute_result"
    }
   ],
   "source": [
    "complaints_df.group"
   ]
  },
  {
   "cell_type": "code",
   "execution_count": 107,
   "metadata": {},
   "outputs": [],
   "source": [
    "df = complaints_df.groupby([complaints_df.date.dt.year, 'pct']).size().reset_index(name='counts')"
   ]
  },
  {
   "cell_type": "code",
   "execution_count": 108,
   "metadata": {},
   "outputs": [
    {
     "data": {
      "text/html": [
       "<div>\n",
       "<style scoped>\n",
       "    .dataframe tbody tr th:only-of-type {\n",
       "        vertical-align: middle;\n",
       "    }\n",
       "\n",
       "    .dataframe tbody tr th {\n",
       "        vertical-align: top;\n",
       "    }\n",
       "\n",
       "    .dataframe thead th {\n",
       "        text-align: right;\n",
       "    }\n",
       "</style>\n",
       "<table border=\"1\" class=\"dataframe\">\n",
       "  <thead>\n",
       "    <tr style=\"text-align: right;\">\n",
       "      <th></th>\n",
       "      <th>date</th>\n",
       "      <th>pct</th>\n",
       "      <th>counts</th>\n",
       "    </tr>\n",
       "  </thead>\n",
       "  <tbody>\n",
       "    <tr>\n",
       "      <th>0</th>\n",
       "      <td>2006</td>\n",
       "      <td>1</td>\n",
       "      <td>6279</td>\n",
       "    </tr>\n",
       "    <tr>\n",
       "      <th>1</th>\n",
       "      <td>2006</td>\n",
       "      <td>10</td>\n",
       "      <td>4986</td>\n",
       "    </tr>\n",
       "    <tr>\n",
       "      <th>2</th>\n",
       "      <td>2006</td>\n",
       "      <td>100</td>\n",
       "      <td>2530</td>\n",
       "    </tr>\n",
       "    <tr>\n",
       "      <th>3</th>\n",
       "      <td>2006</td>\n",
       "      <td>101</td>\n",
       "      <td>4231</td>\n",
       "    </tr>\n",
       "    <tr>\n",
       "      <th>4</th>\n",
       "      <td>2006</td>\n",
       "      <td>102</td>\n",
       "      <td>6627</td>\n",
       "    </tr>\n",
       "    <tr>\n",
       "      <th>...</th>\n",
       "      <td>...</td>\n",
       "      <td>...</td>\n",
       "      <td>...</td>\n",
       "    </tr>\n",
       "    <tr>\n",
       "      <th>989</th>\n",
       "      <td>2018</td>\n",
       "      <td>88</td>\n",
       "      <td>3700</td>\n",
       "    </tr>\n",
       "    <tr>\n",
       "      <th>990</th>\n",
       "      <td>2018</td>\n",
       "      <td>9</td>\n",
       "      <td>4996</td>\n",
       "    </tr>\n",
       "    <tr>\n",
       "      <th>991</th>\n",
       "      <td>2018</td>\n",
       "      <td>90</td>\n",
       "      <td>6426</td>\n",
       "    </tr>\n",
       "    <tr>\n",
       "      <th>992</th>\n",
       "      <td>2018</td>\n",
       "      <td>94</td>\n",
       "      <td>3788</td>\n",
       "    </tr>\n",
       "    <tr>\n",
       "      <th>993</th>\n",
       "      <td>2018</td>\n",
       "      <td>121</td>\n",
       "      <td>5957</td>\n",
       "    </tr>\n",
       "  </tbody>\n",
       "</table>\n",
       "<p>994 rows × 3 columns</p>\n",
       "</div>"
      ],
      "text/plain": [
       "     date  pct  counts\n",
       "0    2006    1    6279\n",
       "1    2006   10    4986\n",
       "2    2006  100    2530\n",
       "3    2006  101    4231\n",
       "4    2006  102    6627\n",
       "..    ...  ...     ...\n",
       "989  2018   88    3700\n",
       "990  2018    9    4996\n",
       "991  2018   90    6426\n",
       "992  2018   94    3788\n",
       "993  2018  121    5957\n",
       "\n",
       "[994 rows x 3 columns]"
      ]
     },
     "execution_count": 108,
     "metadata": {},
     "output_type": "execute_result"
    }
   ],
   "source": [
    "aggs = dp.aggregate_data()"
   ]
  },
  {
   "cell_type": "markdown",
   "metadata": {},
   "source": [
    "[Columns of interest](https://data.cityofnewyork.us/Public-Safety/NYPD-Complaint-Data-Historic/qgea-i56i):\n",
    "* RPT_DT = report date (we don't have as comprehensive coverage of CMPLNT_FR_DT)\n",
    "* ADDR_PCT_CD = precinct\n",
    "* KY_CD = offense id\n"
   ]
  },
  {
   "cell_type": "code",
   "execution_count": 58,
   "metadata": {},
   "outputs": [],
   "source": [
    "USE_COMPLAINT_COLS = ['RPT_DT','ADDR_PCT_CD','KY_CD', 'LAW_CAT_CD','SUSP_AGE_GROUP', 'SUSP_RACE', 'SUSP_SEX', 'Latitude', 'Longitude']"
   ]
  },
  {
   "cell_type": "code",
   "execution_count": 59,
   "metadata": {},
   "outputs": [
    {
     "data": {
      "text/html": [
       "<div>\n",
       "<style scoped>\n",
       "    .dataframe tbody tr th:only-of-type {\n",
       "        vertical-align: middle;\n",
       "    }\n",
       "\n",
       "    .dataframe tbody tr th {\n",
       "        vertical-align: top;\n",
       "    }\n",
       "\n",
       "    .dataframe thead th {\n",
       "        text-align: right;\n",
       "    }\n",
       "</style>\n",
       "<table border=\"1\" class=\"dataframe\">\n",
       "  <thead>\n",
       "    <tr style=\"text-align: right;\">\n",
       "      <th></th>\n",
       "      <th>RPT_DT</th>\n",
       "      <th>ADDR_PCT_CD</th>\n",
       "      <th>KY_CD</th>\n",
       "      <th>LAW_CAT_CD</th>\n",
       "      <th>SUSP_AGE_GROUP</th>\n",
       "      <th>SUSP_RACE</th>\n",
       "      <th>SUSP_SEX</th>\n",
       "      <th>Latitude</th>\n",
       "      <th>Longitude</th>\n",
       "    </tr>\n",
       "  </thead>\n",
       "  <tbody>\n",
       "    <tr>\n",
       "      <th>0</th>\n",
       "      <td>2008-04-10</td>\n",
       "      <td>73.0</td>\n",
       "      <td>341.0</td>\n",
       "      <td>MISDEMEANOR</td>\n",
       "      <td>NaN</td>\n",
       "      <td>NaN</td>\n",
       "      <td>NaN</td>\n",
       "      <td>40.669414</td>\n",
       "      <td>-73.912603</td>\n",
       "    </tr>\n",
       "    <tr>\n",
       "      <th>1</th>\n",
       "      <td>2007-06-03</td>\n",
       "      <td>28.0</td>\n",
       "      <td>236.0</td>\n",
       "      <td>MISDEMEANOR</td>\n",
       "      <td>NaN</td>\n",
       "      <td>NaN</td>\n",
       "      <td>NaN</td>\n",
       "      <td>40.801978</td>\n",
       "      <td>-73.945511</td>\n",
       "    </tr>\n",
       "    <tr>\n",
       "      <th>2</th>\n",
       "      <td>2010-02-16</td>\n",
       "      <td>102.0</td>\n",
       "      <td>105.0</td>\n",
       "      <td>FELONY</td>\n",
       "      <td>NaN</td>\n",
       "      <td>NaN</td>\n",
       "      <td>NaN</td>\n",
       "      <td>40.699990</td>\n",
       "      <td>-73.830978</td>\n",
       "    </tr>\n",
       "    <tr>\n",
       "      <th>3</th>\n",
       "      <td>2009-11-10</td>\n",
       "      <td>79.0</td>\n",
       "      <td>341.0</td>\n",
       "      <td>MISDEMEANOR</td>\n",
       "      <td>NaN</td>\n",
       "      <td>NaN</td>\n",
       "      <td>NaN</td>\n",
       "      <td>40.681005</td>\n",
       "      <td>-73.955035</td>\n",
       "    </tr>\n",
       "    <tr>\n",
       "      <th>4</th>\n",
       "      <td>2006-04-25</td>\n",
       "      <td>123.0</td>\n",
       "      <td>112.0</td>\n",
       "      <td>FELONY</td>\n",
       "      <td>NaN</td>\n",
       "      <td>NaN</td>\n",
       "      <td>NaN</td>\n",
       "      <td>NaN</td>\n",
       "      <td>NaN</td>\n",
       "    </tr>\n",
       "  </tbody>\n",
       "</table>\n",
       "</div>"
      ],
      "text/plain": [
       "      RPT_DT  ADDR_PCT_CD  KY_CD   LAW_CAT_CD SUSP_AGE_GROUP SUSP_RACE  \\\n",
       "0 2008-04-10         73.0  341.0  MISDEMEANOR            NaN       NaN   \n",
       "1 2007-06-03         28.0  236.0  MISDEMEANOR            NaN       NaN   \n",
       "2 2010-02-16        102.0  105.0       FELONY            NaN       NaN   \n",
       "3 2009-11-10         79.0  341.0  MISDEMEANOR            NaN       NaN   \n",
       "4 2006-04-25        123.0  112.0       FELONY            NaN       NaN   \n",
       "\n",
       "  SUSP_SEX   Latitude  Longitude  \n",
       "0      NaN  40.669414 -73.912603  \n",
       "1      NaN  40.801978 -73.945511  \n",
       "2      NaN  40.699990 -73.830978  \n",
       "3      NaN  40.681005 -73.955035  \n",
       "4      NaN        NaN        NaN  "
      ]
     },
     "execution_count": 59,
     "metadata": {},
     "output_type": "execute_result"
    }
   ],
   "source": [
    "complaints_df[USE_COMPLAINT_COLS].head()"
   ]
  },
  {
   "cell_type": "code",
   "execution_count": 69,
   "metadata": {},
   "outputs": [
    {
     "data": {
      "text/plain": [
       "MISDEMEANOR    600871\n",
       "FELONY         319753\n",
       "VIOLATION      125008\n",
       "Name: LAW_CAT_CD, dtype: int64"
      ]
     },
     "execution_count": 69,
     "metadata": {},
     "output_type": "execute_result"
    }
   ],
   "source": [
    "complaints_df.LAW_CAT_CD.value_counts()"
   ]
  },
  {
   "cell_type": "markdown",
   "metadata": {},
   "source": [
    "__[Arrest data](https://data.cityofnewyork.us/Public-Safety/NYPD-Arrests-Data-Historic-/8h9b-rp9u)__"
   ]
  },
  {
   "cell_type": "code",
   "execution_count": 93,
   "metadata": {},
   "outputs": [],
   "source": [
    "test_arrests_df = pd.read_csv('../data/NYPD_Arrests_Data__Historic_.csv',\n",
    "                         parse_dates=['ARREST_DATE'],\n",
    "                         nrows=1000)"
   ]
  },
  {
   "cell_type": "code",
   "execution_count": 101,
   "metadata": {},
   "outputs": [],
   "source": [
    "test_arrests_df['KY_CD'] = test_arrests_df['KY_CD'].astype('category')"
   ]
  },
  {
   "cell_type": "code",
   "execution_count": 67,
   "metadata": {},
   "outputs": [],
   "source": [
    "USE_ARREST_COLS = ['ARREST_DATE', 'ARREST_PRECINCT','KY_CD','LAW_CAT_CD','AGE_GROUP', 'PERP_RACE', 'PERP_SEX', 'Latitude', 'Longitude']"
   ]
  },
  {
   "cell_type": "code",
   "execution_count": 71,
   "metadata": {},
   "outputs": [],
   "source": [
    "arrests_df = arrests_df.replace({'LAW_CAT_CD': {'V':'VIOLATION', 'M': 'MISDEMEANOR', 'F': 'FELONY'}})"
   ]
  },
  {
   "cell_type": "code",
   "execution_count": 72,
   "metadata": {},
   "outputs": [
    {
     "data": {
      "text/html": [
       "<div>\n",
       "<style scoped>\n",
       "    .dataframe tbody tr th:only-of-type {\n",
       "        vertical-align: middle;\n",
       "    }\n",
       "\n",
       "    .dataframe tbody tr th {\n",
       "        vertical-align: top;\n",
       "    }\n",
       "\n",
       "    .dataframe thead th {\n",
       "        text-align: right;\n",
       "    }\n",
       "</style>\n",
       "<table border=\"1\" class=\"dataframe\">\n",
       "  <thead>\n",
       "    <tr style=\"text-align: right;\">\n",
       "      <th></th>\n",
       "      <th>ARREST_DATE</th>\n",
       "      <th>ARREST_PRECINCT</th>\n",
       "      <th>KY_CD</th>\n",
       "      <th>LAW_CAT_CD</th>\n",
       "      <th>AGE_GROUP</th>\n",
       "      <th>PERP_RACE</th>\n",
       "      <th>PERP_SEX</th>\n",
       "      <th>Latitude</th>\n",
       "      <th>Longitude</th>\n",
       "    </tr>\n",
       "  </thead>\n",
       "  <tbody>\n",
       "    <tr>\n",
       "      <th>0</th>\n",
       "      <td>2017-12-31</td>\n",
       "      <td>105</td>\n",
       "      <td>678.0</td>\n",
       "      <td>VIOLATION</td>\n",
       "      <td>25-44</td>\n",
       "      <td>BLACK</td>\n",
       "      <td>M</td>\n",
       "      <td>40.735772</td>\n",
       "      <td>-73.715638</td>\n",
       "    </tr>\n",
       "    <tr>\n",
       "      <th>1</th>\n",
       "      <td>2017-12-31</td>\n",
       "      <td>114</td>\n",
       "      <td>343.0</td>\n",
       "      <td>MISDEMEANOR</td>\n",
       "      <td>25-44</td>\n",
       "      <td>ASIAN / PACIFIC ISLANDER</td>\n",
       "      <td>M</td>\n",
       "      <td>40.769437</td>\n",
       "      <td>-73.910241</td>\n",
       "    </tr>\n",
       "    <tr>\n",
       "      <th>2</th>\n",
       "      <td>2017-12-31</td>\n",
       "      <td>73</td>\n",
       "      <td>677.0</td>\n",
       "      <td>VIOLATION</td>\n",
       "      <td>18-24</td>\n",
       "      <td>BLACK</td>\n",
       "      <td>M</td>\n",
       "      <td>40.679525</td>\n",
       "      <td>-73.904572</td>\n",
       "    </tr>\n",
       "    <tr>\n",
       "      <th>3</th>\n",
       "      <td>2017-12-31</td>\n",
       "      <td>18</td>\n",
       "      <td>344.0</td>\n",
       "      <td>MISDEMEANOR</td>\n",
       "      <td>25-44</td>\n",
       "      <td>WHITE</td>\n",
       "      <td>M</td>\n",
       "      <td>40.763523</td>\n",
       "      <td>-73.987074</td>\n",
       "    </tr>\n",
       "    <tr>\n",
       "      <th>4</th>\n",
       "      <td>2017-12-31</td>\n",
       "      <td>18</td>\n",
       "      <td>344.0</td>\n",
       "      <td>MISDEMEANOR</td>\n",
       "      <td>45-64</td>\n",
       "      <td>BLACK</td>\n",
       "      <td>M</td>\n",
       "      <td>40.759768</td>\n",
       "      <td>-73.989811</td>\n",
       "    </tr>\n",
       "  </tbody>\n",
       "</table>\n",
       "</div>"
      ],
      "text/plain": [
       "  ARREST_DATE  ARREST_PRECINCT  KY_CD   LAW_CAT_CD AGE_GROUP  \\\n",
       "0  2017-12-31              105  678.0    VIOLATION     25-44   \n",
       "1  2017-12-31              114  343.0  MISDEMEANOR     25-44   \n",
       "2  2017-12-31               73  677.0    VIOLATION     18-24   \n",
       "3  2017-12-31               18  344.0  MISDEMEANOR     25-44   \n",
       "4  2017-12-31               18  344.0  MISDEMEANOR     45-64   \n",
       "\n",
       "                  PERP_RACE PERP_SEX   Latitude  Longitude  \n",
       "0                     BLACK        M  40.735772 -73.715638  \n",
       "1  ASIAN / PACIFIC ISLANDER        M  40.769437 -73.910241  \n",
       "2                     BLACK        M  40.679525 -73.904572  \n",
       "3                     WHITE        M  40.763523 -73.987074  \n",
       "4                     BLACK        M  40.759768 -73.989811  "
      ]
     },
     "execution_count": 72,
     "metadata": {},
     "output_type": "execute_result"
    }
   ],
   "source": [
    "arrests_df[USE_ARREST_COLS].head()"
   ]
  },
  {
   "cell_type": "code",
   "execution_count": null,
   "metadata": {},
   "outputs": [],
   "source": []
  },
  {
   "cell_type": "code",
   "execution_count": 50,
   "metadata": {},
   "outputs": [
    {
     "data": {
      "text/plain": [
       "(4798339, 18)"
      ]
     },
     "execution_count": 50,
     "metadata": {},
     "output_type": "execute_result"
    }
   ],
   "source": [
    "arrests_df.shape"
   ]
  },
  {
   "cell_type": "code",
   "execution_count": 51,
   "metadata": {},
   "outputs": [
    {
     "data": {
      "text/plain": [
       "(4798339,)"
      ]
     },
     "execution_count": 51,
     "metadata": {},
     "output_type": "execute_result"
    }
   ],
   "source": [
    "arrests_df.ARREST_KEY.shape"
   ]
  },
  {
   "cell_type": "code",
   "execution_count": 8,
   "metadata": {},
   "outputs": [
    {
     "data": {
      "text/plain": [
       "<module 'brad_data_prep' from '/Users/brad/Documents/Scripts/flatiron/fis-mod4-project/brad_data_prep.py'>"
      ]
     },
     "execution_count": 8,
     "metadata": {},
     "output_type": "execute_result"
    }
   ],
   "source": [
    "import brad_data_prep as dp\n",
    "import importlib\n",
    "importlib.reload(dp)"
   ]
  },
  {
   "cell_type": "code",
   "execution_count": 2,
   "metadata": {},
   "outputs": [],
   "source": [
    "arrests_df = dp.create_arrests.df()\n",
    "population_df = dp.create_population_df()\n",
    "complaints_df = dp.create_complaints_df()"
   ]
  },
  {
   "cell_type": "code",
   "execution_count": 4,
   "metadata": {},
   "outputs": [],
   "source": [
    "arrests_df = dp.create_arrests_df()"
   ]
  },
  {
   "cell_type": "code",
   "execution_count": 10,
   "metadata": {},
   "outputs": [],
   "source": [
    "arrests_df = dp.load_data_df('arrests')"
   ]
  },
  {
   "cell_type": "code",
   "execution_count": 12,
   "metadata": {},
   "outputs": [
    {
     "name": "stdout",
     "output_type": "stream",
     "text": [
      "<class 'pandas.core.frame.DataFrame'>\n",
      "RangeIndex: 4798339 entries, 0 to 4798338\n",
      "Data columns (total 9 columns):\n",
      "ARREST_DATE        object\n",
      "ARREST_PRECINCT    int64\n",
      "KY_CD              float64\n",
      "LAW_CAT_CD         object\n",
      "AGE_GROUP          object\n",
      "PERP_RACE          object\n",
      "PERP_SEX           object\n",
      "Latitude           float64\n",
      "Longitude          float64\n",
      "dtypes: float64(3), int64(1), object(5)\n",
      "memory usage: 329.5+ MB\n"
     ]
    }
   ],
   "source": [
    "arrests_df.info()"
   ]
  },
  {
   "cell_type": "code",
   "execution_count": 14,
   "metadata": {},
   "outputs": [
    {
     "ename": "AttributeError",
     "evalue": "Can only use .dt accessor with datetimelike values",
     "output_type": "error",
     "traceback": [
      "\u001b[0;31m---------------------------------------------------------------------------\u001b[0m",
      "\u001b[0;31mAttributeError\u001b[0m                            Traceback (most recent call last)",
      "\u001b[0;32m<ipython-input-14-58f5409352bd>\u001b[0m in \u001b[0;36m<module>\u001b[0;34m\u001b[0m\n\u001b[0;32m----> 1\u001b[0;31m \u001b[0marrests_df\u001b[0m\u001b[0;34m.\u001b[0m\u001b[0mARREST_DATE\u001b[0m\u001b[0;34m.\u001b[0m\u001b[0mdt\u001b[0m\u001b[0;34m.\u001b[0m\u001b[0myear\u001b[0m\u001b[0;34m\u001b[0m\u001b[0;34m\u001b[0m\u001b[0m\n\u001b[0m",
      "\u001b[0;32m/usr/local/anaconda3/lib/python3.7/site-packages/pandas/core/generic.py\u001b[0m in \u001b[0;36m__getattr__\u001b[0;34m(self, name)\u001b[0m\n\u001b[1;32m   5173\u001b[0m             \u001b[0;32mor\u001b[0m \u001b[0mname\u001b[0m \u001b[0;32min\u001b[0m \u001b[0mself\u001b[0m\u001b[0;34m.\u001b[0m\u001b[0m_accessors\u001b[0m\u001b[0;34m\u001b[0m\u001b[0;34m\u001b[0m\u001b[0m\n\u001b[1;32m   5174\u001b[0m         ):\n\u001b[0;32m-> 5175\u001b[0;31m             \u001b[0;32mreturn\u001b[0m \u001b[0mobject\u001b[0m\u001b[0;34m.\u001b[0m\u001b[0m__getattribute__\u001b[0m\u001b[0;34m(\u001b[0m\u001b[0mself\u001b[0m\u001b[0;34m,\u001b[0m \u001b[0mname\u001b[0m\u001b[0;34m)\u001b[0m\u001b[0;34m\u001b[0m\u001b[0;34m\u001b[0m\u001b[0m\n\u001b[0m\u001b[1;32m   5176\u001b[0m         \u001b[0;32melse\u001b[0m\u001b[0;34m:\u001b[0m\u001b[0;34m\u001b[0m\u001b[0;34m\u001b[0m\u001b[0m\n\u001b[1;32m   5177\u001b[0m             \u001b[0;32mif\u001b[0m \u001b[0mself\u001b[0m\u001b[0;34m.\u001b[0m\u001b[0m_info_axis\u001b[0m\u001b[0;34m.\u001b[0m\u001b[0m_can_hold_identifiers_and_holds_name\u001b[0m\u001b[0;34m(\u001b[0m\u001b[0mname\u001b[0m\u001b[0;34m)\u001b[0m\u001b[0;34m:\u001b[0m\u001b[0;34m\u001b[0m\u001b[0;34m\u001b[0m\u001b[0m\n",
      "\u001b[0;32m/usr/local/anaconda3/lib/python3.7/site-packages/pandas/core/accessor.py\u001b[0m in \u001b[0;36m__get__\u001b[0;34m(self, obj, cls)\u001b[0m\n\u001b[1;32m    173\u001b[0m             \u001b[0;31m# we're accessing the attribute of the class, i.e., Dataset.geo\u001b[0m\u001b[0;34m\u001b[0m\u001b[0;34m\u001b[0m\u001b[0;34m\u001b[0m\u001b[0m\n\u001b[1;32m    174\u001b[0m             \u001b[0;32mreturn\u001b[0m \u001b[0mself\u001b[0m\u001b[0;34m.\u001b[0m\u001b[0m_accessor\u001b[0m\u001b[0;34m\u001b[0m\u001b[0;34m\u001b[0m\u001b[0m\n\u001b[0;32m--> 175\u001b[0;31m         \u001b[0maccessor_obj\u001b[0m \u001b[0;34m=\u001b[0m \u001b[0mself\u001b[0m\u001b[0;34m.\u001b[0m\u001b[0m_accessor\u001b[0m\u001b[0;34m(\u001b[0m\u001b[0mobj\u001b[0m\u001b[0;34m)\u001b[0m\u001b[0;34m\u001b[0m\u001b[0;34m\u001b[0m\u001b[0m\n\u001b[0m\u001b[1;32m    176\u001b[0m         \u001b[0;31m# Replace the property with the accessor object. Inspired by:\u001b[0m\u001b[0;34m\u001b[0m\u001b[0;34m\u001b[0m\u001b[0;34m\u001b[0m\u001b[0m\n\u001b[1;32m    177\u001b[0m         \u001b[0;31m# http://www.pydanny.com/cached-property.html\u001b[0m\u001b[0;34m\u001b[0m\u001b[0;34m\u001b[0m\u001b[0;34m\u001b[0m\u001b[0m\n",
      "\u001b[0;32m/usr/local/anaconda3/lib/python3.7/site-packages/pandas/core/indexes/accessors.py\u001b[0m in \u001b[0;36m__new__\u001b[0;34m(cls, data)\u001b[0m\n\u001b[1;32m    341\u001b[0m             \u001b[0;32mpass\u001b[0m  \u001b[0;31m# we raise an attribute error anyway\u001b[0m\u001b[0;34m\u001b[0m\u001b[0;34m\u001b[0m\u001b[0m\n\u001b[1;32m    342\u001b[0m \u001b[0;34m\u001b[0m\u001b[0m\n\u001b[0;32m--> 343\u001b[0;31m         \u001b[0;32mraise\u001b[0m \u001b[0mAttributeError\u001b[0m\u001b[0;34m(\u001b[0m\u001b[0;34m\"Can only use .dt accessor with datetimelike \"\u001b[0m \u001b[0;34m\"values\"\u001b[0m\u001b[0;34m)\u001b[0m\u001b[0;34m\u001b[0m\u001b[0;34m\u001b[0m\u001b[0m\n\u001b[0m",
      "\u001b[0;31mAttributeError\u001b[0m: Can only use .dt accessor with datetimelike values"
     ]
    }
   ],
   "source": [
    "arrests_df.ARREST_DATE.dt.year"
   ]
  },
  {
   "cell_type": "code",
   "execution_count": 97,
   "metadata": {},
   "outputs": [
    {
     "data": {
      "text/html": [
       "<div>\n",
       "<style scoped>\n",
       "    .dataframe tbody tr th:only-of-type {\n",
       "        vertical-align: middle;\n",
       "    }\n",
       "\n",
       "    .dataframe tbody tr th {\n",
       "        vertical-align: top;\n",
       "    }\n",
       "\n",
       "    .dataframe thead th {\n",
       "        text-align: right;\n",
       "    }\n",
       "</style>\n",
       "<table border=\"1\" class=\"dataframe\">\n",
       "  <thead>\n",
       "    <tr style=\"text-align: right;\">\n",
       "      <th></th>\n",
       "      <th>INTPTLAT</th>\n",
       "      <th>INTPTLON</th>\n",
       "      <th>population</th>\n",
       "    </tr>\n",
       "    <tr>\n",
       "      <th>precinct</th>\n",
       "      <th></th>\n",
       "      <th></th>\n",
       "      <th></th>\n",
       "    </tr>\n",
       "  </thead>\n",
       "  <tbody>\n",
       "    <tr>\n",
       "      <th>1</th>\n",
       "      <td>40.712577</td>\n",
       "      <td>-74.009307</td>\n",
       "      <td>66679</td>\n",
       "    </tr>\n",
       "    <tr>\n",
       "      <th>5</th>\n",
       "      <td>40.715882</td>\n",
       "      <td>-73.997886</td>\n",
       "      <td>52568</td>\n",
       "    </tr>\n",
       "    <tr>\n",
       "      <th>6</th>\n",
       "      <td>40.733690</td>\n",
       "      <td>-74.002875</td>\n",
       "      <td>62226</td>\n",
       "    </tr>\n",
       "    <tr>\n",
       "      <th>7</th>\n",
       "      <td>40.715589</td>\n",
       "      <td>-73.984989</td>\n",
       "      <td>56355</td>\n",
       "    </tr>\n",
       "    <tr>\n",
       "      <th>9</th>\n",
       "      <td>40.726153</td>\n",
       "      <td>-73.984156</td>\n",
       "      <td>76443</td>\n",
       "    </tr>\n",
       "    <tr>\n",
       "      <th>...</th>\n",
       "      <td>...</td>\n",
       "      <td>...</td>\n",
       "      <td>...</td>\n",
       "    </tr>\n",
       "    <tr>\n",
       "      <th>114</th>\n",
       "      <td>40.766243</td>\n",
       "      <td>-73.918468</td>\n",
       "      <td>202766</td>\n",
       "    </tr>\n",
       "    <tr>\n",
       "      <th>115</th>\n",
       "      <td>40.758579</td>\n",
       "      <td>-73.877395</td>\n",
       "      <td>171576</td>\n",
       "    </tr>\n",
       "    <tr>\n",
       "      <th>120</th>\n",
       "      <td>40.624357</td>\n",
       "      <td>-74.114878</td>\n",
       "      <td>175876</td>\n",
       "    </tr>\n",
       "    <tr>\n",
       "      <th>122</th>\n",
       "      <td>40.580883</td>\n",
       "      <td>-74.125505</td>\n",
       "      <td>194822</td>\n",
       "    </tr>\n",
       "    <tr>\n",
       "      <th>123</th>\n",
       "      <td>40.533685</td>\n",
       "      <td>-74.199619</td>\n",
       "      <td>98032</td>\n",
       "    </tr>\n",
       "  </tbody>\n",
       "</table>\n",
       "<p>76 rows × 3 columns</p>\n",
       "</div>"
      ],
      "text/plain": [
       "           INTPTLAT   INTPTLON  population\n",
       "precinct                                  \n",
       "1         40.712577 -74.009307       66679\n",
       "5         40.715882 -73.997886       52568\n",
       "6         40.733690 -74.002875       62226\n",
       "7         40.715589 -73.984989       56355\n",
       "9         40.726153 -73.984156       76443\n",
       "...             ...        ...         ...\n",
       "114       40.766243 -73.918468      202766\n",
       "115       40.758579 -73.877395      171576\n",
       "120       40.624357 -74.114878      175876\n",
       "122       40.580883 -74.125505      194822\n",
       "123       40.533685 -74.199619       98032\n",
       "\n",
       "[76 rows x 3 columns]"
      ]
     },
     "execution_count": 97,
     "metadata": {},
     "output_type": "execute_result"
    }
   ],
   "source": [
    "population_df.groupby('precinct').agg({'INTPTLAT':'mean', \n",
    "                         'INTPTLON':'mean', \n",
    "                         'population':'sum'})"
   ]
  },
  {
   "cell_type": "code",
   "execution_count": null,
   "metadata": {},
   "outputs": [],
   "source": []
  }
 ],
 "metadata": {
  "kernelspec": {
   "display_name": "Python 3",
   "language": "python",
   "name": "python3"
  },
  "language_info": {
   "codemirror_mode": {
    "name": "ipython",
    "version": 3
   },
   "file_extension": ".py",
   "mimetype": "text/x-python",
   "name": "python",
   "nbconvert_exporter": "python",
   "pygments_lexer": "ipython3",
   "version": "3.7.3"
  }
 },
 "nbformat": 4,
 "nbformat_minor": 4
}
